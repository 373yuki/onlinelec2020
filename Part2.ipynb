{
 "cells": [
  {
   "cell_type": "markdown",
   "metadata": {},
   "source": [
    "# Pythonで学ぶ制御工学 Part2"
   ]
  },
  {
   "cell_type": "markdown",
   "metadata": {},
   "source": [
    "### 今日の目標\n",
    "* 閉ループ系の安定性をPythonでチェックできる\n",
    "* PID制御系の応答特性（時間・周波数）のグラフをPythonで描ける"
   ]
  },
  {
   "cell_type": "code",
   "execution_count": 430,
   "metadata": {},
   "outputs": [
    {
     "data": {
      "text/html": [
       "\n",
       "    <div class=\"bk-root\">\n",
       "        <a href=\"https://bokeh.org\" target=\"_blank\" class=\"bk-logo bk-logo-small bk-logo-notebook\"></a>\n",
       "        <span id=\"1314\">Loading BokehJS ...</span>\n",
       "    </div>"
      ]
     },
     "metadata": {},
     "output_type": "display_data"
    },
    {
     "data": {
      "application/javascript": [
       "\n",
       "(function(root) {\n",
       "  function now() {\n",
       "    return new Date();\n",
       "  }\n",
       "\n",
       "  var force = true;\n",
       "\n",
       "  if (typeof root._bokeh_onload_callbacks === \"undefined\" || force === true) {\n",
       "    root._bokeh_onload_callbacks = [];\n",
       "    root._bokeh_is_loading = undefined;\n",
       "  }\n",
       "\n",
       "  var JS_MIME_TYPE = 'application/javascript';\n",
       "  var HTML_MIME_TYPE = 'text/html';\n",
       "  var EXEC_MIME_TYPE = 'application/vnd.bokehjs_exec.v0+json';\n",
       "  var CLASS_NAME = 'output_bokeh rendered_html';\n",
       "\n",
       "  /**\n",
       "   * Render data to the DOM node\n",
       "   */\n",
       "  function render(props, node) {\n",
       "    var script = document.createElement(\"script\");\n",
       "    node.appendChild(script);\n",
       "  }\n",
       "\n",
       "  /**\n",
       "   * Handle when an output is cleared or removed\n",
       "   */\n",
       "  function handleClearOutput(event, handle) {\n",
       "    var cell = handle.cell;\n",
       "\n",
       "    var id = cell.output_area._bokeh_element_id;\n",
       "    var server_id = cell.output_area._bokeh_server_id;\n",
       "    // Clean up Bokeh references\n",
       "    if (id != null && id in Bokeh.index) {\n",
       "      Bokeh.index[id].model.document.clear();\n",
       "      delete Bokeh.index[id];\n",
       "    }\n",
       "\n",
       "    if (server_id !== undefined) {\n",
       "      // Clean up Bokeh references\n",
       "      var cmd = \"from bokeh.io.state import curstate; print(curstate().uuid_to_server['\" + server_id + \"'].get_sessions()[0].document.roots[0]._id)\";\n",
       "      cell.notebook.kernel.execute(cmd, {\n",
       "        iopub: {\n",
       "          output: function(msg) {\n",
       "            var id = msg.content.text.trim();\n",
       "            if (id in Bokeh.index) {\n",
       "              Bokeh.index[id].model.document.clear();\n",
       "              delete Bokeh.index[id];\n",
       "            }\n",
       "          }\n",
       "        }\n",
       "      });\n",
       "      // Destroy server and session\n",
       "      var cmd = \"import bokeh.io.notebook as ion; ion.destroy_server('\" + server_id + \"')\";\n",
       "      cell.notebook.kernel.execute(cmd);\n",
       "    }\n",
       "  }\n",
       "\n",
       "  /**\n",
       "   * Handle when a new output is added\n",
       "   */\n",
       "  function handleAddOutput(event, handle) {\n",
       "    var output_area = handle.output_area;\n",
       "    var output = handle.output;\n",
       "\n",
       "    // limit handleAddOutput to display_data with EXEC_MIME_TYPE content only\n",
       "    if ((output.output_type != \"display_data\") || (!output.data.hasOwnProperty(EXEC_MIME_TYPE))) {\n",
       "      return\n",
       "    }\n",
       "\n",
       "    var toinsert = output_area.element.find(\".\" + CLASS_NAME.split(' ')[0]);\n",
       "\n",
       "    if (output.metadata[EXEC_MIME_TYPE][\"id\"] !== undefined) {\n",
       "      toinsert[toinsert.length - 1].firstChild.textContent = output.data[JS_MIME_TYPE];\n",
       "      // store reference to embed id on output_area\n",
       "      output_area._bokeh_element_id = output.metadata[EXEC_MIME_TYPE][\"id\"];\n",
       "    }\n",
       "    if (output.metadata[EXEC_MIME_TYPE][\"server_id\"] !== undefined) {\n",
       "      var bk_div = document.createElement(\"div\");\n",
       "      bk_div.innerHTML = output.data[HTML_MIME_TYPE];\n",
       "      var script_attrs = bk_div.children[0].attributes;\n",
       "      for (var i = 0; i < script_attrs.length; i++) {\n",
       "        toinsert[toinsert.length - 1].firstChild.setAttribute(script_attrs[i].name, script_attrs[i].value);\n",
       "      }\n",
       "      // store reference to server id on output_area\n",
       "      output_area._bokeh_server_id = output.metadata[EXEC_MIME_TYPE][\"server_id\"];\n",
       "    }\n",
       "  }\n",
       "\n",
       "  function register_renderer(events, OutputArea) {\n",
       "\n",
       "    function append_mime(data, metadata, element) {\n",
       "      // create a DOM node to render to\n",
       "      var toinsert = this.create_output_subarea(\n",
       "        metadata,\n",
       "        CLASS_NAME,\n",
       "        EXEC_MIME_TYPE\n",
       "      );\n",
       "      this.keyboard_manager.register_events(toinsert);\n",
       "      // Render to node\n",
       "      var props = {data: data, metadata: metadata[EXEC_MIME_TYPE]};\n",
       "      render(props, toinsert[toinsert.length - 1]);\n",
       "      element.append(toinsert);\n",
       "      return toinsert\n",
       "    }\n",
       "\n",
       "    /* Handle when an output is cleared or removed */\n",
       "    events.on('clear_output.CodeCell', handleClearOutput);\n",
       "    events.on('delete.Cell', handleClearOutput);\n",
       "\n",
       "    /* Handle when a new output is added */\n",
       "    events.on('output_added.OutputArea', handleAddOutput);\n",
       "\n",
       "    /**\n",
       "     * Register the mime type and append_mime function with output_area\n",
       "     */\n",
       "    OutputArea.prototype.register_mime_type(EXEC_MIME_TYPE, append_mime, {\n",
       "      /* Is output safe? */\n",
       "      safe: true,\n",
       "      /* Index of renderer in `output_area.display_order` */\n",
       "      index: 0\n",
       "    });\n",
       "  }\n",
       "\n",
       "  // register the mime type if in Jupyter Notebook environment and previously unregistered\n",
       "  if (root.Jupyter !== undefined) {\n",
       "    var events = require('base/js/events');\n",
       "    var OutputArea = require('notebook/js/outputarea').OutputArea;\n",
       "\n",
       "    if (OutputArea.prototype.mime_types().indexOf(EXEC_MIME_TYPE) == -1) {\n",
       "      register_renderer(events, OutputArea);\n",
       "    }\n",
       "  }\n",
       "\n",
       "  \n",
       "  if (typeof (root._bokeh_timeout) === \"undefined\" || force === true) {\n",
       "    root._bokeh_timeout = Date.now() + 5000;\n",
       "    root._bokeh_failed_load = false;\n",
       "  }\n",
       "\n",
       "  var NB_LOAD_WARNING = {'data': {'text/html':\n",
       "     \"<div style='background-color: #fdd'>\\n\"+\n",
       "     \"<p>\\n\"+\n",
       "     \"BokehJS does not appear to have successfully loaded. If loading BokehJS from CDN, this \\n\"+\n",
       "     \"may be due to a slow or bad network connection. Possible fixes:\\n\"+\n",
       "     \"</p>\\n\"+\n",
       "     \"<ul>\\n\"+\n",
       "     \"<li>re-rerun `output_notebook()` to attempt to load from CDN again, or</li>\\n\"+\n",
       "     \"<li>use INLINE resources instead, as so:</li>\\n\"+\n",
       "     \"</ul>\\n\"+\n",
       "     \"<code>\\n\"+\n",
       "     \"from bokeh.resources import INLINE\\n\"+\n",
       "     \"output_notebook(resources=INLINE)\\n\"+\n",
       "     \"</code>\\n\"+\n",
       "     \"</div>\"}};\n",
       "\n",
       "  function display_loaded() {\n",
       "    var el = document.getElementById(\"1314\");\n",
       "    if (el != null) {\n",
       "      el.textContent = \"BokehJS is loading...\";\n",
       "    }\n",
       "    if (root.Bokeh !== undefined) {\n",
       "      if (el != null) {\n",
       "        el.textContent = \"BokehJS \" + root.Bokeh.version + \" successfully loaded.\";\n",
       "      }\n",
       "    } else if (Date.now() < root._bokeh_timeout) {\n",
       "      setTimeout(display_loaded, 100)\n",
       "    }\n",
       "  }\n",
       "\n",
       "\n",
       "  function run_callbacks() {\n",
       "    try {\n",
       "      root._bokeh_onload_callbacks.forEach(function(callback) {\n",
       "        if (callback != null)\n",
       "          callback();\n",
       "      });\n",
       "    } finally {\n",
       "      delete root._bokeh_onload_callbacks\n",
       "    }\n",
       "    console.debug(\"Bokeh: all callbacks have finished\");\n",
       "  }\n",
       "\n",
       "  function load_libs(css_urls, js_urls, callback) {\n",
       "    if (css_urls == null) css_urls = [];\n",
       "    if (js_urls == null) js_urls = [];\n",
       "\n",
       "    root._bokeh_onload_callbacks.push(callback);\n",
       "    if (root._bokeh_is_loading > 0) {\n",
       "      console.debug(\"Bokeh: BokehJS is being loaded, scheduling callback at\", now());\n",
       "      return null;\n",
       "    }\n",
       "    if (js_urls == null || js_urls.length === 0) {\n",
       "      run_callbacks();\n",
       "      return null;\n",
       "    }\n",
       "    console.debug(\"Bokeh: BokehJS not loaded, scheduling load and callback at\", now());\n",
       "    root._bokeh_is_loading = css_urls.length + js_urls.length;\n",
       "\n",
       "    function on_load() {\n",
       "      root._bokeh_is_loading--;\n",
       "      if (root._bokeh_is_loading === 0) {\n",
       "        console.debug(\"Bokeh: all BokehJS libraries/stylesheets loaded\");\n",
       "        run_callbacks()\n",
       "      }\n",
       "    }\n",
       "\n",
       "    function on_error() {\n",
       "      console.error(\"failed to load \" + url);\n",
       "    }\n",
       "\n",
       "    for (var i = 0; i < css_urls.length; i++) {\n",
       "      var url = css_urls[i];\n",
       "      const element = document.createElement(\"link\");\n",
       "      element.onload = on_load;\n",
       "      element.onerror = on_error;\n",
       "      element.rel = \"stylesheet\";\n",
       "      element.type = \"text/css\";\n",
       "      element.href = url;\n",
       "      console.debug(\"Bokeh: injecting link tag for BokehJS stylesheet: \", url);\n",
       "      document.body.appendChild(element);\n",
       "    }\n",
       "\n",
       "    for (var i = 0; i < js_urls.length; i++) {\n",
       "      var url = js_urls[i];\n",
       "      var element = document.createElement('script');\n",
       "      element.onload = on_load;\n",
       "      element.onerror = on_error;\n",
       "      element.async = false;\n",
       "      element.src = url;\n",
       "      console.debug(\"Bokeh: injecting script tag for BokehJS library: \", url);\n",
       "      document.head.appendChild(element);\n",
       "    }\n",
       "  };var element = document.getElementById(\"1314\");\n",
       "  if (element == null) {\n",
       "    console.error(\"Bokeh: ERROR: autoload.js configured with elementid '1314' but no matching script tag was found. \")\n",
       "    return false;\n",
       "  }\n",
       "\n",
       "  function inject_raw_css(css) {\n",
       "    const element = document.createElement(\"style\");\n",
       "    element.appendChild(document.createTextNode(css));\n",
       "    document.body.appendChild(element);\n",
       "  }\n",
       "\n",
       "  \n",
       "  var js_urls = [\"https://cdn.pydata.org/bokeh/release/bokeh-1.4.0.min.js\", \"https://cdn.pydata.org/bokeh/release/bokeh-widgets-1.4.0.min.js\", \"https://cdn.pydata.org/bokeh/release/bokeh-tables-1.4.0.min.js\", \"https://cdn.pydata.org/bokeh/release/bokeh-gl-1.4.0.min.js\"];\n",
       "  var css_urls = [];\n",
       "  \n",
       "\n",
       "  var inline_js = [\n",
       "    function(Bokeh) {\n",
       "      Bokeh.set_log_level(\"info\");\n",
       "    },\n",
       "    function(Bokeh) {\n",
       "    \n",
       "    \n",
       "    }\n",
       "  ];\n",
       "\n",
       "  function run_inline_js() {\n",
       "    \n",
       "    if (root.Bokeh !== undefined || force === true) {\n",
       "      \n",
       "    for (var i = 0; i < inline_js.length; i++) {\n",
       "      inline_js[i].call(root, root.Bokeh);\n",
       "    }\n",
       "    if (force === true) {\n",
       "        display_loaded();\n",
       "      }} else if (Date.now() < root._bokeh_timeout) {\n",
       "      setTimeout(run_inline_js, 100);\n",
       "    } else if (!root._bokeh_failed_load) {\n",
       "      console.log(\"Bokeh: BokehJS failed to load within specified timeout.\");\n",
       "      root._bokeh_failed_load = true;\n",
       "    } else if (force !== true) {\n",
       "      var cell = $(document.getElementById(\"1314\")).parents('.cell').data().cell;\n",
       "      cell.output_area.append_execute_result(NB_LOAD_WARNING)\n",
       "    }\n",
       "\n",
       "  }\n",
       "\n",
       "  if (root._bokeh_is_loading === 0) {\n",
       "    console.debug(\"Bokeh: BokehJS loaded, going straight to plotting\");\n",
       "    run_inline_js();\n",
       "  } else {\n",
       "    load_libs(css_urls, js_urls, function() {\n",
       "      console.debug(\"Bokeh: BokehJS plotting callback run at\", now());\n",
       "      run_inline_js();\n",
       "    });\n",
       "  }\n",
       "}(window));"
      ],
      "application/vnd.bokehjs_load.v0+json": "\n(function(root) {\n  function now() {\n    return new Date();\n  }\n\n  var force = true;\n\n  if (typeof root._bokeh_onload_callbacks === \"undefined\" || force === true) {\n    root._bokeh_onload_callbacks = [];\n    root._bokeh_is_loading = undefined;\n  }\n\n  \n\n  \n  if (typeof (root._bokeh_timeout) === \"undefined\" || force === true) {\n    root._bokeh_timeout = Date.now() + 5000;\n    root._bokeh_failed_load = false;\n  }\n\n  var NB_LOAD_WARNING = {'data': {'text/html':\n     \"<div style='background-color: #fdd'>\\n\"+\n     \"<p>\\n\"+\n     \"BokehJS does not appear to have successfully loaded. If loading BokehJS from CDN, this \\n\"+\n     \"may be due to a slow or bad network connection. Possible fixes:\\n\"+\n     \"</p>\\n\"+\n     \"<ul>\\n\"+\n     \"<li>re-rerun `output_notebook()` to attempt to load from CDN again, or</li>\\n\"+\n     \"<li>use INLINE resources instead, as so:</li>\\n\"+\n     \"</ul>\\n\"+\n     \"<code>\\n\"+\n     \"from bokeh.resources import INLINE\\n\"+\n     \"output_notebook(resources=INLINE)\\n\"+\n     \"</code>\\n\"+\n     \"</div>\"}};\n\n  function display_loaded() {\n    var el = document.getElementById(\"1314\");\n    if (el != null) {\n      el.textContent = \"BokehJS is loading...\";\n    }\n    if (root.Bokeh !== undefined) {\n      if (el != null) {\n        el.textContent = \"BokehJS \" + root.Bokeh.version + \" successfully loaded.\";\n      }\n    } else if (Date.now() < root._bokeh_timeout) {\n      setTimeout(display_loaded, 100)\n    }\n  }\n\n\n  function run_callbacks() {\n    try {\n      root._bokeh_onload_callbacks.forEach(function(callback) {\n        if (callback != null)\n          callback();\n      });\n    } finally {\n      delete root._bokeh_onload_callbacks\n    }\n    console.debug(\"Bokeh: all callbacks have finished\");\n  }\n\n  function load_libs(css_urls, js_urls, callback) {\n    if (css_urls == null) css_urls = [];\n    if (js_urls == null) js_urls = [];\n\n    root._bokeh_onload_callbacks.push(callback);\n    if (root._bokeh_is_loading > 0) {\n      console.debug(\"Bokeh: BokehJS is being loaded, scheduling callback at\", now());\n      return null;\n    }\n    if (js_urls == null || js_urls.length === 0) {\n      run_callbacks();\n      return null;\n    }\n    console.debug(\"Bokeh: BokehJS not loaded, scheduling load and callback at\", now());\n    root._bokeh_is_loading = css_urls.length + js_urls.length;\n\n    function on_load() {\n      root._bokeh_is_loading--;\n      if (root._bokeh_is_loading === 0) {\n        console.debug(\"Bokeh: all BokehJS libraries/stylesheets loaded\");\n        run_callbacks()\n      }\n    }\n\n    function on_error() {\n      console.error(\"failed to load \" + url);\n    }\n\n    for (var i = 0; i < css_urls.length; i++) {\n      var url = css_urls[i];\n      const element = document.createElement(\"link\");\n      element.onload = on_load;\n      element.onerror = on_error;\n      element.rel = \"stylesheet\";\n      element.type = \"text/css\";\n      element.href = url;\n      console.debug(\"Bokeh: injecting link tag for BokehJS stylesheet: \", url);\n      document.body.appendChild(element);\n    }\n\n    for (var i = 0; i < js_urls.length; i++) {\n      var url = js_urls[i];\n      var element = document.createElement('script');\n      element.onload = on_load;\n      element.onerror = on_error;\n      element.async = false;\n      element.src = url;\n      console.debug(\"Bokeh: injecting script tag for BokehJS library: \", url);\n      document.head.appendChild(element);\n    }\n  };var element = document.getElementById(\"1314\");\n  if (element == null) {\n    console.error(\"Bokeh: ERROR: autoload.js configured with elementid '1314' but no matching script tag was found. \")\n    return false;\n  }\n\n  function inject_raw_css(css) {\n    const element = document.createElement(\"style\");\n    element.appendChild(document.createTextNode(css));\n    document.body.appendChild(element);\n  }\n\n  \n  var js_urls = [\"https://cdn.pydata.org/bokeh/release/bokeh-1.4.0.min.js\", \"https://cdn.pydata.org/bokeh/release/bokeh-widgets-1.4.0.min.js\", \"https://cdn.pydata.org/bokeh/release/bokeh-tables-1.4.0.min.js\", \"https://cdn.pydata.org/bokeh/release/bokeh-gl-1.4.0.min.js\"];\n  var css_urls = [];\n  \n\n  var inline_js = [\n    function(Bokeh) {\n      Bokeh.set_log_level(\"info\");\n    },\n    function(Bokeh) {\n    \n    \n    }\n  ];\n\n  function run_inline_js() {\n    \n    if (root.Bokeh !== undefined || force === true) {\n      \n    for (var i = 0; i < inline_js.length; i++) {\n      inline_js[i].call(root, root.Bokeh);\n    }\n    if (force === true) {\n        display_loaded();\n      }} else if (Date.now() < root._bokeh_timeout) {\n      setTimeout(run_inline_js, 100);\n    } else if (!root._bokeh_failed_load) {\n      console.log(\"Bokeh: BokehJS failed to load within specified timeout.\");\n      root._bokeh_failed_load = true;\n    } else if (force !== true) {\n      var cell = $(document.getElementById(\"1314\")).parents('.cell').data().cell;\n      cell.output_area.append_execute_result(NB_LOAD_WARNING)\n    }\n\n  }\n\n  if (root._bokeh_is_loading === 0) {\n    console.debug(\"Bokeh: BokehJS loaded, going straight to plotting\");\n    run_inline_js();\n  } else {\n    load_libs(css_urls, js_urls, function() {\n      console.debug(\"Bokeh: BokehJS plotting callback run at\", now());\n      run_inline_js();\n    });\n  }\n}(window));"
     },
     "metadata": {},
     "output_type": "display_data"
    },
    {
     "data": {
      "text/html": [
       "\n",
       "\n",
       "\n",
       "\n",
       "\n",
       "\n",
       "  <div class=\"bk-root\" id=\"a2e8a7b4-5396-4e18-9a6a-0cc66862b43f\" data-root-id=\"1438\"></div>\n"
      ]
     },
     "metadata": {},
     "output_type": "display_data"
    },
    {
     "data": {
      "application/javascript": [
       "(function(root) {\n",
       "  function embed_document(root) {\n",
       "    \n",
       "  var docs_json = {\"682702c4-572c-43ce-acb2-c650a2197b40\":{\"roots\":{\"references\":[{\"attributes\":{\"children\":[{\"id\":\"1437\",\"type\":\"Row\"},{\"id\":\"1383\",\"subtype\":\"Figure\",\"type\":\"Plot\"}]},\"id\":\"1438\",\"type\":\"Column\"},{\"attributes\":{\"overlay\":{\"id\":\"1487\",\"type\":\"BoxAnnotation\"}},\"id\":\"1338\",\"type\":\"BoxZoomTool\"},{\"attributes\":{},\"id\":\"1392\",\"type\":\"LinearScale\"},{\"attributes\":{\"children\":[{\"id\":\"1315\",\"subtype\":\"Figure\",\"type\":\"Plot\"},{\"id\":\"1349\",\"subtype\":\"Figure\",\"type\":\"Plot\"}]},\"id\":\"1437\",\"type\":\"Row\"},{\"attributes\":{},\"id\":\"1332\",\"type\":\"BasicTicker\"},{\"attributes\":{\"line_alpha\":0.1,\"line_color\":\"#1f77b4\",\"line_width\":3,\"x\":{\"field\":\"x\"},\"y\":{\"field\":\"y\"}},\"id\":\"1434\",\"type\":\"Line\"},{\"attributes\":{\"data_source\":{\"id\":\"1432\",\"type\":\"ColumnDataSource\"},\"glyph\":{\"id\":\"1433\",\"type\":\"Line\"},\"hover_glyph\":null,\"muted_glyph\":null,\"nonselection_glyph\":{\"id\":\"1434\",\"type\":\"Line\"},\"selection_glyph\":null,\"view\":{\"id\":\"1436\",\"type\":\"CDSView\"}},\"id\":\"1435\",\"type\":\"GlyphRenderer\"},{\"attributes\":{\"axis_label\":\"$w [rad/s]\",\"formatter\":{\"id\":\"1468\",\"type\":\"LogTickFormatter\"},\"ticker\":{\"id\":\"1395\",\"type\":\"LogTicker\"}},\"id\":\"1394\",\"type\":\"LogAxis\"},{\"attributes\":{},\"id\":\"1470\",\"type\":\"BasicTickFormatter\"},{\"attributes\":{},\"id\":\"1400\",\"type\":\"BasicTicker\"},{\"attributes\":{\"axis_label\":\"y\",\"formatter\":{\"id\":\"1474\",\"type\":\"BasicTickFormatter\"},\"ticker\":{\"id\":\"1332\",\"type\":\"BasicTicker\"}},\"id\":\"1331\",\"type\":\"LinearAxis\"},{\"attributes\":{\"num_minor_ticks\":10},\"id\":\"1395\",\"type\":\"LogTicker\"},{\"attributes\":{\"source\":{\"id\":\"1432\",\"type\":\"ColumnDataSource\"}},\"id\":\"1436\",\"type\":\"CDSView\"},{\"attributes\":{\"ticker\":{\"id\":\"1395\",\"type\":\"LogTicker\"}},\"id\":\"1398\",\"type\":\"Grid\"},{\"attributes\":{},\"id\":\"1341\",\"type\":\"HelpTool\"},{\"attributes\":{\"dimension\":1,\"ticker\":{\"id\":\"1400\",\"type\":\"BasicTicker\"}},\"id\":\"1403\",\"type\":\"Grid\"},{\"attributes\":{},\"id\":\"1374\",\"type\":\"ResetTool\"},{\"attributes\":{\"axis_label\":\"Gain [dB]\",\"formatter\":{\"id\":\"1470\",\"type\":\"BasicTickFormatter\"},\"ticker\":{\"id\":\"1400\",\"type\":\"BasicTicker\"}},\"id\":\"1399\",\"type\":\"LinearAxis\"},{\"attributes\":{\"ticker\":null},\"id\":\"1468\",\"type\":\"LogTickFormatter\"},{\"attributes\":{\"text\":\"Pole\"},\"id\":\"1350\",\"type\":\"Title\"},{\"attributes\":{\"line_alpha\":0.1,\"line_color\":\"#1f77b4\",\"x\":{\"field\":\"x\"},\"y\":{\"field\":\"y\"}},\"id\":\"1419\",\"type\":\"Line\"},{\"attributes\":{},\"id\":\"1472\",\"type\":\"BasicTickFormatter\"},{\"attributes\":{\"source\":{\"id\":\"1417\",\"type\":\"ColumnDataSource\"}},\"id\":\"1421\",\"type\":\"CDSView\"},{\"attributes\":{},\"id\":\"1474\",\"type\":\"BasicTickFormatter\"},{\"attributes\":{\"active_drag\":\"auto\",\"active_inspect\":\"auto\",\"active_multi\":null,\"active_scroll\":\"auto\",\"active_tap\":\"auto\",\"tools\":[{\"id\":\"1404\",\"type\":\"PanTool\"},{\"id\":\"1405\",\"type\":\"WheelZoomTool\"},{\"id\":\"1406\",\"type\":\"BoxZoomTool\"},{\"id\":\"1407\",\"type\":\"SaveTool\"},{\"id\":\"1408\",\"type\":\"ResetTool\"},{\"id\":\"1409\",\"type\":\"HelpTool\"}]},\"id\":\"1410\",\"type\":\"Toolbar\"},{\"attributes\":{\"axis_label\":\"Re\",\"formatter\":{\"id\":\"1476\",\"type\":\"BasicTickFormatter\"},\"ticker\":{\"id\":\"1361\",\"type\":\"BasicTicker\"}},\"id\":\"1360\",\"type\":\"LinearAxis\"},{\"attributes\":{\"callback\":null,\"data\":{\"x\":{\"__ndarray__\":\"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\",\"dtype\":\"float64\",\"shape\":[500]},\"y\":[0,1,1,1,1,1,1,1,1,1,1,1,1,1,1,1,1,1,1,1,1,1,1,1,1,1,1,1,1,1,1,1,1,1,1,1,1,1,1,1,1,1,1,1,1,1,1,1,1,1,1,1,1,1,1,1,1,1,1,1,1,1,1,1,1,1,1,1,1,1,1,1,1,1,1,1,1,1,1,1,1,1,1,1,1,1,1,1,1,1,1,1,1,1,1,1,1,1,1,1,1,1,1,1,1,1,1,1,1,1,1,1,1,1,1,1,1,1,1,1,1,1,1,1,1,1,1,1,1,1,1,1,1,1,1,1,1,1,1,1,1,1,1,1,1,1,1,1,1,1,1,1,1,1,1,1,1,1,1,1,1,1,1,1,1,1,1,1,1,1,1,1,1,1,1,1,1,1,1,1,1,1,1,1,1,1,1,1,1,1,1,1,1,1,1,1,1,1,1,1,1,1,1,1,1,1,1,1,1,1,1,1,1,1,1,1,1,1,1,1,1,1,1,1,1,1,1,1,1,1,1,1,1,1,1,1,1,1,1,1,1,1,1,1,1,1,1,1,1,1,1,1,1,1,1,1,1,1,1,1,1,1,1,1,1,1,1,1,1,1,1,1,1,1,1,1,1,1,1,1,1,1,1,1,1,1,1,1,1,1,1,1,1,1,1,1,1,1,1,1,1,1,1,1,1,1,1,1,1,1,1,1,1,1,1,1,1,1,1,1,1,1,1,1,1,1,1,1,1,1,1,1,1,1,1,1,1,1,1,1,1,1,1,1,1,1,1,1,1,1,1,1,1,1,1,1,1,1,1,1,1,1,1,1,1,1,1,1,1,1,1,1,1,1,1,1,1,1,1,1,1,1,1,1,1,1,1,1,1,1,1,1,1,1,1,1,1,1,1,1,1,1,1,1,1,1,1,1,1,1,1,1,1,1,1,1,1,1,1,1,1,1,1,1,1,1,1,1,1,1,1,1,1,1,1,1,1,1,1,1,1,1,1,1,1,1,1,1,1,1,1,1,1,1,1,1,1,1,1,1,1,1,1,1,1,1,1,1,1,1,1,1,1,1,1,1,1,1,1,1,1,1,1,1,1,1,1,1,1,1,1,1,1,1,1,1,1,1,1,1]},\"selected\":{\"id\":\"1484\",\"type\":\"Selection\"},\"selection_policy\":{\"id\":\"1483\",\"type\":\"UnionRenderers\"}},\"id\":\"1417\",\"type\":\"ColumnDataSource\"},{\"attributes\":{},\"id\":\"1476\",\"type\":\"BasicTickFormatter\"},{\"attributes\":{\"ticker\":{\"id\":\"1327\",\"type\":\"BasicTicker\"}},\"id\":\"1330\",\"type\":\"Grid\"},{\"attributes\":{\"data_source\":{\"id\":\"1417\",\"type\":\"ColumnDataSource\"},\"glyph\":{\"id\":\"1418\",\"type\":\"Line\"},\"hover_glyph\":null,\"muted_glyph\":null,\"nonselection_glyph\":{\"id\":\"1419\",\"type\":\"Line\"},\"selection_glyph\":null,\"view\":{\"id\":\"1421\",\"type\":\"CDSView\"}},\"id\":\"1420\",\"type\":\"GlyphRenderer\"},{\"attributes\":{\"axis_label\":\"Im\",\"formatter\":{\"id\":\"1478\",\"type\":\"BasicTickFormatter\"},\"ticker\":{\"id\":\"1366\",\"type\":\"BasicTicker\"}},\"id\":\"1365\",\"type\":\"LinearAxis\"},{\"attributes\":{},\"id\":\"1404\",\"type\":\"PanTool\"},{\"attributes\":{},\"id\":\"1478\",\"type\":\"BasicTickFormatter\"},{\"attributes\":{},\"id\":\"1405\",\"type\":\"WheelZoomTool\"},{\"attributes\":{},\"id\":\"1480\",\"type\":\"UnionRenderers\"},{\"attributes\":{},\"id\":\"1339\",\"type\":\"SaveTool\"},{\"attributes\":{\"overlay\":{\"id\":\"1482\",\"type\":\"BoxAnnotation\"}},\"id\":\"1406\",\"type\":\"BoxZoomTool\"},{\"attributes\":{},\"id\":\"1481\",\"type\":\"Selection\"},{\"attributes\":{},\"id\":\"1322\",\"type\":\"LinearScale\"},{\"attributes\":{\"dimension\":1,\"ticker\":{\"id\":\"1366\",\"type\":\"BasicTicker\"}},\"id\":\"1369\",\"type\":\"Grid\"},{\"attributes\":{},\"id\":\"1407\",\"type\":\"SaveTool\"},{\"attributes\":{\"bottom_units\":\"screen\",\"fill_alpha\":{\"value\":0.5},\"fill_color\":{\"value\":\"lightgrey\"},\"left_units\":\"screen\",\"level\":\"overlay\",\"line_alpha\":{\"value\":1.0},\"line_color\":{\"value\":\"black\"},\"line_dash\":[4,4],\"line_width\":{\"value\":2},\"render_mode\":\"css\",\"right_units\":\"screen\",\"top_units\":\"screen\"},\"id\":\"1482\",\"type\":\"BoxAnnotation\"},{\"attributes\":{},\"id\":\"1408\",\"type\":\"ResetTool\"},{\"attributes\":{},\"id\":\"1483\",\"type\":\"UnionRenderers\"},{\"attributes\":{\"ticker\":{\"id\":\"1361\",\"type\":\"BasicTicker\"}},\"id\":\"1364\",\"type\":\"Grid\"},{\"attributes\":{},\"id\":\"1484\",\"type\":\"Selection\"},{\"attributes\":{},\"id\":\"1409\",\"type\":\"HelpTool\"},{\"attributes\":{},\"id\":\"1361\",\"type\":\"BasicTicker\"},{\"attributes\":{},\"id\":\"1485\",\"type\":\"UnionRenderers\"},{\"attributes\":{},\"id\":\"1366\",\"type\":\"BasicTicker\"},{\"attributes\":{},\"id\":\"1486\",\"type\":\"Selection\"},{\"attributes\":{\"fill_color\":{\"value\":\"#1f77b4\"},\"line_color\":{\"value\":\"#1f77b4\"},\"x\":{\"field\":\"x\"},\"y\":{\"field\":\"y\"}},\"id\":\"1428\",\"type\":\"Scatter\"},{\"attributes\":{\"bottom_units\":\"screen\",\"fill_alpha\":{\"value\":0.5},\"fill_color\":{\"value\":\"lightgrey\"},\"left_units\":\"screen\",\"level\":\"overlay\",\"line_alpha\":{\"value\":1.0},\"line_color\":{\"value\":\"black\"},\"line_dash\":[4,4],\"line_width\":{\"value\":2},\"render_mode\":\"css\",\"right_units\":\"screen\",\"top_units\":\"screen\"},\"id\":\"1487\",\"type\":\"BoxAnnotation\"},{\"attributes\":{\"line_color\":\"#1f77b4\",\"x\":{\"field\":\"x\"},\"y\":{\"field\":\"y\"}},\"id\":\"1418\",\"type\":\"Line\"},{\"attributes\":{\"callback\":null,\"data\":{\"x\":{\"__ndarray__\":\"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\",\"dtype\":\"float64\",\"shape\":[500]},\"y\":{\"__ndarray__\":\"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\",\"dtype\":\"float64\",\"shape\":[500]}},\"selected\":{\"id\":\"1486\",\"type\":\"Selection\"},\"selection_policy\":{\"id\":\"1485\",\"type\":\"UnionRenderers\"}},\"id\":\"1422\",\"type\":\"ColumnDataSource\"},{\"attributes\":{},\"id\":\"1488\",\"type\":\"UnionRenderers\"},{\"attributes\":{\"line_color\":\"red\",\"line_width\":3,\"x\":{\"field\":\"x\"},\"y\":{\"field\":\"y\"}},\"id\":\"1423\",\"type\":\"Line\"},{\"attributes\":{},\"id\":\"1340\",\"type\":\"ResetTool\"},{\"attributes\":{},\"id\":\"1371\",\"type\":\"WheelZoomTool\"},{\"attributes\":{},\"id\":\"1489\",\"type\":\"Selection\"},{\"attributes\":{\"line_alpha\":0.1,\"line_color\":\"#1f77b4\",\"line_width\":3,\"x\":{\"field\":\"x\"},\"y\":{\"field\":\"y\"}},\"id\":\"1424\",\"type\":\"Line\"},{\"attributes\":{\"bottom_units\":\"screen\",\"fill_alpha\":{\"value\":0.5},\"fill_color\":{\"value\":\"lightgrey\"},\"left_units\":\"screen\",\"level\":\"overlay\",\"line_alpha\":{\"value\":1.0},\"line_color\":{\"value\":\"black\"},\"line_dash\":[4,4],\"line_width\":{\"value\":2},\"render_mode\":\"css\",\"right_units\":\"screen\",\"top_units\":\"screen\"},\"id\":\"1490\",\"type\":\"BoxAnnotation\"},{\"attributes\":{\"callback\":null},\"id\":\"1386\",\"type\":\"DataRange1d\"},{\"attributes\":{\"data_source\":{\"id\":\"1422\",\"type\":\"ColumnDataSource\"},\"glyph\":{\"id\":\"1423\",\"type\":\"Line\"},\"hover_glyph\":null,\"muted_glyph\":null,\"nonselection_glyph\":{\"id\":\"1424\",\"type\":\"Line\"},\"selection_glyph\":null,\"view\":{\"id\":\"1426\",\"type\":\"CDSView\"}},\"id\":\"1425\",\"type\":\"GlyphRenderer\"},{\"attributes\":{},\"id\":\"1373\",\"type\":\"SaveTool\"},{\"attributes\":{\"text\":\"Gain Diagram\"},\"id\":\"1384\",\"type\":\"Title\"},{\"attributes\":{\"callback\":null,\"data\":{\"x\":{\"__ndarray__\":\"exSuR+F6hD+xy/epEbeIP/OEmNZ1040/U7U+ajX/kT87ZwAM8reVP2RS0oizNZo/U1Ys2Tehnz+1OG7m1BWjP5H87YcvCKc/3ytzNXnLqz/HhKNUc8WwP9fsUPJNPbQ/rYfRlsJsuD/QuHzuyHm9PwRIUE0ZycE/9hI5a6V2xT8nDOAH5ubJP1khz5weQs8/vlENE3Pc0j+MNxr178LWP1mLGLTnd9s/d9N4kQaT4D91NEO/cwDkP0ccxu5SI+g/hp8CpSkh7T9XWmLgn5PxP/pR8h4dNvU/79rudAWZ+T+SPUBNI+T+PylbW8a9owJA+7lNloB+BkC/7NJ0USULQHBJA2oxYRBATl7kgVDEE0CJvxkSwNoXQHuWhc+UyRxAYVJROsdeIUB2DOLYVvYkQKNeowcPTClAcePUjkKHLkAGBaD5smsyQPm6i/neOjZAaW4yhLPTOkCV824W8i9AQOdtHRTiiENAuUz0aAeTR0BYRuZMB3NMQLM9uHeNKlFAzfCsUVC3VEAAAAAAAABZQA==\",\"dtype\":\"float64\",\"shape\":[50]},\"y\":{\"__ndarray__\":\"VqfLxuOpNcBwlt1X4qk1wJdzfUHgqTXAtgxCN92pNcBLN+TJ2Kk1wLBNVlfSqTXAWSKa88ipNcDxyAZHu6k1wJJqLl2nqTXAAMFkXYqpNcDos7oiYKk1wDTjqqQiqTXAhCgOG8moNcD10F2+Rqg1wLaKlfeIpzXAOzmSv3SmNcCLrIrS4qQ1wJJ98DaaojXAH5T9ZUifNcC6HMoodpo1wAXWKgJ4kzXARVAt61iJNcBC4uuzvno1wPSXqNfJZTXAeT5Fz/pHNcDVOlEIQB41wPrs9K6a5TTAKe1AVaWdNMBg15panVA0wPJH2tapKDTAZQfzbHCRNMDdz4/33xo2wGHKGjB70zjAiBoJFJ0yPMD8QRow8ME/wCw81MXTp0HAAWgr1EpnQ8CS44OeIh9FwOq2PmHH0EbAoPep08h9SMAs4DDicidKwHYNnYDAzkvAPAqhmmd0TcC+KU096RhPwPrLdOxPXlDA2fagLOUvUcD2fVYpSgFSwLW97e6N0lLAhkDd3LqjU8Bi+UsX2HRUwA==\",\"dtype\":\"float64\",\"shape\":[50]}},\"selected\":{\"id\":\"1481\",\"type\":\"Selection\"},\"selection_policy\":{\"id\":\"1480\",\"type\":\"UnionRenderers\"}},\"id\":\"1432\",\"type\":\"ColumnDataSource\"},{\"attributes\":{\"source\":{\"id\":\"1422\",\"type\":\"ColumnDataSource\"}},\"id\":\"1426\",\"type\":\"CDSView\"},{\"attributes\":{\"active_drag\":\"auto\",\"active_inspect\":\"auto\",\"active_multi\":null,\"active_scroll\":\"auto\",\"active_tap\":\"auto\",\"tools\":[{\"id\":\"1336\",\"type\":\"PanTool\"},{\"id\":\"1337\",\"type\":\"WheelZoomTool\"},{\"id\":\"1338\",\"type\":\"BoxZoomTool\"},{\"id\":\"1339\",\"type\":\"SaveTool\"},{\"id\":\"1340\",\"type\":\"ResetTool\"},{\"id\":\"1341\",\"type\":\"HelpTool\"}]},\"id\":\"1342\",\"type\":\"Toolbar\"},{\"attributes\":{\"callback\":null,\"data\":{\"x\":{\"__ndarray__\":\"AAAAAAAA+L8AAAAAAAD4vw==\",\"dtype\":\"float64\",\"shape\":[2]},\"y\":{\"__ndarray__\":\"oiTmqhH/BUCiJOaqEf8FwA==\",\"dtype\":\"float64\",\"shape\":[2]}},\"selected\":{\"id\":\"1489\",\"type\":\"Selection\"},\"selection_policy\":{\"id\":\"1488\",\"type\":\"UnionRenderers\"}},\"id\":\"1427\",\"type\":\"ColumnDataSource\"},{\"attributes\":{\"below\":[{\"id\":\"1360\",\"type\":\"LinearAxis\"}],\"center\":[{\"id\":\"1364\",\"type\":\"Grid\"},{\"id\":\"1369\",\"type\":\"Grid\"}],\"left\":[{\"id\":\"1365\",\"type\":\"LinearAxis\"}],\"plot_height\":250,\"plot_width\":250,\"renderers\":[{\"id\":\"1430\",\"type\":\"GlyphRenderer\"}],\"title\":{\"id\":\"1350\",\"type\":\"Title\"},\"toolbar\":{\"id\":\"1376\",\"type\":\"Toolbar\"},\"x_range\":{\"id\":\"1352\",\"type\":\"Range1d\"},\"x_scale\":{\"id\":\"1356\",\"type\":\"LinearScale\"},\"y_range\":{\"id\":\"1354\",\"type\":\"Range1d\"},\"y_scale\":{\"id\":\"1358\",\"type\":\"LinearScale\"}},\"id\":\"1349\",\"subtype\":\"Figure\",\"type\":\"Plot\"},{\"attributes\":{},\"id\":\"1370\",\"type\":\"PanTool\"},{\"attributes\":{},\"id\":\"1337\",\"type\":\"WheelZoomTool\"},{\"attributes\":{\"source\":{\"id\":\"1427\",\"type\":\"ColumnDataSource\"}},\"id\":\"1431\",\"type\":\"CDSView\"},{\"attributes\":{\"fill_alpha\":{\"value\":0.1},\"fill_color\":{\"value\":\"#1f77b4\"},\"line_alpha\":{\"value\":0.1},\"line_color\":{\"value\":\"#1f77b4\"},\"x\":{\"field\":\"x\"},\"y\":{\"field\":\"y\"}},\"id\":\"1429\",\"type\":\"Scatter\"},{\"attributes\":{\"overlay\":{\"id\":\"1490\",\"type\":\"BoxAnnotation\"}},\"id\":\"1372\",\"type\":\"BoxZoomTool\"},{\"attributes\":{\"callback\":null,\"end\":20,\"start\":-60},\"id\":\"1388\",\"type\":\"Range1d\"},{\"attributes\":{},\"id\":\"1390\",\"type\":\"LogScale\"},{\"attributes\":{\"data_source\":{\"id\":\"1427\",\"type\":\"ColumnDataSource\"},\"glyph\":{\"id\":\"1428\",\"type\":\"Scatter\"},\"hover_glyph\":null,\"muted_glyph\":null,\"nonselection_glyph\":{\"id\":\"1429\",\"type\":\"Scatter\"},\"selection_glyph\":null,\"view\":{\"id\":\"1431\",\"type\":\"CDSView\"}},\"id\":\"1430\",\"type\":\"GlyphRenderer\"},{\"attributes\":{},\"id\":\"1358\",\"type\":\"LinearScale\"},{\"attributes\":{\"line_color\":\"#1f77b4\",\"line_width\":3,\"x\":{\"field\":\"x\"},\"y\":{\"field\":\"y\"}},\"id\":\"1433\",\"type\":\"Line\"},{\"attributes\":{\"active_drag\":\"auto\",\"active_inspect\":\"auto\",\"active_multi\":null,\"active_scroll\":\"auto\",\"active_tap\":\"auto\",\"tools\":[{\"id\":\"1370\",\"type\":\"PanTool\"},{\"id\":\"1371\",\"type\":\"WheelZoomTool\"},{\"id\":\"1372\",\"type\":\"BoxZoomTool\"},{\"id\":\"1373\",\"type\":\"SaveTool\"},{\"id\":\"1374\",\"type\":\"ResetTool\"},{\"id\":\"1375\",\"type\":\"HelpTool\"}]},\"id\":\"1376\",\"type\":\"Toolbar\"},{\"attributes\":{\"dimension\":1,\"ticker\":{\"id\":\"1332\",\"type\":\"BasicTicker\"}},\"id\":\"1335\",\"type\":\"Grid\"},{\"attributes\":{},\"id\":\"1375\",\"type\":\"HelpTool\"},{\"attributes\":{},\"id\":\"1356\",\"type\":\"LinearScale\"},{\"attributes\":{\"callback\":null},\"id\":\"1318\",\"type\":\"DataRange1d\"},{\"attributes\":{\"axis_label\":\"t [s]\",\"formatter\":{\"id\":\"1472\",\"type\":\"BasicTickFormatter\"},\"ticker\":{\"id\":\"1327\",\"type\":\"BasicTicker\"}},\"id\":\"1326\",\"type\":\"LinearAxis\"},{\"attributes\":{\"callback\":null,\"end\":2,\"start\":-14},\"id\":\"1352\",\"type\":\"Range1d\"},{\"attributes\":{},\"id\":\"1336\",\"type\":\"PanTool\"},{\"attributes\":{},\"id\":\"1327\",\"type\":\"BasicTicker\"},{\"attributes\":{},\"id\":\"1324\",\"type\":\"LinearScale\"},{\"attributes\":{\"callback\":null,\"end\":2},\"id\":\"1320\",\"type\":\"Range1d\"},{\"attributes\":{\"below\":[{\"id\":\"1394\",\"type\":\"LogAxis\"}],\"center\":[{\"id\":\"1398\",\"type\":\"Grid\"},{\"id\":\"1403\",\"type\":\"Grid\"}],\"left\":[{\"id\":\"1399\",\"type\":\"LinearAxis\"}],\"plot_height\":300,\"renderers\":[{\"id\":\"1435\",\"type\":\"GlyphRenderer\"}],\"title\":{\"id\":\"1384\",\"type\":\"Title\"},\"toolbar\":{\"id\":\"1410\",\"type\":\"Toolbar\"},\"x_range\":{\"id\":\"1386\",\"type\":\"DataRange1d\"},\"x_scale\":{\"id\":\"1390\",\"type\":\"LogScale\"},\"y_range\":{\"id\":\"1388\",\"type\":\"Range1d\"},\"y_scale\":{\"id\":\"1392\",\"type\":\"LinearScale\"}},\"id\":\"1383\",\"subtype\":\"Figure\",\"type\":\"Plot\"},{\"attributes\":{\"below\":[{\"id\":\"1326\",\"type\":\"LinearAxis\"}],\"center\":[{\"id\":\"1330\",\"type\":\"Grid\"},{\"id\":\"1335\",\"type\":\"Grid\"}],\"left\":[{\"id\":\"1331\",\"type\":\"LinearAxis\"}],\"plot_height\":250,\"plot_width\":350,\"renderers\":[{\"id\":\"1420\",\"type\":\"GlyphRenderer\"},{\"id\":\"1425\",\"type\":\"GlyphRenderer\"}],\"title\":{\"id\":\"1316\",\"type\":\"Title\"},\"toolbar\":{\"id\":\"1342\",\"type\":\"Toolbar\"},\"x_range\":{\"id\":\"1318\",\"type\":\"DataRange1d\"},\"x_scale\":{\"id\":\"1322\",\"type\":\"LinearScale\"},\"y_range\":{\"id\":\"1320\",\"type\":\"Range1d\"},\"y_scale\":{\"id\":\"1324\",\"type\":\"LinearScale\"}},\"id\":\"1315\",\"subtype\":\"Figure\",\"type\":\"Plot\"},{\"attributes\":{\"callback\":null,\"end\":8,\"start\":-8},\"id\":\"1354\",\"type\":\"Range1d\"},{\"attributes\":{\"text\":\"Step Response\"},\"id\":\"1316\",\"type\":\"Title\"}],\"root_ids\":[\"1438\"]},\"title\":\"Bokeh Application\",\"version\":\"1.4.0\"}};\n",
       "  var render_items = [{\"docid\":\"682702c4-572c-43ce-acb2-c650a2197b40\",\"notebook_comms_target\":\"1491\",\"roots\":{\"1438\":\"a2e8a7b4-5396-4e18-9a6a-0cc66862b43f\"}}];\n",
       "  root.Bokeh.embed.embed_items_notebook(docs_json, render_items);\n",
       "\n",
       "  }\n",
       "  if (root.Bokeh !== undefined) {\n",
       "    embed_document(root);\n",
       "  } else {\n",
       "    var attempts = 0;\n",
       "    var timer = setInterval(function(root) {\n",
       "      if (root.Bokeh !== undefined) {\n",
       "        clearInterval(timer);\n",
       "        embed_document(root);\n",
       "      } else {\n",
       "        attempts++;\n",
       "        if (attempts > 100) {\n",
       "          clearInterval(timer);\n",
       "          console.log(\"Bokeh: ERROR: Unable to run BokehJS code because BokehJS library is missing\");\n",
       "        }\n",
       "      }\n",
       "    }, 10, root)\n",
       "  }\n",
       "})(window);"
      ],
      "application/vnd.bokehjs_exec.v0+json": ""
     },
     "metadata": {
      "application/vnd.bokehjs_exec.v0+json": {
       "id": "1438"
      }
     },
     "output_type": "display_data"
    },
    {
     "data": {
      "application/vnd.jupyter.widget-view+json": {
       "model_id": "0d45050a60ed4e59aacce753caf1981a",
       "version_major": 2,
       "version_minor": 0
      },
      "text/plain": [
       "interactive(children=(FloatSlider(value=0.1, description='kp', max=30.0, min=0.1, step=0.2), FloatSlider(value…"
      ]
     },
     "metadata": {},
     "output_type": "display_data"
    }
   ],
   "source": [
    "run PIDGain.py"
   ]
  },
  {
   "cell_type": "code",
   "execution_count": 1,
   "metadata": {},
   "outputs": [],
   "source": [
    "from control.matlab import *\n",
    "import matplotlib.pyplot as plt\n",
    "import numpy as np"
   ]
  },
  {
   "cell_type": "markdown",
   "metadata": {},
   "source": [
    "### フィードバック系の安定性\n"
   ]
  },
  {
   "cell_type": "markdown",
   "metadata": {},
   "source": [
    "$G_{yr}$などのフィードバック系を求めてpoleで極を計算する\n",
    "\n",
    "ただし，$G_{ud}$ はインプロパーになることがあり，伝達関数をPython上で記述できない場合がある\n",
    "\n",
    "P と C の間に不安定な極零相殺がないばあいには，$G_{yr}$の極を調べれば良い"
   ]
  },
  {
   "cell_type": "code",
   "execution_count": 2,
   "metadata": {},
   "outputs": [
    {
     "name": "stdout",
     "output_type": "stream",
     "text": [
      "[-1.35300549+2.89375856j -1.35300549-2.89375856j -0.29398903+0.j        ]\n",
      "[-1.35300549+2.89375856j -1.35300549-2.89375856j -0.29398903+0.j        ]\n",
      "2 states have been removed from the model\n",
      "[-1.35300549+2.89375856j -1.35300549-2.89375856j -0.29398903+0.j        ]\n"
     ]
    }
   ],
   "source": [
    "P = tf([0, 1],[1, 1 ,1])\n",
    "C = tf([2, 10, 3],[1, 0])\n",
    "\n",
    "Gyr = feedback(P*C, 1)\n",
    "print(Gyr.pole())\n",
    "\n",
    "Gyd = -feedback(P*C, 1)\n",
    "print(Gyd.pole())\n",
    "\n",
    "Gur = minreal(P*feedback(1, P*C))\n",
    "print(Gur.pole())\n",
    "\n",
    "#Gud = C*feedback(1, P*C) #インプロパー\n",
    "#print(Gud.pole())"
   ]
  },
  {
   "cell_type": "code",
   "execution_count": 5,
   "metadata": {},
   "outputs": [
    {
     "name": "stdout",
     "output_type": "stream",
     "text": [
      "{'RiseTime': 0.38134794663607546, 'SettlingTime': 2.526430146464, 'SettlingMin': 0.8889281055929367, 'SettlingMax': 1.2108759926728154, 'Overshoot': 21.096814935683064, 'Undershoot': 0.0, 'Peak': 1.2108759926728154, 'PeakTime': 0.8580328799311698, 'SteadyStateValue': 0.9999238983419472}\n"
     ]
    }
   ],
   "source": [
    "Info = stepinfo(Gyr, SettlingTimeThreshold=0.05)\n",
    "print(Info)"
   ]
  },
  {
   "cell_type": "code",
   "execution_count": 6,
   "metadata": {},
   "outputs": [
    {
     "name": "stdout",
     "output_type": "stream",
     "text": [
      "<class 'dict'>\n"
     ]
    }
   ],
   "source": [
    "print(type(Info))\n",
    "# 辞書形式"
   ]
  },
  {
   "cell_type": "code",
   "execution_count": 3,
   "metadata": {},
   "outputs": [
    {
     "name": "stdout",
     "output_type": "stream",
     "text": [
      "[-1.35300549+2.89375856j -1.35300549-2.89375856j -0.29398903+0.j        ]\n"
     ]
    }
   ],
   "source": [
    "[[Np]], [[Dp]] = tfdata(P)\n",
    "[[Nc]], [[Dc]] = tfdata(C)\n",
    "\n",
    "f1 = np.poly1d(Np)\n",
    "f2 = np.poly1d(Nc)\n",
    "g1 = np.poly1d(Dp)\n",
    "g2 = np.poly1d(Dc)\n",
    "\n",
    "print(np.roots( f1*f2 + g1*g2 ))"
   ]
  },
  {
   "cell_type": "markdown",
   "metadata": {},
   "source": [
    "特性多項式を計算し，その根を求める"
   ]
  },
  {
   "cell_type": "markdown",
   "metadata": {},
   "source": [
    "### フィードバック系のステップ応答"
   ]
  },
  {
   "cell_type": "code",
   "execution_count": 9,
   "metadata": {},
   "outputs": [
    {
     "data": {
      "image/png": "[encoded data removed]",
      "text/plain": [
       "<Figure size 216x165.6 with 1 Axes>"
      ]
     },
     "metadata": {
      "needs_background": "light"
     },
     "output_type": "display_data"
    }
   ],
   "source": [
    "fig, ax = plt.subplots(figsize=(3, 2.3))\n",
    "ax.plot(t,y)\n",
    "ax.set_xlabel('t')\n",
    "ax.set_ylabel('y')\n",
    "ax.axvline(Info['PeakTime'], lw=1, ls='--', c='k')\n",
    "ax.axhline(Info['Peak'], lw=1, ls='--', c='k')\n",
    "ax.axvline(Info['SettlingTime'], lw=1, ls='--', c='k')\n",
    "ax.grid(ls=':')\n",
    "\n",
    "#fig.savefig(\"test.pdf\", transparent=True, bbox_inches=\"tight\", pad_inches=0.0)"
   ]
  },
  {
   "cell_type": "code",
   "execution_count": 4,
   "metadata": {},
   "outputs": [
    {
     "data": {
      "image/png": "[encoded data removed]",
      "text/plain": [
       "<Figure size 216x165.6 with 1 Axes>"
      ]
     },
     "metadata": {
      "needs_background": "light"
     },
     "output_type": "display_data"
    }
   ],
   "source": [
    "P = tf([0, 1],[1, 1 ,1])\n",
    "C = tf([2, 10, 3],[1, 0])\n",
    "Gyr = feedback(P*C, 1)\n",
    "\n",
    "y,t = step(Gyr,np.arange(0, 10, 0.01))\n",
    "\n",
    "fig, ax = plt.subplots(figsize=(3, 2.3))\n",
    "ax.plot(t,y)\n",
    "ax.set_xlabel('t')\n",
    "ax.set_ylabel('y')\n",
    "ax.grid(ls=':')"
   ]
  },
  {
   "cell_type": "markdown",
   "metadata": {},
   "source": [
    "### フィードバック系の周波数応答"
   ]
  },
  {
   "cell_type": "code",
   "execution_count": 10,
   "metadata": {},
   "outputs": [
    {
     "data": {
      "image/png": "[encoded data removed]",
      "text/plain": [
       "<Figure size 288x252 with 2 Axes>"
      ]
     },
     "metadata": {
      "needs_background": "light"
     },
     "output_type": "display_data"
    }
   ],
   "source": [
    "P = tf([0, 1],[1, 1 ,1])\n",
    "C = tf([2, 10, 3],[1, 0])\n",
    "Gyr = feedback(P*C, 1)\n",
    "\n",
    "gain, phase, w = bode(Gyr, logspace(-2,2), Plot=False)\n",
    "\n",
    "fig, ax = plt.subplots(2,1, figsize=(4, 3.5))\n",
    "ax[0].semilogx(w, 20*np.log10(gain))\n",
    "ax[1].semilogx(w, phase*180/np.pi)\n",
    "\n",
    "ax[0].grid(which=\"both\", ls=':')\n",
    "ax[0].set_ylabel('Gain [dB]')\n",
    "ax[1].grid(which=\"both\", ls=':')\n",
    "ax[1].set_xlabel('$\\omega$ [rad/s]')\n",
    "ax[1].set_ylabel('Phase [deg]')\n",
    "fig.tight_layout()\n",
    "\n",
    "#fig.savefig(\"test.pdf\", transparent=True, bbox_inches=\"tight\", pad_inches=0.0)"
   ]
  },
  {
   "cell_type": "markdown",
   "metadata": {},
   "source": [
    "## ゲインチューニング\n",
    "### ステップ応答法"
   ]
  },
  {
   "cell_type": "markdown",
   "metadata": {},
   "source": [
    "ステップ応答の計測"
   ]
  },
  {
   "cell_type": "code",
   "execution_count": null,
   "metadata": {},
   "outputs": [],
   "source": []
  },
  {
   "cell_type": "markdown",
   "metadata": {},
   "source": [
    "無定位系の応答"
   ]
  },
  {
   "cell_type": "code",
   "execution_count": 13,
   "metadata": {},
   "outputs": [
    {
     "data": {
      "image/png": "[encoded data removed]",
      "text/plain": [
       "<Figure size 216x165.6 with 1 Axes>"
      ]
     },
     "metadata": {
      "needs_background": "light"
     },
     "output_type": "display_data"
    }
   ],
   "source": [
    "fig, ax = plt.subplots(figsize=(3, 2.3))\n",
    "y, t = step(P, np.arange(0, 1, 0.01) )\n",
    "ax.plot(t, y)\n",
    "ax.plot(t, np.poly1d( p )(t))\n",
    "ax.set_xlabel('t')\n",
    "ax.set_ylabel('y')\n",
    "ax.grid(ls=':')\n",
    "\n",
    "#fig.savefig(\"test.pdf\", transparent=True, bbox_inches=\"tight\", pad_inches=0.0)"
   ]
  },
  {
   "cell_type": "code",
   "execution_count": 26,
   "metadata": {},
   "outputs": [
    {
     "name": "stdout",
     "output_type": "stream",
     "text": [
      "P Controller\n",
      "kP= 9.965173587760441\n",
      "kI= 0\n",
      "kD= 0\n",
      "------------------\n",
      "PID Controller\n",
      "kP= 11.95820830531253\n",
      "kI= 40.810072029668085\n",
      "kD= 0.8760015528108381\n",
      "------------------\n"
     ]
    },
    {
     "data": {
      "image/png": "[encoded data removed]",
      "text/plain": [
       "<Figure size 216x165.6 with 1 Axes>"
      ]
     },
     "metadata": {
      "needs_background": "light"
     },
     "output_type": "display_data"
    }
   ],
   "source": [
    "kp = [0, 0]\n",
    "ki = [0, 0]\n",
    "kd = [0, 0]\n",
    "Rule = ['', '']\n",
    "\n",
    "# P Controller\n",
    "Rule[0] = 'P Controller'\n",
    "kp[0] = 1/(R*L)\n",
    "\n",
    "# PID\n",
    "Rule[1] = 'PID Controller'\n",
    "kp[1] = 1.2/(R*L)\n",
    "ki[1] = kp[1] / (2 * L)\n",
    "kd[1] = kp[1] * (0.5 * L)\n",
    "\n",
    "fig, ax = plt.subplots(figsize=(3, 2.3))\n",
    "\n",
    "for i in range(2):\n",
    "    C = tf([kd[i], kp[i], ki[i]], [1, 0])\n",
    "    Gyr = feedback(P*C, 1)\n",
    "    y, t = step(Gyr, np.arange(0, 3, 0.01))\n",
    "    \n",
    "    ax.plot(t, y, label=Rule[i])\n",
    "    \n",
    "    print(Rule[i])\n",
    "    print('kP=', kp[i])\n",
    "    print('kI=', ki[i])\n",
    "    print('kD=', kd[i])\n",
    "    print('------------------')\n",
    "\n",
    "ax.set_ylabel('y')\n",
    "ax.set_xlabel('t')\n",
    "ax.legend()\n",
    "ax.grid(ls=':')\n",
    "\n",
    "#fig.savefig(\"test.pdf\", transparent=True, bbox_inches=\"tight\", pad_inches=0.0)"
   ]
  },
  {
   "cell_type": "markdown",
   "metadata": {},
   "source": [
    "### 限界感度法"
   ]
  },
  {
   "cell_type": "markdown",
   "metadata": {},
   "source": [
    "## 限界感度法"
   ]
  },
  {
   "cell_type": "code",
   "execution_count": 27,
   "metadata": {},
   "outputs": [],
   "source": [
    "g  = 9.81                # 重力加速度[m/s^2]\n",
    "l  = 0.2                 # アームの長さ[m]\n",
    "m  = 0.5                 # アームの質量[kg]\n",
    "c  = 1.5e-2              # 粘性摩擦係数[kg*m^2/s]\n",
    "J  = 1.0e-2              # 慣性モーメント[kg*m^2]\n",
    "\n",
    "ref = 30\n",
    "\n",
    "P = tf( [0,1], [J, c, m*g*l] )"
   ]
  },
  {
   "cell_type": "markdown",
   "metadata": {},
   "source": [
    "### 垂直駆動アームの角度追従制御"
   ]
  },
  {
   "cell_type": "markdown",
   "metadata": {},
   "source": [
    "### 無駄時間要素"
   ]
  },
  {
   "cell_type": "code",
   "execution_count": 28,
   "metadata": {},
   "outputs": [
    {
     "data": {
      "text/latex": [
       "$$\\frac{-s + 400}{0.01 s^3 + 4.015 s^2 + 6.981 s + 392.4}$$"
      ],
      "text/plain": [
       "\n",
       "               -s + 400\n",
       "--------------------------------------\n",
       "0.01 s^3 + 4.015 s^2 + 6.981 s + 392.4"
      ]
     },
     "execution_count": 28,
     "metadata": {},
     "output_type": "execute_result"
    }
   ],
   "source": [
    "num_delay, den_delay = pade( 0.005, 1)\n",
    "Pdelay = P * tf(num_delay, den_delay)\n",
    "Pdelay"
   ]
  },
  {
   "cell_type": "markdown",
   "metadata": {},
   "source": [
    "### チューニング"
   ]
  },
  {
   "cell_type": "code",
   "execution_count": 31,
   "metadata": {},
   "outputs": [
    {
     "data": {
      "image/png": "[encoded data removed]",
      "text/plain": [
       "<Figure size 216x165.6 with 1 Axes>"
      ]
     },
     "metadata": {
      "needs_background": "light"
     },
     "output_type": "display_data"
    }
   ],
   "source": [
    "from scipy import signal\n",
    "\n",
    "fig, ax = plt.subplots(figsize=(3, 2.3))\n",
    "\n",
    "kp0 = 2.9\n",
    "C = tf([0, kp0], [0, 1])\n",
    "Gyr = feedback(Pdelay*C, 1)\n",
    "y,t = step(Gyr, np.arange(0, 2, 0.01))\n",
    "\n",
    "[maxId] = signal.argrelmax(y)\n",
    "\n",
    "ax.plot(t, y*ref, color='k')\n",
    "ax.plot(t[maxId], y[maxId]*ref, 'bo')\n",
    "\n",
    "ax.axhline(ref, color='k', linewidth=0.5)    \n",
    "ax.set_xlim(0, 2)\n",
    "ax.set_ylim(0, 50)\n",
    "ax.grid(ls=':')\n",
    "\n",
    "#fig.savefig(\"tune_zn.pdf\", transparent=True, bbox_inches=\"tight\", pad_inches=0.0)"
   ]
  },
  {
   "cell_type": "code",
   "execution_count": 35,
   "metadata": {},
   "outputs": [
    {
     "name": "stdout",
     "output_type": "stream",
     "text": [
      "T0= 0.31999999999999995\n",
      "kP0= 2.9\n",
      "Classic\n",
      "kP= 1.74\n",
      "kI= 10.875000000000002\n",
      "kD= 0.0696\n",
      "------------------\n",
      "No Overshoot\n",
      "kP= 0.58\n",
      "kI= 3.6250000000000004\n",
      "kD= 0.06124799999999999\n",
      "------------------\n"
     ]
    },
    {
     "data": {
      "image/png": "[encoded data removed]",
      "text/plain": [
       "<Figure size 216x165.6 with 1 Axes>"
      ]
     },
     "metadata": {
      "needs_background": "light"
     },
     "output_type": "display_data"
    }
   ],
   "source": [
    "kp = [0, 0]\n",
    "ki = [0, 0]\n",
    "kd = [0, 0]\n",
    "Rule = ['', '']\n",
    "\n",
    "T0 = t[maxId[1]]-t[maxId[0]]\n",
    "print('T0=',T0)\n",
    "print('kP0=', kp0)\n",
    "\n",
    "# Classic ZN\n",
    "Rule[0] = 'Classic'\n",
    "kp[0] = 0.6 * kp0\n",
    "ki[0] = kp[0] / (0.5 * T0)\n",
    "kd[0] = kp[0] * (0.125 * T0)\n",
    "\n",
    "# No overshoot\n",
    "Rule[1] = 'No Overshoot'\n",
    "kp[1] = 0.2 * kp0\n",
    "ki[1] = kp[1] / (0.5 * T0)\n",
    "kd[1] = kp[1] * (0.33 * T0)\n",
    "\n",
    "fig, ax = plt.subplots(figsize=(3, 2.3))\n",
    "\n",
    "for i in range(2):\n",
    "    C = tf([kd[i], kp[i], ki[i]], [1, 0])\n",
    "    Gyr = feedback(Pdelay*C, 1)\n",
    "    y, t = step(Gyr, np.arange(0, 2, 0.01))\n",
    "    \n",
    "    ax.plot(t, y*ref, label=Rule[i])\n",
    "    \n",
    "    print(Rule[i])\n",
    "    print('kP=', kp[i])\n",
    "    print('kI=', ki[i])\n",
    "    print('kD=', kd[i])\n",
    "    print('------------------')\n",
    "\n",
    "ax.axhline(ref, color=\"k\", linewidth=0.5)    \n",
    "ax.set_xlim(0, 2)\n",
    "ax.set_ylim(0, 50)\n",
    "ax.legend()\n",
    "ax.grid(ls=':')\n",
    "\n",
    "# fig.savefig(\"tune_zn_result.pdf\", transparent=True, bbox_inches=\"tight\", pad_inches=0.0)"
   ]
  },
  {
   "cell_type": "markdown",
   "metadata": {},
   "source": [
    "### モデルマッチング"
   ]
  },
  {
   "cell_type": "markdown",
   "metadata": {},
   "source": [
    "### チューニング"
   ]
  },
  {
   "cell_type": "code",
   "execution_count": 488,
   "metadata": {},
   "outputs": [
    {
     "data": {
      "image/png": "[encoded data removed]",
      "text/plain": [
       "<Figure size 216x165.6 with 1 Axes>"
      ]
     },
     "metadata": {
      "needs_background": "light"
     },
     "output_type": "display_data"
    }
   ],
   "source": [
    "omega_n = 5\n",
    "zeta = 0.707\n",
    "M = tf([0,omega_n**2],[1,2*zeta*omega_n,omega_n**2])\n",
    "\n",
    "kP = omega_n**2*J\n",
    "kI = omega_n*m*g*l/(2*zeta)\n",
    "kD = 2*zeta*omega_n*J + m*g*l/(2*zeta*omega_n) - c\n",
    "T = tf([kP,kI],[J, c+kD, m*g*l+kP, kI])\n",
    "\n",
    "yM, tM = step(M, np.arange(0, 5, 0.01))\n",
    "yT, tT = step(T, np.arange(0, 5, 0.01))\n",
    "\n",
    "fig, ax = plt.subplots(figsize=(3, 2.3))\n",
    "ax.plot(tM, yM, label='M', ls = '-.')\n",
    "ax.plot(tT, yT, label='T') \n",
    "ax.legend()\n",
    "\n",
    "ax.axhline(1, linewidth=0.5)\n",
    "ax.axhline(1.05, linewidth=0.5, c='r')  \n",
    "ax.axhline(0.95, linewidth=0.5, c='r')  \n",
    "ax.axhline(1.1, linewidth=0.5, c='g') \n",
    "\n",
    "ax.grid(ls=':')"
   ]
  },
  {
   "cell_type": "markdown",
   "metadata": {},
   "source": [
    "### 制御系設計の例"
   ]
  },
  {
   "cell_type": "code",
   "execution_count": 6,
   "metadata": {},
   "outputs": [],
   "source": [
    "g  = 9.81                # 重力加速度[m/s^2]\n",
    "l  = 0.2                 # アームの長さ[m]\n",
    "M  = 0.5                 # アームの質量[kg]\n",
    "mu = 1.5e-2              # 粘性摩擦係数[kg*m^2/s]\n",
    "J  = 1.0e-2              # 慣性モーメント[kg*m^2]\n",
    "\n",
    "ref = 30\n",
    "\n",
    "P = tf( [0,1], [J, mu, M*g*l] )"
   ]
  },
  {
   "cell_type": "code",
   "execution_count": 7,
   "metadata": {},
   "outputs": [],
   "source": [
    "alpha1 = 2\n",
    "alpha2 = 2\n",
    "omega_n = 12\n",
    "\n",
    "kp = J*alpha1*omega_n**2-M*g*l\n",
    "ki = J*omega_n**3\n",
    "kd = J*alpha2*omega_n - mu\n",
    "\n",
    "K1 = tf([kd, kp, ki], [1, 0])\n",
    "K2 = tf([0, ki], [kd, kp, ki])"
   ]
  },
  {
   "cell_type": "code",
   "execution_count": 8,
   "metadata": {},
   "outputs": [
    {
     "data": {
      "image/png": "[encoded data removed]",
      "text/plain": [
       "<Figure size 216x165.6 with 1 Axes>"
      ]
     },
     "metadata": {
      "needs_background": "light"
     },
     "output_type": "display_data"
    }
   ],
   "source": [
    "Gyz = feedback(P*K1, 1)\n",
    "\n",
    "Td = np.arange(0, 2, 0.01)\n",
    "r = 1*(Td>0)\n",
    "\n",
    "z, t, _ = lsim(K2, r, Td, 0)\n",
    "\n",
    "fig, ax = plt.subplots(figsize=(3, 2.3))\n",
    "\n",
    "y, _, _ = lsim(Gyz, z, Td, 0)\n",
    "ax.plot(t, y*ref, label='I-PD')\n",
    "\n",
    "ax.axhline(ref, linewidth=0.5)\n",
    "ax.axhline(ref*1.05, linewidth=0.5, c='r')  \n",
    "ax.axhline(ref*0.95, linewidth=0.5, c='r')  \n",
    "ax.axhline(ref*1.1, linewidth=0.5, c='g')  \n",
    "ax.grid(ls=':')\n",
    "\n",
    "ax.set_xlim(0, 2)\n",
    "ax.set_ylim(0,40)\n",
    "\n",
    "fig.tight_layout()"
   ]
  },
  {
   "cell_type": "code",
   "execution_count": 9,
   "metadata": {},
   "outputs": [
    {
     "data": {
      "image/png": "[encoded data removed]",
      "text/plain": [
       "<Figure size 288x252 with 2 Axes>"
      ]
     },
     "metadata": {
      "needs_background": "light"
     },
     "output_type": "display_data"
    }
   ],
   "source": [
    "fig, ax = plt.subplots(2, 1, figsize=(4, 3.5)) \n",
    "\n",
    "gain, phase, w = bode(P/(1+P), logspace(-1,2), Plot=False)\n",
    "ax[0].semilogx(w, 20*np.log10(gain))\n",
    "ax[1].semilogx(w, phase*180/np.pi)\n",
    "\n",
    "gain, phase, w = bode(K2*Gyz, logspace(-1,2), Plot=False)\n",
    "ax[0].semilogx(w, 20*np.log10(gain))\n",
    "ax[1].semilogx(w, phase*180/np.pi)\n",
    "\n",
    "ax[0].grid(which=\"both\", ls=':')\n",
    "ax[0].set_ylabel('Gain [dB]')\n",
    "ax[1].grid(which=\"both\", ls=':')\n",
    "ax[1].set_xlabel('$\\omega$ [rad/s]')\n",
    "ax[1].set_ylabel('Phase [deg]')\n",
    "ax[1].set_ylim(-190,10)\n",
    "ax[1].set_yticks([-270,-180,-90,0])\n",
    "\n",
    "fig.tight_layout()"
   ]
  },
  {
   "cell_type": "code",
   "execution_count": 10,
   "metadata": {},
   "outputs": [
    {
     "data": {
      "image/png": "[encoded data removed]",
      "text/plain": [
       "<Figure size 288x252 with 2 Axes>"
      ]
     },
     "metadata": {
      "needs_background": "light"
     },
     "output_type": "display_data"
    }
   ],
   "source": [
    "fig, ax = plt.subplots(2, 1, figsize=(4, 3.5)) \n",
    "\n",
    "gain, phase, w = bode(P, logspace(-1,2), Plot=False)\n",
    "ax[0].semilogx(w, 20*np.log10(gain))\n",
    "ax[1].semilogx(w, phase*180/np.pi)\n",
    "\n",
    "gain, phase, w = bode(P*K1, logspace(-1,2), Plot=False)\n",
    "ax[0].semilogx(w, 20*np.log10(gain))\n",
    "ax[1].semilogx(w, phase*180/np.pi)\n",
    "\n",
    "ax[0].grid(which=\"both\", ls=':')\n",
    "ax[0].set_ylabel('Gain [dB]')\n",
    "ax[1].grid(which=\"both\", ls=':')\n",
    "ax[1].set_xlabel('$\\omega$ [rad/s]')\n",
    "ax[1].set_ylabel('Phase [deg]')\n",
    "ax[1].set_ylim(-190,10)\n",
    "ax[1].set_yticks([-180,-90,0])\n",
    "\n",
    "fig.tight_layout()"
   ]
  },
  {
   "cell_type": "code",
   "execution_count": null,
   "metadata": {},
   "outputs": [],
   "source": []
  }
 ],
 "metadata": {
  "kernelspec": {
   "display_name": "Python 3",
   "language": "python",
   "name": "python3"
  },
  "language_info": {
   "codemirror_mode": {
    "name": "ipython",
    "version": 3
   },
   "file_extension": ".py",
   "mimetype": "text/x-python",
   "name": "python",
   "nbconvert_exporter": "python",
   "pygments_lexer": "ipython3",
   "version": "3.7.6"
  }
 },
 "nbformat": 4,
 "nbformat_minor": 4
}
