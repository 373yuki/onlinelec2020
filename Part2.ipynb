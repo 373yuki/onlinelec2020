{
 "cells": [
  {
   "cell_type": "markdown",
   "metadata": {},
   "source": [
    "# Pythonで学ぶ制御工学 Part2"
   ]
  },
  {
   "cell_type": "markdown",
   "metadata": {},
   "source": [
    "### 今日の目標\n",
    "* 閉ループ系の安定性をPythonでチェックできる\n",
    "* PID制御系の応答特性（時間・周波数）のグラフをPythonで描ける"
   ]
  },
  {
   "cell_type": "code",
   "execution_count": 430,
   "metadata": {},
   "outputs": [
    {
     "data": {
      "text/html": [
       "\n",
       "    <div class=\"bk-root\">\n",
       "        <a href=\"https://bokeh.org\" target=\"_blank\" class=\"bk-logo bk-logo-small bk-logo-notebook\"></a>\n",
       "        <span id=\"1314\">Loading BokehJS ...</span>\n",
       "    </div>"
      ]
     },
     "metadata": {},
     "output_type": "display_data"
    },
    {
     "data": {
      "application/javascript": [
       "\n",
       "(function(root) {\n",
       "  function now() {\n",
       "    return new Date();\n",
       "  }\n",
       "\n",
       "  var force = true;\n",
       "\n",
       "  if (typeof root._bokeh_onload_callbacks === \"undefined\" || force === true) {\n",
       "    root._bokeh_onload_callbacks = [];\n",
       "    root._bokeh_is_loading = undefined;\n",
       "  }\n",
       "\n",
       "  var JS_MIME_TYPE = 'application/javascript';\n",
       "  var HTML_MIME_TYPE = 'text/html';\n",
       "  var EXEC_MIME_TYPE = 'application/vnd.bokehjs_exec.v0+json';\n",
       "  var CLASS_NAME = 'output_bokeh rendered_html';\n",
       "\n",
       "  /**\n",
       "   * Render data to the DOM node\n",
       "   */\n",
       "  function render(props, node) {\n",
       "    var script = document.createElement(\"script\");\n",
       "    node.appendChild(script);\n",
       "  }\n",
       "\n",
       "  /**\n",
       "   * Handle when an output is cleared or removed\n",
       "   */\n",
       "  function handleClearOutput(event, handle) {\n",
       "    var cell = handle.cell;\n",
       "\n",
       "    var id = cell.output_area._bokeh_element_id;\n",
       "    var server_id = cell.output_area._bokeh_server_id;\n",
       "    // Clean up Bokeh references\n",
       "    if (id != null && id in Bokeh.index) {\n",
       "      Bokeh.index[id].model.document.clear();\n",
       "      delete Bokeh.index[id];\n",
       "    }\n",
       "\n",
       "    if (server_id !== undefined) {\n",
       "      // Clean up Bokeh references\n",
       "      var cmd = \"from bokeh.io.state import curstate; print(curstate().uuid_to_server['\" + server_id + \"'].get_sessions()[0].document.roots[0]._id)\";\n",
       "      cell.notebook.kernel.execute(cmd, {\n",
       "        iopub: {\n",
       "          output: function(msg) {\n",
       "            var id = msg.content.text.trim();\n",
       "            if (id in Bokeh.index) {\n",
       "              Bokeh.index[id].model.document.clear();\n",
       "              delete Bokeh.index[id];\n",
       "            }\n",
       "          }\n",
       "        }\n",
       "      });\n",
       "      // Destroy server and session\n",
       "      var cmd = \"import bokeh.io.notebook as ion; ion.destroy_server('\" + server_id + \"')\";\n",
       "      cell.notebook.kernel.execute(cmd);\n",
       "    }\n",
       "  }\n",
       "\n",
       "  /**\n",
       "   * Handle when a new output is added\n",
       "   */\n",
       "  function handleAddOutput(event, handle) {\n",
       "    var output_area = handle.output_area;\n",
       "    var output = handle.output;\n",
       "\n",
       "    // limit handleAddOutput to display_data with EXEC_MIME_TYPE content only\n",
       "    if ((output.output_type != \"display_data\") || (!output.data.hasOwnProperty(EXEC_MIME_TYPE))) {\n",
       "      return\n",
       "    }\n",
       "\n",
       "    var toinsert = output_area.element.find(\".\" + CLASS_NAME.split(' ')[0]);\n",
       "\n",
       "    if (output.metadata[EXEC_MIME_TYPE][\"id\"] !== undefined) {\n",
       "      toinsert[toinsert.length - 1].firstChild.textContent = output.data[JS_MIME_TYPE];\n",
       "      // store reference to embed id on output_area\n",
       "      output_area._bokeh_element_id = output.metadata[EXEC_MIME_TYPE][\"id\"];\n",
       "    }\n",
       "    if (output.metadata[EXEC_MIME_TYPE][\"server_id\"] !== undefined) {\n",
       "      var bk_div = document.createElement(\"div\");\n",
       "      bk_div.innerHTML = output.data[HTML_MIME_TYPE];\n",
       "      var script_attrs = bk_div.children[0].attributes;\n",
       "      for (var i = 0; i < script_attrs.length; i++) {\n",
       "        toinsert[toinsert.length - 1].firstChild.setAttribute(script_attrs[i].name, script_attrs[i].value);\n",
       "      }\n",
       "      // store reference to server id on output_area\n",
       "      output_area._bokeh_server_id = output.metadata[EXEC_MIME_TYPE][\"server_id\"];\n",
       "    }\n",
       "  }\n",
       "\n",
       "  function register_renderer(events, OutputArea) {\n",
       "\n",
       "    function append_mime(data, metadata, element) {\n",
       "      // create a DOM node to render to\n",
       "      var toinsert = this.create_output_subarea(\n",
       "        metadata,\n",
       "        CLASS_NAME,\n",
       "        EXEC_MIME_TYPE\n",
       "      );\n",
       "      this.keyboard_manager.register_events(toinsert);\n",
       "      // Render to node\n",
       "      var props = {data: data, metadata: metadata[EXEC_MIME_TYPE]};\n",
       "      render(props, toinsert[toinsert.length - 1]);\n",
       "      element.append(toinsert);\n",
       "      return toinsert\n",
       "    }\n",
       "\n",
       "    /* Handle when an output is cleared or removed */\n",
       "    events.on('clear_output.CodeCell', handleClearOutput);\n",
       "    events.on('delete.Cell', handleClearOutput);\n",
       "\n",
       "    /* Handle when a new output is added */\n",
       "    events.on('output_added.OutputArea', handleAddOutput);\n",
       "\n",
       "    /**\n",
       "     * Register the mime type and append_mime function with output_area\n",
       "     */\n",
       "    OutputArea.prototype.register_mime_type(EXEC_MIME_TYPE, append_mime, {\n",
       "      /* Is output safe? */\n",
       "      safe: true,\n",
       "      /* Index of renderer in `output_area.display_order` */\n",
       "      index: 0\n",
       "    });\n",
       "  }\n",
       "\n",
       "  // register the mime type if in Jupyter Notebook environment and previously unregistered\n",
       "  if (root.Jupyter !== undefined) {\n",
       "    var events = require('base/js/events');\n",
       "    var OutputArea = require('notebook/js/outputarea').OutputArea;\n",
       "\n",
       "    if (OutputArea.prototype.mime_types().indexOf(EXEC_MIME_TYPE) == -1) {\n",
       "      register_renderer(events, OutputArea);\n",
       "    }\n",
       "  }\n",
       "\n",
       "  \n",
       "  if (typeof (root._bokeh_timeout) === \"undefined\" || force === true) {\n",
       "    root._bokeh_timeout = Date.now() + 5000;\n",
       "    root._bokeh_failed_load = false;\n",
       "  }\n",
       "\n",
       "  var NB_LOAD_WARNING = {'data': {'text/html':\n",
       "     \"<div style='background-color: #fdd'>\\n\"+\n",
       "     \"<p>\\n\"+\n",
       "     \"BokehJS does not appear to have successfully loaded. If loading BokehJS from CDN, this \\n\"+\n",
       "     \"may be due to a slow or bad network connection. Possible fixes:\\n\"+\n",
       "     \"</p>\\n\"+\n",
       "     \"<ul>\\n\"+\n",
       "     \"<li>re-rerun `output_notebook()` to attempt to load from CDN again, or</li>\\n\"+\n",
       "     \"<li>use INLINE resources instead, as so:</li>\\n\"+\n",
       "     \"</ul>\\n\"+\n",
       "     \"<code>\\n\"+\n",
       "     \"from bokeh.resources import INLINE\\n\"+\n",
       "     \"output_notebook(resources=INLINE)\\n\"+\n",
       "     \"</code>\\n\"+\n",
       "     \"</div>\"}};\n",
       "\n",
       "  function display_loaded() {\n",
       "    var el = document.getElementById(\"1314\");\n",
       "    if (el != null) {\n",
       "      el.textContent = \"BokehJS is loading...\";\n",
       "    }\n",
       "    if (root.Bokeh !== undefined) {\n",
       "      if (el != null) {\n",
       "        el.textContent = \"BokehJS \" + root.Bokeh.version + \" successfully loaded.\";\n",
       "      }\n",
       "    } else if (Date.now() < root._bokeh_timeout) {\n",
       "      setTimeout(display_loaded, 100)\n",
       "    }\n",
       "  }\n",
       "\n",
       "\n",
       "  function run_callbacks() {\n",
       "    try {\n",
       "      root._bokeh_onload_callbacks.forEach(function(callback) {\n",
       "        if (callback != null)\n",
       "          callback();\n",
       "      });\n",
       "    } finally {\n",
       "      delete root._bokeh_onload_callbacks\n",
       "    }\n",
       "    console.debug(\"Bokeh: all callbacks have finished\");\n",
       "  }\n",
       "\n",
       "  function load_libs(css_urls, js_urls, callback) {\n",
       "    if (css_urls == null) css_urls = [];\n",
       "    if (js_urls == null) js_urls = [];\n",
       "\n",
       "    root._bokeh_onload_callbacks.push(callback);\n",
       "    if (root._bokeh_is_loading > 0) {\n",
       "      console.debug(\"Bokeh: BokehJS is being loaded, scheduling callback at\", now());\n",
       "      return null;\n",
       "    }\n",
       "    if (js_urls == null || js_urls.length === 0) {\n",
       "      run_callbacks();\n",
       "      return null;\n",
       "    }\n",
       "    console.debug(\"Bokeh: BokehJS not loaded, scheduling load and callback at\", now());\n",
       "    root._bokeh_is_loading = css_urls.length + js_urls.length;\n",
       "\n",
       "    function on_load() {\n",
       "      root._bokeh_is_loading--;\n",
       "      if (root._bokeh_is_loading === 0) {\n",
       "        console.debug(\"Bokeh: all BokehJS libraries/stylesheets loaded\");\n",
       "        run_callbacks()\n",
       "      }\n",
       "    }\n",
       "\n",
       "    function on_error() {\n",
       "      console.error(\"failed to load \" + url);\n",
       "    }\n",
       "\n",
       "    for (var i = 0; i < css_urls.length; i++) {\n",
       "      var url = css_urls[i];\n",
       "      const element = document.createElement(\"link\");\n",
       "      element.onload = on_load;\n",
       "      element.onerror = on_error;\n",
       "      element.rel = \"stylesheet\";\n",
       "      element.type = \"text/css\";\n",
       "      element.href = url;\n",
       "      console.debug(\"Bokeh: injecting link tag for BokehJS stylesheet: \", url);\n",
       "      document.body.appendChild(element);\n",
       "    }\n",
       "\n",
       "    for (var i = 0; i < js_urls.length; i++) {\n",
       "      var url = js_urls[i];\n",
       "      var element = document.createElement('script');\n",
       "      element.onload = on_load;\n",
       "      element.onerror = on_error;\n",
       "      element.async = false;\n",
       "      element.src = url;\n",
       "      console.debug(\"Bokeh: injecting script tag for BokehJS library: \", url);\n",
       "      document.head.appendChild(element);\n",
       "    }\n",
       "  };var element = document.getElementById(\"1314\");\n",
       "  if (element == null) {\n",
       "    console.error(\"Bokeh: ERROR: autoload.js configured with elementid '1314' but no matching script tag was found. \")\n",
       "    return false;\n",
       "  }\n",
       "\n",
       "  function inject_raw_css(css) {\n",
       "    const element = document.createElement(\"style\");\n",
       "    element.appendChild(document.createTextNode(css));\n",
       "    document.body.appendChild(element);\n",
       "  }\n",
       "\n",
       "  \n",
       "  var js_urls = [\"https://cdn.pydata.org/bokeh/release/bokeh-1.4.0.min.js\", \"https://cdn.pydata.org/bokeh/release/bokeh-widgets-1.4.0.min.js\", \"https://cdn.pydata.org/bokeh/release/bokeh-tables-1.4.0.min.js\", \"https://cdn.pydata.org/bokeh/release/bokeh-gl-1.4.0.min.js\"];\n",
       "  var css_urls = [];\n",
       "  \n",
       "\n",
       "  var inline_js = [\n",
       "    function(Bokeh) {\n",
       "      Bokeh.set_log_level(\"info\");\n",
       "    },\n",
       "    function(Bokeh) {\n",
       "    \n",
       "    \n",
       "    }\n",
       "  ];\n",
       "\n",
       "  function run_inline_js() {\n",
       "    \n",
       "    if (root.Bokeh !== undefined || force === true) {\n",
       "      \n",
       "    for (var i = 0; i < inline_js.length; i++) {\n",
       "      inline_js[i].call(root, root.Bokeh);\n",
       "    }\n",
       "    if (force === true) {\n",
       "        display_loaded();\n",
       "      }} else if (Date.now() < root._bokeh_timeout) {\n",
       "      setTimeout(run_inline_js, 100);\n",
       "    } else if (!root._bokeh_failed_load) {\n",
       "      console.log(\"Bokeh: BokehJS failed to load within specified timeout.\");\n",
       "      root._bokeh_failed_load = true;\n",
       "    } else if (force !== true) {\n",
       "      var cell = $(document.getElementById(\"1314\")).parents('.cell').data().cell;\n",
       "      cell.output_area.append_execute_result(NB_LOAD_WARNING)\n",
       "    }\n",
       "\n",
       "  }\n",
       "\n",
       "  if (root._bokeh_is_loading === 0) {\n",
       "    console.debug(\"Bokeh: BokehJS loaded, going straight to plotting\");\n",
       "    run_inline_js();\n",
       "  } else {\n",
       "    load_libs(css_urls, js_urls, function() {\n",
       "      console.debug(\"Bokeh: BokehJS plotting callback run at\", now());\n",
       "      run_inline_js();\n",
       "    });\n",
       "  }\n",
       "}(window));"
      ],
      "application/vnd.bokehjs_load.v0+json": "\n(function(root) {\n  function now() {\n    return new Date();\n  }\n\n  var force = true;\n\n  if (typeof root._bokeh_onload_callbacks === \"undefined\" || force === true) {\n    root._bokeh_onload_callbacks = [];\n    root._bokeh_is_loading = undefined;\n  }\n\n  \n\n  \n  if (typeof (root._bokeh_timeout) === \"undefined\" || force === true) {\n    root._bokeh_timeout = Date.now() + 5000;\n    root._bokeh_failed_load = false;\n  }\n\n  var NB_LOAD_WARNING = {'data': {'text/html':\n     \"<div style='background-color: #fdd'>\\n\"+\n     \"<p>\\n\"+\n     \"BokehJS does not appear to have successfully loaded. If loading BokehJS from CDN, this \\n\"+\n     \"may be due to a slow or bad network connection. Possible fixes:\\n\"+\n     \"</p>\\n\"+\n     \"<ul>\\n\"+\n     \"<li>re-rerun `output_notebook()` to attempt to load from CDN again, or</li>\\n\"+\n     \"<li>use INLINE resources instead, as so:</li>\\n\"+\n     \"</ul>\\n\"+\n     \"<code>\\n\"+\n     \"from bokeh.resources import INLINE\\n\"+\n     \"output_notebook(resources=INLINE)\\n\"+\n     \"</code>\\n\"+\n     \"</div>\"}};\n\n  function display_loaded() {\n    var el = document.getElementById(\"1314\");\n    if (el != null) {\n      el.textContent = \"BokehJS is loading...\";\n    }\n    if (root.Bokeh !== undefined) {\n      if (el != null) {\n        el.textContent = \"BokehJS \" + root.Bokeh.version + \" successfully loaded.\";\n      }\n    } else if (Date.now() < root._bokeh_timeout) {\n      setTimeout(display_loaded, 100)\n    }\n  }\n\n\n  function run_callbacks() {\n    try {\n      root._bokeh_onload_callbacks.forEach(function(callback) {\n        if (callback != null)\n          callback();\n      });\n    } finally {\n      delete root._bokeh_onload_callbacks\n    }\n    console.debug(\"Bokeh: all callbacks have finished\");\n  }\n\n  function load_libs(css_urls, js_urls, callback) {\n    if (css_urls == null) css_urls = [];\n    if (js_urls == null) js_urls = [];\n\n    root._bokeh_onload_callbacks.push(callback);\n    if (root._bokeh_is_loading > 0) {\n      console.debug(\"Bokeh: BokehJS is being loaded, scheduling callback at\", now());\n      return null;\n    }\n    if (js_urls == null || js_urls.length === 0) {\n      run_callbacks();\n      return null;\n    }\n    console.debug(\"Bokeh: BokehJS not loaded, scheduling load and callback at\", now());\n    root._bokeh_is_loading = css_urls.length + js_urls.length;\n\n    function on_load() {\n      root._bokeh_is_loading--;\n      if (root._bokeh_is_loading === 0) {\n        console.debug(\"Bokeh: all BokehJS libraries/stylesheets loaded\");\n        run_callbacks()\n      }\n    }\n\n    function on_error() {\n      console.error(\"failed to load \" + url);\n    }\n\n    for (var i = 0; i < css_urls.length; i++) {\n      var url = css_urls[i];\n      const element = document.createElement(\"link\");\n      element.onload = on_load;\n      element.onerror = on_error;\n      element.rel = \"stylesheet\";\n      element.type = \"text/css\";\n      element.href = url;\n      console.debug(\"Bokeh: injecting link tag for BokehJS stylesheet: \", url);\n      document.body.appendChild(element);\n    }\n\n    for (var i = 0; i < js_urls.length; i++) {\n      var url = js_urls[i];\n      var element = document.createElement('script');\n      element.onload = on_load;\n      element.onerror = on_error;\n      element.async = false;\n      element.src = url;\n      console.debug(\"Bokeh: injecting script tag for BokehJS library: \", url);\n      document.head.appendChild(element);\n    }\n  };var element = document.getElementById(\"1314\");\n  if (element == null) {\n    console.error(\"Bokeh: ERROR: autoload.js configured with elementid '1314' but no matching script tag was found. \")\n    return false;\n  }\n\n  function inject_raw_css(css) {\n    const element = document.createElement(\"style\");\n    element.appendChild(document.createTextNode(css));\n    document.body.appendChild(element);\n  }\n\n  \n  var js_urls = [\"https://cdn.pydata.org/bokeh/release/bokeh-1.4.0.min.js\", \"https://cdn.pydata.org/bokeh/release/bokeh-widgets-1.4.0.min.js\", \"https://cdn.pydata.org/bokeh/release/bokeh-tables-1.4.0.min.js\", \"https://cdn.pydata.org/bokeh/release/bokeh-gl-1.4.0.min.js\"];\n  var css_urls = [];\n  \n\n  var inline_js = [\n    function(Bokeh) {\n      Bokeh.set_log_level(\"info\");\n    },\n    function(Bokeh) {\n    \n    \n    }\n  ];\n\n  function run_inline_js() {\n    \n    if (root.Bokeh !== undefined || force === true) {\n      \n    for (var i = 0; i < inline_js.length; i++) {\n      inline_js[i].call(root, root.Bokeh);\n    }\n    if (force === true) {\n        display_loaded();\n      }} else if (Date.now() < root._bokeh_timeout) {\n      setTimeout(run_inline_js, 100);\n    } else if (!root._bokeh_failed_load) {\n      console.log(\"Bokeh: BokehJS failed to load within specified timeout.\");\n      root._bokeh_failed_load = true;\n    } else if (force !== true) {\n      var cell = $(document.getElementById(\"1314\")).parents('.cell').data().cell;\n      cell.output_area.append_execute_result(NB_LOAD_WARNING)\n    }\n\n  }\n\n  if (root._bokeh_is_loading === 0) {\n    console.debug(\"Bokeh: BokehJS loaded, going straight to plotting\");\n    run_inline_js();\n  } else {\n    load_libs(css_urls, js_urls, function() {\n      console.debug(\"Bokeh: BokehJS plotting callback run at\", now());\n      run_inline_js();\n    });\n  }\n}(window));"
     },
     "metadata": {},
     "output_type": "display_data"
    },
    {
     "data": {
      "text/html": [
       "\n",
       "\n",
       "\n",
       "\n",
       "\n",
       "\n",
       "  <div class=\"bk-root\" id=\"a2e8a7b4-5396-4e18-9a6a-0cc66862b43f\" data-root-id=\"1438\"></div>\n"
      ]
     },
     "metadata": {},
     "output_type": "display_data"
    },
    {
     "data": {
      "application/javascript": [
       "(function(root) {\n",
       "  function embed_document(root) {\n",
       "    \n",
       "  var docs_json = {\"682702c4-572c-43ce-acb2-c650a2197b40\":{\"roots\":{\"references\":[{\"attributes\":{\"children\":[{\"id\":\"1437\",\"type\":\"Row\"},{\"id\":\"1383\",\"subtype\":\"Figure\",\"type\":\"Plot\"}]},\"id\":\"1438\",\"type\":\"Column\"},{\"attributes\":{\"overlay\":{\"id\":\"1487\",\"type\":\"BoxAnnotation\"}},\"id\":\"1338\",\"type\":\"BoxZoomTool\"},{\"attributes\":{},\"id\":\"1392\",\"type\":\"LinearScale\"},{\"attributes\":{\"children\":[{\"id\":\"1315\",\"subtype\":\"Figure\",\"type\":\"Plot\"},{\"id\":\"1349\",\"subtype\":\"Figure\",\"type\":\"Plot\"}]},\"id\":\"1437\",\"type\":\"Row\"},{\"attributes\":{},\"id\":\"1332\",\"type\":\"BasicTicker\"},{\"attributes\":{\"line_alpha\":0.1,\"line_color\":\"#1f77b4\",\"line_width\":3,\"x\":{\"field\":\"x\"},\"y\":{\"field\":\"y\"}},\"id\":\"1434\",\"type\":\"Line\"},{\"attributes\":{\"data_source\":{\"id\":\"1432\",\"type\":\"ColumnDataSource\"},\"glyph\":{\"id\":\"1433\",\"type\":\"Line\"},\"hover_glyph\":null,\"muted_glyph\":null,\"nonselection_glyph\":{\"id\":\"1434\",\"type\":\"Line\"},\"selection_glyph\":null,\"view\":{\"id\":\"1436\",\"type\":\"CDSView\"}},\"id\":\"1435\",\"type\":\"GlyphRenderer\"},{\"attributes\":{\"axis_label\":\"$w [rad/s]\",\"formatter\":{\"id\":\"1468\",\"type\":\"LogTickFormatter\"},\"ticker\":{\"id\":\"1395\",\"type\":\"LogTicker\"}},\"id\":\"1394\",\"type\":\"LogAxis\"},{\"attributes\":{},\"id\":\"1470\",\"type\":\"BasicTickFormatter\"},{\"attributes\":{},\"id\":\"1400\",\"type\":\"BasicTicker\"},{\"attributes\":{\"axis_label\":\"y\",\"formatter\":{\"id\":\"1474\",\"type\":\"BasicTickFormatter\"},\"ticker\":{\"id\":\"1332\",\"type\":\"BasicTicker\"}},\"id\":\"1331\",\"type\":\"LinearAxis\"},{\"attributes\":{\"num_minor_ticks\":10},\"id\":\"1395\",\"type\":\"LogTicker\"},{\"attributes\":{\"source\":{\"id\":\"1432\",\"type\":\"ColumnDataSource\"}},\"id\":\"1436\",\"type\":\"CDSView\"},{\"attributes\":{\"ticker\":{\"id\":\"1395\",\"type\":\"LogTicker\"}},\"id\":\"1398\",\"type\":\"Grid\"},{\"attributes\":{},\"id\":\"1341\",\"type\":\"HelpTool\"},{\"attributes\":{\"dimension\":1,\"ticker\":{\"id\":\"1400\",\"type\":\"BasicTicker\"}},\"id\":\"1403\",\"type\":\"Grid\"},{\"attributes\":{},\"id\":\"1374\",\"type\":\"ResetTool\"},{\"attributes\":{\"axis_label\":\"Gain [dB]\",\"formatter\":{\"id\":\"1470\",\"type\":\"BasicTickFormatter\"},\"ticker\":{\"id\":\"1400\",\"type\":\"BasicTicker\"}},\"id\":\"1399\",\"type\":\"LinearAxis\"},{\"attributes\":{\"ticker\":null},\"id\":\"1468\",\"type\":\"LogTickFormatter\"},{\"attributes\":{\"text\":\"Pole\"},\"id\":\"1350\",\"type\":\"Title\"},{\"attributes\":{\"line_alpha\":0.1,\"line_color\":\"#1f77b4\",\"x\":{\"field\":\"x\"},\"y\":{\"field\":\"y\"}},\"id\":\"1419\",\"type\":\"Line\"},{\"attributes\":{},\"id\":\"1472\",\"type\":\"BasicTickFormatter\"},{\"attributes\":{\"source\":{\"id\":\"1417\",\"type\":\"ColumnDataSource\"}},\"id\":\"1421\",\"type\":\"CDSView\"},{\"attributes\":{},\"id\":\"1474\",\"type\":\"BasicTickFormatter\"},{\"attributes\":{\"active_drag\":\"auto\",\"active_inspect\":\"auto\",\"active_multi\":null,\"active_scroll\":\"auto\",\"active_tap\":\"auto\",\"tools\":[{\"id\":\"1404\",\"type\":\"PanTool\"},{\"id\":\"1405\",\"type\":\"WheelZoomTool\"},{\"id\":\"1406\",\"type\":\"BoxZoomTool\"},{\"id\":\"1407\",\"type\":\"SaveTool\"},{\"id\":\"1408\",\"type\":\"ResetTool\"},{\"id\":\"1409\",\"type\":\"HelpTool\"}]},\"id\":\"1410\",\"type\":\"Toolbar\"},{\"attributes\":{\"axis_label\":\"Re\",\"formatter\":{\"id\":\"1476\",\"type\":\"BasicTickFormatter\"},\"ticker\":{\"id\":\"1361\",\"type\":\"BasicTicker\"}},\"id\":\"1360\",\"type\":\"LinearAxis\"},{\"attributes\":{\"callback\":null,\"data\":{\"x\":{\"__ndarray__\":\"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\",\"dtype\":\"float64\",\"shape\":[500]},\"y\":[0,1,1,1,1,1,1,1,1,1,1,1,1,1,1,1,1,1,1,1,1,1,1,1,1,1,1,1,1,1,1,1,1,1,1,1,1,1,1,1,1,1,1,1,1,1,1,1,1,1,1,1,1,1,1,1,1,1,1,1,1,1,1,1,1,1,1,1,1,1,1,1,1,1,1,1,1,1,1,1,1,1,1,1,1,1,1,1,1,1,1,1,1,1,1,1,1,1,1,1,1,1,1,1,1,1,1,1,1,1,1,1,1,1,1,1,1,1,1,1,1,1,1,1,1,1,1,1,1,1,1,1,1,1,1,1,1,1,1,1,1,1,1,1,1,1,1,1,1,1,1,1,1,1,1,1,1,1,1,1,1,1,1,1,1,1,1,1,1,1,1,1,1,1,1,1,1,1,1,1,1,1,1,1,1,1,1,1,1,1,1,1,1,1,1,1,1,1,1,1,1,1,1,1,1,1,1,1,1,1,1,1,1,1,1,1,1,1,1,1,1,1,1,1,1,1,1,1,1,1,1,1,1,1,1,1,1,1,1,1,1,1,1,1,1,1,1,1,1,1,1,1,1,1,1,1,1,1,1,1,1,1,1,1,1,1,1,1,1,1,1,1,1,1,1,1,1,1,1,1,1,1,1,1,1,1,1,1,1,1,1,1,1,1,1,1,1,1,1,1,1,1,1,1,1,1,1,1,1,1,1,1,1,1,1,1,1,1,1,1,1,1,1,1,1,1,1,1,1,1,1,1,1,1,1,1,1,1,1,1,1,1,1,1,1,1,1,1,1,1,1,1,1,1,1,1,1,1,1,1,1,1,1,1,1,1,1,1,1,1,1,1,1,1,1,1,1,1,1,1,1,1,1,1,1,1,1,1,1,1,1,1,1,1,1,1,1,1,1,1,1,1,1,1,1,1,1,1,1,1,1,1,1,1,1,1,1,1,1,1,1,1,1,1,1,1,1,1,1,1,1,1,1,1,1,1,1,1,1,1,1,1,1,1,1,1,1,1,1,1,1,1,1,1,1,1,1,1,1,1,1,1,1,1,1,1,1,1,1,1,1,1,1,1,1,1,1,1,1,1,1,1,1,1,1,1,1,1,1,1,1,1,1,1,1,1,1,1,1,1]},\"selected\":{\"id\":\"1484\",\"type\":\"Selection\"},\"selection_policy\":{\"id\":\"1483\",\"type\":\"UnionRenderers\"}},\"id\":\"1417\",\"type\":\"ColumnDataSource\"},{\"attributes\":{},\"id\":\"1476\",\"type\":\"BasicTickFormatter\"},{\"attributes\":{\"ticker\":{\"id\":\"1327\",\"type\":\"BasicTicker\"}},\"id\":\"1330\",\"type\":\"Grid\"},{\"attributes\":{\"data_source\":{\"id\":\"1417\",\"type\":\"ColumnDataSource\"},\"glyph\":{\"id\":\"1418\",\"type\":\"Line\"},\"hover_glyph\":null,\"muted_glyph\":null,\"nonselection_glyph\":{\"id\":\"1419\",\"type\":\"Line\"},\"selection_glyph\":null,\"view\":{\"id\":\"1421\",\"type\":\"CDSView\"}},\"id\":\"1420\",\"type\":\"GlyphRenderer\"},{\"attributes\":{\"axis_label\":\"Im\",\"formatter\":{\"id\":\"1478\",\"type\":\"BasicTickFormatter\"},\"ticker\":{\"id\":\"1366\",\"type\":\"BasicTicker\"}},\"id\":\"1365\",\"type\":\"LinearAxis\"},{\"attributes\":{},\"id\":\"1404\",\"type\":\"PanTool\"},{\"attributes\":{},\"id\":\"1478\",\"type\":\"BasicTickFormatter\"},{\"attributes\":{},\"id\":\"1405\",\"type\":\"WheelZoomTool\"},{\"attributes\":{},\"id\":\"1480\",\"type\":\"UnionRenderers\"},{\"attributes\":{},\"id\":\"1339\",\"type\":\"SaveTool\"},{\"attributes\":{\"overlay\":{\"id\":\"1482\",\"type\":\"BoxAnnotation\"}},\"id\":\"1406\",\"type\":\"BoxZoomTool\"},{\"attributes\":{},\"id\":\"1481\",\"type\":\"Selection\"},{\"attributes\":{},\"id\":\"1322\",\"type\":\"LinearScale\"},{\"attributes\":{\"dimension\":1,\"ticker\":{\"id\":\"1366\",\"type\":\"BasicTicker\"}},\"id\":\"1369\",\"type\":\"Grid\"},{\"attributes\":{},\"id\":\"1407\",\"type\":\"SaveTool\"},{\"attributes\":{\"bottom_units\":\"screen\",\"fill_alpha\":{\"value\":0.5},\"fill_color\":{\"value\":\"lightgrey\"},\"left_units\":\"screen\",\"level\":\"overlay\",\"line_alpha\":{\"value\":1.0},\"line_color\":{\"value\":\"black\"},\"line_dash\":[4,4],\"line_width\":{\"value\":2},\"render_mode\":\"css\",\"right_units\":\"screen\",\"top_units\":\"screen\"},\"id\":\"1482\",\"type\":\"BoxAnnotation\"},{\"attributes\":{},\"id\":\"1408\",\"type\":\"ResetTool\"},{\"attributes\":{},\"id\":\"1483\",\"type\":\"UnionRenderers\"},{\"attributes\":{\"ticker\":{\"id\":\"1361\",\"type\":\"BasicTicker\"}},\"id\":\"1364\",\"type\":\"Grid\"},{\"attributes\":{},\"id\":\"1484\",\"type\":\"Selection\"},{\"attributes\":{},\"id\":\"1409\",\"type\":\"HelpTool\"},{\"attributes\":{},\"id\":\"1361\",\"type\":\"BasicTicker\"},{\"attributes\":{},\"id\":\"1485\",\"type\":\"UnionRenderers\"},{\"attributes\":{},\"id\":\"1366\",\"type\":\"BasicTicker\"},{\"attributes\":{},\"id\":\"1486\",\"type\":\"Selection\"},{\"attributes\":{\"fill_color\":{\"value\":\"#1f77b4\"},\"line_color\":{\"value\":\"#1f77b4\"},\"x\":{\"field\":\"x\"},\"y\":{\"field\":\"y\"}},\"id\":\"1428\",\"type\":\"Scatter\"},{\"attributes\":{\"bottom_units\":\"screen\",\"fill_alpha\":{\"value\":0.5},\"fill_color\":{\"value\":\"lightgrey\"},\"left_units\":\"screen\",\"level\":\"overlay\",\"line_alpha\":{\"value\":1.0},\"line_color\":{\"value\":\"black\"},\"line_dash\":[4,4],\"line_width\":{\"value\":2},\"render_mode\":\"css\",\"right_units\":\"screen\",\"top_units\":\"screen\"},\"id\":\"1487\",\"type\":\"BoxAnnotation\"},{\"attributes\":{\"line_color\":\"#1f77b4\",\"x\":{\"field\":\"x\"},\"y\":{\"field\":\"y\"}},\"id\":\"1418\",\"type\":\"Line\"},{\"attributes\":{\"callback\":null,\"data\":{\"x\":{\"__ndarray__\":\"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\",\"dtype\":\"float64\",\"shape\":[500]},\"y\":{\"__ndarray__\":\"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\",\"dtype\":\"float64\",\"shape\":[500]}},\"selected\":{\"id\":\"1486\",\"type\":\"Selection\"},\"selection_policy\":{\"id\":\"1485\",\"type\":\"UnionRenderers\"}},\"id\":\"1422\",\"type\":\"ColumnDataSource\"},{\"attributes\":{},\"id\":\"1488\",\"type\":\"UnionRenderers\"},{\"attributes\":{\"line_color\":\"red\",\"line_width\":3,\"x\":{\"field\":\"x\"},\"y\":{\"field\":\"y\"}},\"id\":\"1423\",\"type\":\"Line\"},{\"attributes\":{},\"id\":\"1340\",\"type\":\"ResetTool\"},{\"attributes\":{},\"id\":\"1371\",\"type\":\"WheelZoomTool\"},{\"attributes\":{},\"id\":\"1489\",\"type\":\"Selection\"},{\"attributes\":{\"line_alpha\":0.1,\"line_color\":\"#1f77b4\",\"line_width\":3,\"x\":{\"field\":\"x\"},\"y\":{\"field\":\"y\"}},\"id\":\"1424\",\"type\":\"Line\"},{\"attributes\":{\"bottom_units\":\"screen\",\"fill_alpha\":{\"value\":0.5},\"fill_color\":{\"value\":\"lightgrey\"},\"left_units\":\"screen\",\"level\":\"overlay\",\"line_alpha\":{\"value\":1.0},\"line_color\":{\"value\":\"black\"},\"line_dash\":[4,4],\"line_width\":{\"value\":2},\"render_mode\":\"css\",\"right_units\":\"screen\",\"top_units\":\"screen\"},\"id\":\"1490\",\"type\":\"BoxAnnotation\"},{\"attributes\":{\"callback\":null},\"id\":\"1386\",\"type\":\"DataRange1d\"},{\"attributes\":{\"data_source\":{\"id\":\"1422\",\"type\":\"ColumnDataSource\"},\"glyph\":{\"id\":\"1423\",\"type\":\"Line\"},\"hover_glyph\":null,\"muted_glyph\":null,\"nonselection_glyph\":{\"id\":\"1424\",\"type\":\"Line\"},\"selection_glyph\":null,\"view\":{\"id\":\"1426\",\"type\":\"CDSView\"}},\"id\":\"1425\",\"type\":\"GlyphRenderer\"},{\"attributes\":{},\"id\":\"1373\",\"type\":\"SaveTool\"},{\"attributes\":{\"text\":\"Gain Diagram\"},\"id\":\"1384\",\"type\":\"Title\"},{\"attributes\":{\"callback\":null,\"data\":{\"x\":{\"__ndarray__\":\"exSuR+F6hD+xy/epEbeIP/OEmNZ1040/U7U+ajX/kT87ZwAM8reVP2RS0oizNZo/U1Ys2Tehnz+1OG7m1BWjP5H87YcvCKc/3ytzNXnLqz/HhKNUc8WwP9fsUPJNPbQ/rYfRlsJsuD/QuHzuyHm9PwRIUE0ZycE/9hI5a6V2xT8nDOAH5ubJP1khz5weQs8/vlENE3Pc0j+MNxr178LWP1mLGLTnd9s/d9N4kQaT4D91NEO/cwDkP0ccxu5SI+g/hp8CpSkh7T9XWmLgn5PxP/pR8h4dNvU/79rudAWZ+T+SPUBNI+T+PylbW8a9owJA+7lNloB+BkC/7NJ0USULQHBJA2oxYRBATl7kgVDEE0CJvxkSwNoXQHuWhc+UyRxAYVJROsdeIUB2DOLYVvYkQKNeowcPTClAcePUjkKHLkAGBaD5smsyQPm6i/neOjZAaW4yhLPTOkCV824W8i9AQOdtHRTiiENAuUz0aAeTR0BYRuZMB3NMQLM9uHeNKlFAzfCsUVC3VEAAAAAAAABZQA==\",\"dtype\":\"float64\",\"shape\":[50]},\"y\":{\"__ndarray__\":\"VqfLxuOpNcBwlt1X4qk1wJdzfUHgqTXAtgxCN92pNcBLN+TJ2Kk1wLBNVlfSqTXAWSKa88ipNcDxyAZHu6k1wJJqLl2nqTXAAMFkXYqpNcDos7oiYKk1wDTjqqQiqTXAhCgOG8moNcD10F2+Rqg1wLaKlfeIpzXAOzmSv3SmNcCLrIrS4qQ1wJJ98DaaojXAH5T9ZUifNcC6HMoodpo1wAXWKgJ4kzXARVAt61iJNcBC4uuzvno1wPSXqNfJZTXAeT5Fz/pHNcDVOlEIQB41wPrs9K6a5TTAKe1AVaWdNMBg15panVA0wPJH2tapKDTAZQfzbHCRNMDdz4/33xo2wGHKGjB70zjAiBoJFJ0yPMD8QRow8ME/wCw81MXTp0HAAWgr1EpnQ8CS44OeIh9FwOq2PmHH0EbAoPep08h9SMAs4DDicidKwHYNnYDAzkvAPAqhmmd0TcC+KU096RhPwPrLdOxPXlDA2fagLOUvUcD2fVYpSgFSwLW97e6N0lLAhkDd3LqjU8Bi+UsX2HRUwA==\",\"dtype\":\"float64\",\"shape\":[50]}},\"selected\":{\"id\":\"1481\",\"type\":\"Selection\"},\"selection_policy\":{\"id\":\"1480\",\"type\":\"UnionRenderers\"}},\"id\":\"1432\",\"type\":\"ColumnDataSource\"},{\"attributes\":{\"source\":{\"id\":\"1422\",\"type\":\"ColumnDataSource\"}},\"id\":\"1426\",\"type\":\"CDSView\"},{\"attributes\":{\"active_drag\":\"auto\",\"active_inspect\":\"auto\",\"active_multi\":null,\"active_scroll\":\"auto\",\"active_tap\":\"auto\",\"tools\":[{\"id\":\"1336\",\"type\":\"PanTool\"},{\"id\":\"1337\",\"type\":\"WheelZoomTool\"},{\"id\":\"1338\",\"type\":\"BoxZoomTool\"},{\"id\":\"1339\",\"type\":\"SaveTool\"},{\"id\":\"1340\",\"type\":\"ResetTool\"},{\"id\":\"1341\",\"type\":\"HelpTool\"}]},\"id\":\"1342\",\"type\":\"Toolbar\"},{\"attributes\":{\"callback\":null,\"data\":{\"x\":{\"__ndarray__\":\"AAAAAAAA+L8AAAAAAAD4vw==\",\"dtype\":\"float64\",\"shape\":[2]},\"y\":{\"__ndarray__\":\"oiTmqhH/BUCiJOaqEf8FwA==\",\"dtype\":\"float64\",\"shape\":[2]}},\"selected\":{\"id\":\"1489\",\"type\":\"Selection\"},\"selection_policy\":{\"id\":\"1488\",\"type\":\"UnionRenderers\"}},\"id\":\"1427\",\"type\":\"ColumnDataSource\"},{\"attributes\":{\"below\":[{\"id\":\"1360\",\"type\":\"LinearAxis\"}],\"center\":[{\"id\":\"1364\",\"type\":\"Grid\"},{\"id\":\"1369\",\"type\":\"Grid\"}],\"left\":[{\"id\":\"1365\",\"type\":\"LinearAxis\"}],\"plot_height\":250,\"plot_width\":250,\"renderers\":[{\"id\":\"1430\",\"type\":\"GlyphRenderer\"}],\"title\":{\"id\":\"1350\",\"type\":\"Title\"},\"toolbar\":{\"id\":\"1376\",\"type\":\"Toolbar\"},\"x_range\":{\"id\":\"1352\",\"type\":\"Range1d\"},\"x_scale\":{\"id\":\"1356\",\"type\":\"LinearScale\"},\"y_range\":{\"id\":\"1354\",\"type\":\"Range1d\"},\"y_scale\":{\"id\":\"1358\",\"type\":\"LinearScale\"}},\"id\":\"1349\",\"subtype\":\"Figure\",\"type\":\"Plot\"},{\"attributes\":{},\"id\":\"1370\",\"type\":\"PanTool\"},{\"attributes\":{},\"id\":\"1337\",\"type\":\"WheelZoomTool\"},{\"attributes\":{\"source\":{\"id\":\"1427\",\"type\":\"ColumnDataSource\"}},\"id\":\"1431\",\"type\":\"CDSView\"},{\"attributes\":{\"fill_alpha\":{\"value\":0.1},\"fill_color\":{\"value\":\"#1f77b4\"},\"line_alpha\":{\"value\":0.1},\"line_color\":{\"value\":\"#1f77b4\"},\"x\":{\"field\":\"x\"},\"y\":{\"field\":\"y\"}},\"id\":\"1429\",\"type\":\"Scatter\"},{\"attributes\":{\"overlay\":{\"id\":\"1490\",\"type\":\"BoxAnnotation\"}},\"id\":\"1372\",\"type\":\"BoxZoomTool\"},{\"attributes\":{\"callback\":null,\"end\":20,\"start\":-60},\"id\":\"1388\",\"type\":\"Range1d\"},{\"attributes\":{},\"id\":\"1390\",\"type\":\"LogScale\"},{\"attributes\":{\"data_source\":{\"id\":\"1427\",\"type\":\"ColumnDataSource\"},\"glyph\":{\"id\":\"1428\",\"type\":\"Scatter\"},\"hover_glyph\":null,\"muted_glyph\":null,\"nonselection_glyph\":{\"id\":\"1429\",\"type\":\"Scatter\"},\"selection_glyph\":null,\"view\":{\"id\":\"1431\",\"type\":\"CDSView\"}},\"id\":\"1430\",\"type\":\"GlyphRenderer\"},{\"attributes\":{},\"id\":\"1358\",\"type\":\"LinearScale\"},{\"attributes\":{\"line_color\":\"#1f77b4\",\"line_width\":3,\"x\":{\"field\":\"x\"},\"y\":{\"field\":\"y\"}},\"id\":\"1433\",\"type\":\"Line\"},{\"attributes\":{\"active_drag\":\"auto\",\"active_inspect\":\"auto\",\"active_multi\":null,\"active_scroll\":\"auto\",\"active_tap\":\"auto\",\"tools\":[{\"id\":\"1370\",\"type\":\"PanTool\"},{\"id\":\"1371\",\"type\":\"WheelZoomTool\"},{\"id\":\"1372\",\"type\":\"BoxZoomTool\"},{\"id\":\"1373\",\"type\":\"SaveTool\"},{\"id\":\"1374\",\"type\":\"ResetTool\"},{\"id\":\"1375\",\"type\":\"HelpTool\"}]},\"id\":\"1376\",\"type\":\"Toolbar\"},{\"attributes\":{\"dimension\":1,\"ticker\":{\"id\":\"1332\",\"type\":\"BasicTicker\"}},\"id\":\"1335\",\"type\":\"Grid\"},{\"attributes\":{},\"id\":\"1375\",\"type\":\"HelpTool\"},{\"attributes\":{},\"id\":\"1356\",\"type\":\"LinearScale\"},{\"attributes\":{\"callback\":null},\"id\":\"1318\",\"type\":\"DataRange1d\"},{\"attributes\":{\"axis_label\":\"t [s]\",\"formatter\":{\"id\":\"1472\",\"type\":\"BasicTickFormatter\"},\"ticker\":{\"id\":\"1327\",\"type\":\"BasicTicker\"}},\"id\":\"1326\",\"type\":\"LinearAxis\"},{\"attributes\":{\"callback\":null,\"end\":2,\"start\":-14},\"id\":\"1352\",\"type\":\"Range1d\"},{\"attributes\":{},\"id\":\"1336\",\"type\":\"PanTool\"},{\"attributes\":{},\"id\":\"1327\",\"type\":\"BasicTicker\"},{\"attributes\":{},\"id\":\"1324\",\"type\":\"LinearScale\"},{\"attributes\":{\"callback\":null,\"end\":2},\"id\":\"1320\",\"type\":\"Range1d\"},{\"attributes\":{\"below\":[{\"id\":\"1394\",\"type\":\"LogAxis\"}],\"center\":[{\"id\":\"1398\",\"type\":\"Grid\"},{\"id\":\"1403\",\"type\":\"Grid\"}],\"left\":[{\"id\":\"1399\",\"type\":\"LinearAxis\"}],\"plot_height\":300,\"renderers\":[{\"id\":\"1435\",\"type\":\"GlyphRenderer\"}],\"title\":{\"id\":\"1384\",\"type\":\"Title\"},\"toolbar\":{\"id\":\"1410\",\"type\":\"Toolbar\"},\"x_range\":{\"id\":\"1386\",\"type\":\"DataRange1d\"},\"x_scale\":{\"id\":\"1390\",\"type\":\"LogScale\"},\"y_range\":{\"id\":\"1388\",\"type\":\"Range1d\"},\"y_scale\":{\"id\":\"1392\",\"type\":\"LinearScale\"}},\"id\":\"1383\",\"subtype\":\"Figure\",\"type\":\"Plot\"},{\"attributes\":{\"below\":[{\"id\":\"1326\",\"type\":\"LinearAxis\"}],\"center\":[{\"id\":\"1330\",\"type\":\"Grid\"},{\"id\":\"1335\",\"type\":\"Grid\"}],\"left\":[{\"id\":\"1331\",\"type\":\"LinearAxis\"}],\"plot_height\":250,\"plot_width\":350,\"renderers\":[{\"id\":\"1420\",\"type\":\"GlyphRenderer\"},{\"id\":\"1425\",\"type\":\"GlyphRenderer\"}],\"title\":{\"id\":\"1316\",\"type\":\"Title\"},\"toolbar\":{\"id\":\"1342\",\"type\":\"Toolbar\"},\"x_range\":{\"id\":\"1318\",\"type\":\"DataRange1d\"},\"x_scale\":{\"id\":\"1322\",\"type\":\"LinearScale\"},\"y_range\":{\"id\":\"1320\",\"type\":\"Range1d\"},\"y_scale\":{\"id\":\"1324\",\"type\":\"LinearScale\"}},\"id\":\"1315\",\"subtype\":\"Figure\",\"type\":\"Plot\"},{\"attributes\":{\"callback\":null,\"end\":8,\"start\":-8},\"id\":\"1354\",\"type\":\"Range1d\"},{\"attributes\":{\"text\":\"Step Response\"},\"id\":\"1316\",\"type\":\"Title\"}],\"root_ids\":[\"1438\"]},\"title\":\"Bokeh Application\",\"version\":\"1.4.0\"}};\n",
       "  var render_items = [{\"docid\":\"682702c4-572c-43ce-acb2-c650a2197b40\",\"notebook_comms_target\":\"1491\",\"roots\":{\"1438\":\"a2e8a7b4-5396-4e18-9a6a-0cc66862b43f\"}}];\n",
       "  root.Bokeh.embed.embed_items_notebook(docs_json, render_items);\n",
       "\n",
       "  }\n",
       "  if (root.Bokeh !== undefined) {\n",
       "    embed_document(root);\n",
       "  } else {\n",
       "    var attempts = 0;\n",
       "    var timer = setInterval(function(root) {\n",
       "      if (root.Bokeh !== undefined) {\n",
       "        clearInterval(timer);\n",
       "        embed_document(root);\n",
       "      } else {\n",
       "        attempts++;\n",
       "        if (attempts > 100) {\n",
       "          clearInterval(timer);\n",
       "          console.log(\"Bokeh: ERROR: Unable to run BokehJS code because BokehJS library is missing\");\n",
       "        }\n",
       "      }\n",
       "    }, 10, root)\n",
       "  }\n",
       "})(window);"
      ],
      "application/vnd.bokehjs_exec.v0+json": ""
     },
     "metadata": {
      "application/vnd.bokehjs_exec.v0+json": {
       "id": "1438"
      }
     },
     "output_type": "display_data"
    },
    {
     "data": {
      "application/vnd.jupyter.widget-view+json": {
       "model_id": "0d45050a60ed4e59aacce753caf1981a",
       "version_major": 2,
       "version_minor": 0
      },
      "text/plain": [
       "interactive(children=(FloatSlider(value=0.1, description='kp', max=30.0, min=0.1, step=0.2), FloatSlider(value…"
      ]
     },
     "metadata": {},
     "output_type": "display_data"
    }
   ],
   "source": [
    "run PIDGain.py"
   ]
  },
  {
   "cell_type": "code",
   "execution_count": 15,
   "metadata": {},
   "outputs": [
    {
     "data": {
      "text/html": [
       "\n",
       "    <div class=\"bk-root\">\n",
       "        <a href=\"https://bokeh.org\" target=\"_blank\" class=\"bk-logo bk-logo-small bk-logo-notebook\"></a>\n",
       "        <span id=\"5513\">Loading BokehJS ...</span>\n",
       "    </div>"
      ]
     },
     "metadata": {},
     "output_type": "display_data"
    },
    {
     "data": {
      "application/javascript": [
       "\n",
       "(function(root) {\n",
       "  function now() {\n",
       "    return new Date();\n",
       "  }\n",
       "\n",
       "  var force = true;\n",
       "\n",
       "  if (typeof root._bokeh_onload_callbacks === \"undefined\" || force === true) {\n",
       "    root._bokeh_onload_callbacks = [];\n",
       "    root._bokeh_is_loading = undefined;\n",
       "  }\n",
       "\n",
       "  var JS_MIME_TYPE = 'application/javascript';\n",
       "  var HTML_MIME_TYPE = 'text/html';\n",
       "  var EXEC_MIME_TYPE = 'application/vnd.bokehjs_exec.v0+json';\n",
       "  var CLASS_NAME = 'output_bokeh rendered_html';\n",
       "\n",
       "  /**\n",
       "   * Render data to the DOM node\n",
       "   */\n",
       "  function render(props, node) {\n",
       "    var script = document.createElement(\"script\");\n",
       "    node.appendChild(script);\n",
       "  }\n",
       "\n",
       "  /**\n",
       "   * Handle when an output is cleared or removed\n",
       "   */\n",
       "  function handleClearOutput(event, handle) {\n",
       "    var cell = handle.cell;\n",
       "\n",
       "    var id = cell.output_area._bokeh_element_id;\n",
       "    var server_id = cell.output_area._bokeh_server_id;\n",
       "    // Clean up Bokeh references\n",
       "    if (id != null && id in Bokeh.index) {\n",
       "      Bokeh.index[id].model.document.clear();\n",
       "      delete Bokeh.index[id];\n",
       "    }\n",
       "\n",
       "    if (server_id !== undefined) {\n",
       "      // Clean up Bokeh references\n",
       "      var cmd = \"from bokeh.io.state import curstate; print(curstate().uuid_to_server['\" + server_id + \"'].get_sessions()[0].document.roots[0]._id)\";\n",
       "      cell.notebook.kernel.execute(cmd, {\n",
       "        iopub: {\n",
       "          output: function(msg) {\n",
       "            var id = msg.content.text.trim();\n",
       "            if (id in Bokeh.index) {\n",
       "              Bokeh.index[id].model.document.clear();\n",
       "              delete Bokeh.index[id];\n",
       "            }\n",
       "          }\n",
       "        }\n",
       "      });\n",
       "      // Destroy server and session\n",
       "      var cmd = \"import bokeh.io.notebook as ion; ion.destroy_server('\" + server_id + \"')\";\n",
       "      cell.notebook.kernel.execute(cmd);\n",
       "    }\n",
       "  }\n",
       "\n",
       "  /**\n",
       "   * Handle when a new output is added\n",
       "   */\n",
       "  function handleAddOutput(event, handle) {\n",
       "    var output_area = handle.output_area;\n",
       "    var output = handle.output;\n",
       "\n",
       "    // limit handleAddOutput to display_data with EXEC_MIME_TYPE content only\n",
       "    if ((output.output_type != \"display_data\") || (!output.data.hasOwnProperty(EXEC_MIME_TYPE))) {\n",
       "      return\n",
       "    }\n",
       "\n",
       "    var toinsert = output_area.element.find(\".\" + CLASS_NAME.split(' ')[0]);\n",
       "\n",
       "    if (output.metadata[EXEC_MIME_TYPE][\"id\"] !== undefined) {\n",
       "      toinsert[toinsert.length - 1].firstChild.textContent = output.data[JS_MIME_TYPE];\n",
       "      // store reference to embed id on output_area\n",
       "      output_area._bokeh_element_id = output.metadata[EXEC_MIME_TYPE][\"id\"];\n",
       "    }\n",
       "    if (output.metadata[EXEC_MIME_TYPE][\"server_id\"] !== undefined) {\n",
       "      var bk_div = document.createElement(\"div\");\n",
       "      bk_div.innerHTML = output.data[HTML_MIME_TYPE];\n",
       "      var script_attrs = bk_div.children[0].attributes;\n",
       "      for (var i = 0; i < script_attrs.length; i++) {\n",
       "        toinsert[toinsert.length - 1].firstChild.setAttribute(script_attrs[i].name, script_attrs[i].value);\n",
       "      }\n",
       "      // store reference to server id on output_area\n",
       "      output_area._bokeh_server_id = output.metadata[EXEC_MIME_TYPE][\"server_id\"];\n",
       "    }\n",
       "  }\n",
       "\n",
       "  function register_renderer(events, OutputArea) {\n",
       "\n",
       "    function append_mime(data, metadata, element) {\n",
       "      // create a DOM node to render to\n",
       "      var toinsert = this.create_output_subarea(\n",
       "        metadata,\n",
       "        CLASS_NAME,\n",
       "        EXEC_MIME_TYPE\n",
       "      );\n",
       "      this.keyboard_manager.register_events(toinsert);\n",
       "      // Render to node\n",
       "      var props = {data: data, metadata: metadata[EXEC_MIME_TYPE]};\n",
       "      render(props, toinsert[toinsert.length - 1]);\n",
       "      element.append(toinsert);\n",
       "      return toinsert\n",
       "    }\n",
       "\n",
       "    /* Handle when an output is cleared or removed */\n",
       "    events.on('clear_output.CodeCell', handleClearOutput);\n",
       "    events.on('delete.Cell', handleClearOutput);\n",
       "\n",
       "    /* Handle when a new output is added */\n",
       "    events.on('output_added.OutputArea', handleAddOutput);\n",
       "\n",
       "    /**\n",
       "     * Register the mime type and append_mime function with output_area\n",
       "     */\n",
       "    OutputArea.prototype.register_mime_type(EXEC_MIME_TYPE, append_mime, {\n",
       "      /* Is output safe? */\n",
       "      safe: true,\n",
       "      /* Index of renderer in `output_area.display_order` */\n",
       "      index: 0\n",
       "    });\n",
       "  }\n",
       "\n",
       "  // register the mime type if in Jupyter Notebook environment and previously unregistered\n",
       "  if (root.Jupyter !== undefined) {\n",
       "    var events = require('base/js/events');\n",
       "    var OutputArea = require('notebook/js/outputarea').OutputArea;\n",
       "\n",
       "    if (OutputArea.prototype.mime_types().indexOf(EXEC_MIME_TYPE) == -1) {\n",
       "      register_renderer(events, OutputArea);\n",
       "    }\n",
       "  }\n",
       "\n",
       "  \n",
       "  if (typeof (root._bokeh_timeout) === \"undefined\" || force === true) {\n",
       "    root._bokeh_timeout = Date.now() + 5000;\n",
       "    root._bokeh_failed_load = false;\n",
       "  }\n",
       "\n",
       "  var NB_LOAD_WARNING = {'data': {'text/html':\n",
       "     \"<div style='background-color: #fdd'>\\n\"+\n",
       "     \"<p>\\n\"+\n",
       "     \"BokehJS does not appear to have successfully loaded. If loading BokehJS from CDN, this \\n\"+\n",
       "     \"may be due to a slow or bad network connection. Possible fixes:\\n\"+\n",
       "     \"</p>\\n\"+\n",
       "     \"<ul>\\n\"+\n",
       "     \"<li>re-rerun `output_notebook()` to attempt to load from CDN again, or</li>\\n\"+\n",
       "     \"<li>use INLINE resources instead, as so:</li>\\n\"+\n",
       "     \"</ul>\\n\"+\n",
       "     \"<code>\\n\"+\n",
       "     \"from bokeh.resources import INLINE\\n\"+\n",
       "     \"output_notebook(resources=INLINE)\\n\"+\n",
       "     \"</code>\\n\"+\n",
       "     \"</div>\"}};\n",
       "\n",
       "  function display_loaded() {\n",
       "    var el = document.getElementById(\"5513\");\n",
       "    if (el != null) {\n",
       "      el.textContent = \"BokehJS is loading...\";\n",
       "    }\n",
       "    if (root.Bokeh !== undefined) {\n",
       "      if (el != null) {\n",
       "        el.textContent = \"BokehJS \" + root.Bokeh.version + \" successfully loaded.\";\n",
       "      }\n",
       "    } else if (Date.now() < root._bokeh_timeout) {\n",
       "      setTimeout(display_loaded, 100)\n",
       "    }\n",
       "  }\n",
       "\n",
       "\n",
       "  function run_callbacks() {\n",
       "    try {\n",
       "      root._bokeh_onload_callbacks.forEach(function(callback) {\n",
       "        if (callback != null)\n",
       "          callback();\n",
       "      });\n",
       "    } finally {\n",
       "      delete root._bokeh_onload_callbacks\n",
       "    }\n",
       "    console.debug(\"Bokeh: all callbacks have finished\");\n",
       "  }\n",
       "\n",
       "  function load_libs(css_urls, js_urls, callback) {\n",
       "    if (css_urls == null) css_urls = [];\n",
       "    if (js_urls == null) js_urls = [];\n",
       "\n",
       "    root._bokeh_onload_callbacks.push(callback);\n",
       "    if (root._bokeh_is_loading > 0) {\n",
       "      console.debug(\"Bokeh: BokehJS is being loaded, scheduling callback at\", now());\n",
       "      return null;\n",
       "    }\n",
       "    if (js_urls == null || js_urls.length === 0) {\n",
       "      run_callbacks();\n",
       "      return null;\n",
       "    }\n",
       "    console.debug(\"Bokeh: BokehJS not loaded, scheduling load and callback at\", now());\n",
       "    root._bokeh_is_loading = css_urls.length + js_urls.length;\n",
       "\n",
       "    function on_load() {\n",
       "      root._bokeh_is_loading--;\n",
       "      if (root._bokeh_is_loading === 0) {\n",
       "        console.debug(\"Bokeh: all BokehJS libraries/stylesheets loaded\");\n",
       "        run_callbacks()\n",
       "      }\n",
       "    }\n",
       "\n",
       "    function on_error() {\n",
       "      console.error(\"failed to load \" + url);\n",
       "    }\n",
       "\n",
       "    for (var i = 0; i < css_urls.length; i++) {\n",
       "      var url = css_urls[i];\n",
       "      const element = document.createElement(\"link\");\n",
       "      element.onload = on_load;\n",
       "      element.onerror = on_error;\n",
       "      element.rel = \"stylesheet\";\n",
       "      element.type = \"text/css\";\n",
       "      element.href = url;\n",
       "      console.debug(\"Bokeh: injecting link tag for BokehJS stylesheet: \", url);\n",
       "      document.body.appendChild(element);\n",
       "    }\n",
       "\n",
       "    for (var i = 0; i < js_urls.length; i++) {\n",
       "      var url = js_urls[i];\n",
       "      var element = document.createElement('script');\n",
       "      element.onload = on_load;\n",
       "      element.onerror = on_error;\n",
       "      element.async = false;\n",
       "      element.src = url;\n",
       "      console.debug(\"Bokeh: injecting script tag for BokehJS library: \", url);\n",
       "      document.head.appendChild(element);\n",
       "    }\n",
       "  };var element = document.getElementById(\"5513\");\n",
       "  if (element == null) {\n",
       "    console.error(\"Bokeh: ERROR: autoload.js configured with elementid '5513' but no matching script tag was found. \")\n",
       "    return false;\n",
       "  }\n",
       "\n",
       "  function inject_raw_css(css) {\n",
       "    const element = document.createElement(\"style\");\n",
       "    element.appendChild(document.createTextNode(css));\n",
       "    document.body.appendChild(element);\n",
       "  }\n",
       "\n",
       "  \n",
       "  var js_urls = [\"https://cdn.pydata.org/bokeh/release/bokeh-1.4.0.min.js\", \"https://cdn.pydata.org/bokeh/release/bokeh-widgets-1.4.0.min.js\", \"https://cdn.pydata.org/bokeh/release/bokeh-tables-1.4.0.min.js\", \"https://cdn.pydata.org/bokeh/release/bokeh-gl-1.4.0.min.js\"];\n",
       "  var css_urls = [];\n",
       "  \n",
       "\n",
       "  var inline_js = [\n",
       "    function(Bokeh) {\n",
       "      Bokeh.set_log_level(\"info\");\n",
       "    },\n",
       "    function(Bokeh) {\n",
       "    \n",
       "    \n",
       "    }\n",
       "  ];\n",
       "\n",
       "  function run_inline_js() {\n",
       "    \n",
       "    if (root.Bokeh !== undefined || force === true) {\n",
       "      \n",
       "    for (var i = 0; i < inline_js.length; i++) {\n",
       "      inline_js[i].call(root, root.Bokeh);\n",
       "    }\n",
       "    if (force === true) {\n",
       "        display_loaded();\n",
       "      }} else if (Date.now() < root._bokeh_timeout) {\n",
       "      setTimeout(run_inline_js, 100);\n",
       "    } else if (!root._bokeh_failed_load) {\n",
       "      console.log(\"Bokeh: BokehJS failed to load within specified timeout.\");\n",
       "      root._bokeh_failed_load = true;\n",
       "    } else if (force !== true) {\n",
       "      var cell = $(document.getElementById(\"5513\")).parents('.cell').data().cell;\n",
       "      cell.output_area.append_execute_result(NB_LOAD_WARNING)\n",
       "    }\n",
       "\n",
       "  }\n",
       "\n",
       "  if (root._bokeh_is_loading === 0) {\n",
       "    console.debug(\"Bokeh: BokehJS loaded, going straight to plotting\");\n",
       "    run_inline_js();\n",
       "  } else {\n",
       "    load_libs(css_urls, js_urls, function() {\n",
       "      console.debug(\"Bokeh: BokehJS plotting callback run at\", now());\n",
       "      run_inline_js();\n",
       "    });\n",
       "  }\n",
       "}(window));"
      ],
      "application/vnd.bokehjs_load.v0+json": "\n(function(root) {\n  function now() {\n    return new Date();\n  }\n\n  var force = true;\n\n  if (typeof root._bokeh_onload_callbacks === \"undefined\" || force === true) {\n    root._bokeh_onload_callbacks = [];\n    root._bokeh_is_loading = undefined;\n  }\n\n  \n\n  \n  if (typeof (root._bokeh_timeout) === \"undefined\" || force === true) {\n    root._bokeh_timeout = Date.now() + 5000;\n    root._bokeh_failed_load = false;\n  }\n\n  var NB_LOAD_WARNING = {'data': {'text/html':\n     \"<div style='background-color: #fdd'>\\n\"+\n     \"<p>\\n\"+\n     \"BokehJS does not appear to have successfully loaded. If loading BokehJS from CDN, this \\n\"+\n     \"may be due to a slow or bad network connection. Possible fixes:\\n\"+\n     \"</p>\\n\"+\n     \"<ul>\\n\"+\n     \"<li>re-rerun `output_notebook()` to attempt to load from CDN again, or</li>\\n\"+\n     \"<li>use INLINE resources instead, as so:</li>\\n\"+\n     \"</ul>\\n\"+\n     \"<code>\\n\"+\n     \"from bokeh.resources import INLINE\\n\"+\n     \"output_notebook(resources=INLINE)\\n\"+\n     \"</code>\\n\"+\n     \"</div>\"}};\n\n  function display_loaded() {\n    var el = document.getElementById(\"5513\");\n    if (el != null) {\n      el.textContent = \"BokehJS is loading...\";\n    }\n    if (root.Bokeh !== undefined) {\n      if (el != null) {\n        el.textContent = \"BokehJS \" + root.Bokeh.version + \" successfully loaded.\";\n      }\n    } else if (Date.now() < root._bokeh_timeout) {\n      setTimeout(display_loaded, 100)\n    }\n  }\n\n\n  function run_callbacks() {\n    try {\n      root._bokeh_onload_callbacks.forEach(function(callback) {\n        if (callback != null)\n          callback();\n      });\n    } finally {\n      delete root._bokeh_onload_callbacks\n    }\n    console.debug(\"Bokeh: all callbacks have finished\");\n  }\n\n  function load_libs(css_urls, js_urls, callback) {\n    if (css_urls == null) css_urls = [];\n    if (js_urls == null) js_urls = [];\n\n    root._bokeh_onload_callbacks.push(callback);\n    if (root._bokeh_is_loading > 0) {\n      console.debug(\"Bokeh: BokehJS is being loaded, scheduling callback at\", now());\n      return null;\n    }\n    if (js_urls == null || js_urls.length === 0) {\n      run_callbacks();\n      return null;\n    }\n    console.debug(\"Bokeh: BokehJS not loaded, scheduling load and callback at\", now());\n    root._bokeh_is_loading = css_urls.length + js_urls.length;\n\n    function on_load() {\n      root._bokeh_is_loading--;\n      if (root._bokeh_is_loading === 0) {\n        console.debug(\"Bokeh: all BokehJS libraries/stylesheets loaded\");\n        run_callbacks()\n      }\n    }\n\n    function on_error() {\n      console.error(\"failed to load \" + url);\n    }\n\n    for (var i = 0; i < css_urls.length; i++) {\n      var url = css_urls[i];\n      const element = document.createElement(\"link\");\n      element.onload = on_load;\n      element.onerror = on_error;\n      element.rel = \"stylesheet\";\n      element.type = \"text/css\";\n      element.href = url;\n      console.debug(\"Bokeh: injecting link tag for BokehJS stylesheet: \", url);\n      document.body.appendChild(element);\n    }\n\n    for (var i = 0; i < js_urls.length; i++) {\n      var url = js_urls[i];\n      var element = document.createElement('script');\n      element.onload = on_load;\n      element.onerror = on_error;\n      element.async = false;\n      element.src = url;\n      console.debug(\"Bokeh: injecting script tag for BokehJS library: \", url);\n      document.head.appendChild(element);\n    }\n  };var element = document.getElementById(\"5513\");\n  if (element == null) {\n    console.error(\"Bokeh: ERROR: autoload.js configured with elementid '5513' but no matching script tag was found. \")\n    return false;\n  }\n\n  function inject_raw_css(css) {\n    const element = document.createElement(\"style\");\n    element.appendChild(document.createTextNode(css));\n    document.body.appendChild(element);\n  }\n\n  \n  var js_urls = [\"https://cdn.pydata.org/bokeh/release/bokeh-1.4.0.min.js\", \"https://cdn.pydata.org/bokeh/release/bokeh-widgets-1.4.0.min.js\", \"https://cdn.pydata.org/bokeh/release/bokeh-tables-1.4.0.min.js\", \"https://cdn.pydata.org/bokeh/release/bokeh-gl-1.4.0.min.js\"];\n  var css_urls = [];\n  \n\n  var inline_js = [\n    function(Bokeh) {\n      Bokeh.set_log_level(\"info\");\n    },\n    function(Bokeh) {\n    \n    \n    }\n  ];\n\n  function run_inline_js() {\n    \n    if (root.Bokeh !== undefined || force === true) {\n      \n    for (var i = 0; i < inline_js.length; i++) {\n      inline_js[i].call(root, root.Bokeh);\n    }\n    if (force === true) {\n        display_loaded();\n      }} else if (Date.now() < root._bokeh_timeout) {\n      setTimeout(run_inline_js, 100);\n    } else if (!root._bokeh_failed_load) {\n      console.log(\"Bokeh: BokehJS failed to load within specified timeout.\");\n      root._bokeh_failed_load = true;\n    } else if (force !== true) {\n      var cell = $(document.getElementById(\"5513\")).parents('.cell').data().cell;\n      cell.output_area.append_execute_result(NB_LOAD_WARNING)\n    }\n\n  }\n\n  if (root._bokeh_is_loading === 0) {\n    console.debug(\"Bokeh: BokehJS loaded, going straight to plotting\");\n    run_inline_js();\n  } else {\n    load_libs(css_urls, js_urls, function() {\n      console.debug(\"Bokeh: BokehJS plotting callback run at\", now());\n      run_inline_js();\n    });\n  }\n}(window));"
     },
     "metadata": {},
     "output_type": "display_data"
    },
    {
     "data": {
      "text/html": [
       "\n",
       "\n",
       "\n",
       "\n",
       "\n",
       "\n",
       "  <div class=\"bk-root\" id=\"45bc8b9a-3baf-4e4d-8c50-8ec03ef83a8c\" data-root-id=\"5637\"></div>\n"
      ]
     },
     "metadata": {},
     "output_type": "display_data"
    },
    {
     "data": {
      "application/javascript": [
       "(function(root) {\n",
       "  function embed_document(root) {\n",
       "    \n",
       "  var docs_json = {\"d956fdb4-8940-41e9-9ca7-8ba6e59fe669\":{\"roots\":{\"references\":[{\"attributes\":{\"children\":[{\"id\":\"5636\",\"type\":\"Row\"},{\"id\":\"5582\",\"subtype\":\"Figure\",\"type\":\"Plot\"}]},\"id\":\"5637\",\"type\":\"Column\"},{\"attributes\":{\"dimension\":1,\"ticker\":{\"id\":\"5531\",\"type\":\"BasicTicker\"}},\"id\":\"5534\",\"type\":\"Grid\"},{\"attributes\":{},\"id\":\"5729\",\"type\":\"BasicTickFormatter\"},{\"attributes\":{\"text\":\"Step Response\"},\"id\":\"5515\",\"type\":\"Title\"},{\"attributes\":{},\"id\":\"5565\",\"type\":\"BasicTicker\"},{\"attributes\":{\"callback\":null,\"end\":20,\"start\":-20},\"id\":\"5553\",\"type\":\"Range1d\"},{\"attributes\":{},\"id\":\"5719\",\"type\":\"BasicTickFormatter\"},{\"attributes\":{},\"id\":\"5740\",\"type\":\"Selection\"},{\"attributes\":{\"ticker\":{\"id\":\"5526\",\"type\":\"BasicTicker\"}},\"id\":\"5529\",\"type\":\"Grid\"},{\"attributes\":{\"source\":{\"id\":\"5631\",\"type\":\"ColumnDataSource\"}},\"id\":\"5635\",\"type\":\"CDSView\"},{\"attributes\":{},\"id\":\"5736\",\"type\":\"UnionRenderers\"},{\"attributes\":{\"below\":[{\"id\":\"5559\",\"type\":\"LinearAxis\"}],\"center\":[{\"id\":\"5563\",\"type\":\"Grid\"},{\"id\":\"5568\",\"type\":\"Grid\"}],\"left\":[{\"id\":\"5564\",\"type\":\"LinearAxis\"}],\"plot_height\":250,\"plot_width\":250,\"renderers\":[{\"id\":\"5629\",\"type\":\"GlyphRenderer\"}],\"title\":{\"id\":\"5549\",\"type\":\"Title\"},\"toolbar\":{\"id\":\"5575\",\"type\":\"Toolbar\"},\"x_range\":{\"id\":\"5551\",\"type\":\"Range1d\"},\"x_scale\":{\"id\":\"5555\",\"type\":\"LinearScale\"},\"y_range\":{\"id\":\"5553\",\"type\":\"Range1d\"},\"y_scale\":{\"id\":\"5557\",\"type\":\"LinearScale\"}},\"id\":\"5548\",\"subtype\":\"Figure\",\"type\":\"Plot\"},{\"attributes\":{},\"id\":\"5535\",\"type\":\"PanTool\"},{\"attributes\":{},\"id\":\"5555\",\"type\":\"LinearScale\"},{\"attributes\":{},\"id\":\"5523\",\"type\":\"LinearScale\"},{\"attributes\":{\"bottom_units\":\"screen\",\"fill_alpha\":{\"value\":0.5},\"fill_color\":{\"value\":\"lightgrey\"},\"left_units\":\"screen\",\"level\":\"overlay\",\"line_alpha\":{\"value\":1.0},\"line_color\":{\"value\":\"black\"},\"line_dash\":[4,4],\"line_width\":{\"value\":2},\"render_mode\":\"css\",\"right_units\":\"screen\",\"top_units\":\"screen\"},\"id\":\"5731\",\"type\":\"BoxAnnotation\"},{\"attributes\":{\"ticker\":null},\"id\":\"5721\",\"type\":\"LogTickFormatter\"},{\"attributes\":{},\"id\":\"5526\",\"type\":\"BasicTicker\"},{\"attributes\":{\"dimension\":1,\"ticker\":{\"id\":\"5565\",\"type\":\"BasicTicker\"}},\"id\":\"5568\",\"type\":\"Grid\"},{\"attributes\":{\"axis_label\":\"Re\",\"formatter\":{\"id\":\"5729\",\"type\":\"BasicTickFormatter\"},\"ticker\":{\"id\":\"5560\",\"type\":\"BasicTicker\"}},\"id\":\"5559\",\"type\":\"LinearAxis\"},{\"attributes\":{},\"id\":\"5539\",\"type\":\"ResetTool\"},{\"attributes\":{\"axis_label\":\"Im\",\"formatter\":{\"id\":\"5727\",\"type\":\"BasicTickFormatter\"},\"ticker\":{\"id\":\"5565\",\"type\":\"BasicTicker\"}},\"id\":\"5564\",\"type\":\"LinearAxis\"},{\"attributes\":{\"active_drag\":\"auto\",\"active_inspect\":\"auto\",\"active_multi\":null,\"active_scroll\":\"auto\",\"active_tap\":\"auto\",\"tools\":[{\"id\":\"5535\",\"type\":\"PanTool\"},{\"id\":\"5536\",\"type\":\"WheelZoomTool\"},{\"id\":\"5537\",\"type\":\"BoxZoomTool\"},{\"id\":\"5538\",\"type\":\"SaveTool\"},{\"id\":\"5539\",\"type\":\"ResetTool\"},{\"id\":\"5540\",\"type\":\"HelpTool\"}]},\"id\":\"5541\",\"type\":\"Toolbar\"},{\"attributes\":{},\"id\":\"5737\",\"type\":\"Selection\"},{\"attributes\":{\"overlay\":{\"id\":\"5734\",\"type\":\"BoxAnnotation\"}},\"id\":\"5537\",\"type\":\"BoxZoomTool\"},{\"attributes\":{\"below\":[{\"id\":\"5525\",\"type\":\"LinearAxis\"}],\"center\":[{\"id\":\"5529\",\"type\":\"Grid\"},{\"id\":\"5534\",\"type\":\"Grid\"}],\"left\":[{\"id\":\"5530\",\"type\":\"LinearAxis\"}],\"plot_height\":250,\"plot_width\":350,\"renderers\":[{\"id\":\"5619\",\"type\":\"GlyphRenderer\"},{\"id\":\"5624\",\"type\":\"GlyphRenderer\"}],\"title\":{\"id\":\"5515\",\"type\":\"Title\"},\"toolbar\":{\"id\":\"5541\",\"type\":\"Toolbar\"},\"x_range\":{\"id\":\"5517\",\"type\":\"DataRange1d\"},\"x_scale\":{\"id\":\"5521\",\"type\":\"LinearScale\"},\"y_range\":{\"id\":\"5519\",\"type\":\"Range1d\"},\"y_scale\":{\"id\":\"5523\",\"type\":\"LinearScale\"}},\"id\":\"5514\",\"subtype\":\"Figure\",\"type\":\"Plot\"},{\"attributes\":{\"bottom_units\":\"screen\",\"fill_alpha\":{\"value\":0.5},\"fill_color\":{\"value\":\"lightgrey\"},\"left_units\":\"screen\",\"level\":\"overlay\",\"line_alpha\":{\"value\":1.0},\"line_color\":{\"value\":\"black\"},\"line_dash\":[4,4],\"line_width\":{\"value\":2},\"render_mode\":\"css\",\"right_units\":\"screen\",\"top_units\":\"screen\"},\"id\":\"5739\",\"type\":\"BoxAnnotation\"},{\"attributes\":{},\"id\":\"5540\",\"type\":\"HelpTool\"},{\"attributes\":{\"ticker\":{\"id\":\"5560\",\"type\":\"BasicTicker\"}},\"id\":\"5563\",\"type\":\"Grid\"},{\"attributes\":{\"axis_label\":\"y\",\"formatter\":{\"id\":\"5723\",\"type\":\"BasicTickFormatter\"},\"ticker\":{\"id\":\"5531\",\"type\":\"BasicTicker\"}},\"id\":\"5530\",\"type\":\"LinearAxis\"},{\"attributes\":{\"text\":\"Pole\"},\"id\":\"5549\",\"type\":\"Title\"},{\"attributes\":{\"below\":[{\"id\":\"5593\",\"type\":\"LogAxis\"}],\"center\":[{\"id\":\"5597\",\"type\":\"Grid\"},{\"id\":\"5602\",\"type\":\"Grid\"}],\"left\":[{\"id\":\"5598\",\"type\":\"LinearAxis\"}],\"plot_height\":300,\"renderers\":[{\"id\":\"5634\",\"type\":\"GlyphRenderer\"}],\"title\":{\"id\":\"5583\",\"type\":\"Title\"},\"toolbar\":{\"id\":\"5609\",\"type\":\"Toolbar\"},\"x_range\":{\"id\":\"5585\",\"type\":\"DataRange1d\"},\"x_scale\":{\"id\":\"5589\",\"type\":\"LogScale\"},\"y_range\":{\"id\":\"5587\",\"type\":\"Range1d\"},\"y_scale\":{\"id\":\"5591\",\"type\":\"LinearScale\"}},\"id\":\"5582\",\"subtype\":\"Figure\",\"type\":\"Plot\"},{\"attributes\":{\"bottom_units\":\"screen\",\"fill_alpha\":{\"value\":0.5},\"fill_color\":{\"value\":\"lightgrey\"},\"left_units\":\"screen\",\"level\":\"overlay\",\"line_alpha\":{\"value\":1.0},\"line_color\":{\"value\":\"black\"},\"line_dash\":[4,4],\"line_width\":{\"value\":2},\"render_mode\":\"css\",\"right_units\":\"screen\",\"top_units\":\"screen\"},\"id\":\"5734\",\"type\":\"BoxAnnotation\"},{\"attributes\":{},\"id\":\"5741\",\"type\":\"UnionRenderers\"},{\"attributes\":{},\"id\":\"5521\",\"type\":\"LinearScale\"},{\"attributes\":{},\"id\":\"5727\",\"type\":\"BasicTickFormatter\"},{\"attributes\":{\"axis_label\":\"t [s]\",\"formatter\":{\"id\":\"5725\",\"type\":\"BasicTickFormatter\"},\"ticker\":{\"id\":\"5526\",\"type\":\"BasicTicker\"}},\"id\":\"5525\",\"type\":\"LinearAxis\"},{\"attributes\":{},\"id\":\"5732\",\"type\":\"Selection\"},{\"attributes\":{\"children\":[{\"id\":\"5514\",\"subtype\":\"Figure\",\"type\":\"Plot\"},{\"id\":\"5548\",\"subtype\":\"Figure\",\"type\":\"Plot\"}]},\"id\":\"5636\",\"type\":\"Row\"},{\"attributes\":{},\"id\":\"5531\",\"type\":\"BasicTicker\"},{\"attributes\":{},\"id\":\"5733\",\"type\":\"UnionRenderers\"},{\"attributes\":{},\"id\":\"5723\",\"type\":\"BasicTickFormatter\"},{\"attributes\":{},\"id\":\"5557\",\"type\":\"LinearScale\"},{\"attributes\":{},\"id\":\"5725\",\"type\":\"BasicTickFormatter\"},{\"attributes\":{\"callback\":null,\"end\":2,\"start\":-28},\"id\":\"5551\",\"type\":\"Range1d\"},{\"attributes\":{},\"id\":\"5538\",\"type\":\"SaveTool\"},{\"attributes\":{},\"id\":\"5536\",\"type\":\"WheelZoomTool\"},{\"attributes\":{},\"id\":\"5738\",\"type\":\"UnionRenderers\"},{\"attributes\":{},\"id\":\"5735\",\"type\":\"Selection\"},{\"attributes\":{},\"id\":\"5560\",\"type\":\"BasicTicker\"},{\"attributes\":{},\"id\":\"5572\",\"type\":\"SaveTool\"},{\"attributes\":{\"source\":{\"id\":\"5621\",\"type\":\"ColumnDataSource\"}},\"id\":\"5625\",\"type\":\"CDSView\"},{\"attributes\":{\"callback\":null,\"data\":{\"x\":{\"__ndarray__\":\"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\",\"dtype\":\"float64\",\"shape\":[500]},\"y\":{\"__ndarray__\":\"AAAAAAAAAADt3Y8NqElAP7ziTP3CKWA/d0wfESYDcj9Df1Nn86l/P6MZlkHSaog/REbkPmxSkT9YIaY+XTCXP3dzOyBDvJ0/xL9o6cdwoj9cZGRSL0WmP6qVFrnaT6o/k4IQ6uOErj8eSk7kDmyxPxOajGObnrM/pNb5n+3TtT8SXryo6wW4P7SqtvCbLro/qkaHODVIvD9l21K3LU2+P556z60kHMA/PBNKgFMCwT+CPLI75tbBP916IqTYl8I/DJgtCWRDwz86OhM7A9jDPx+gHb11VMQ/nlFJL8K3xD8CwpTrNwHFPwt+lNVvMMU/cF4iXUxFxT9RTS23+D/FP0qlzVHnIMU/C3rKis/oxD8u9aixqpjEP7t+K2CwMcQ/lDLONVK1wz/VK00ENyXDP6P1k3w1g8I/gfyYbE7RwT9nwJmfphHBP57r6nKARsA/eR0yZGrkvj9mzdWaXC69P41G6fu8b7s/Njaq1HWtuT+Ifda9aOy3P6cCqldhMbY/6tS2dAiBtD+oYSjV19+yP/A39pEOUrE/QdVfqky3rz8aSNPzkgCtP8d64FaUhqo/IfapMDVPqD8sbDuVjF+mP0au/2XZu6Q/zeoZ43lnoz9TRFLF5WSiP0zRHeeqtaE/0WkrfGxaoT/kv9zP5FKhP9XiQHzpnaE/KoOUBHI5oj98HA64oCKjP9Z84LvNVaQ/cJHzFZTOpT8nHeeM4IenP5KmkC0CfKk/x3xXQrykqz+4aJ+FWfutPyd48SpgPLA/vMka2MOKsT/a8FNaBuWyPznJuTtER7Q/Ofv18JKttT+vL3azCxS3P7X87ifWdrg/c2u1tDLSuT+faMJshCK7P/ORwXVaZLw/T1Rb0XiUvT/hRfNz4K++PxOhUJXWs78/xGoIlfVOwD8LAKo7/7XAP/OUYNoiDsE/klHiWadWwT833d5CAY/BP8M/1Y7TtsE/yyFc9u/NwT/BLfe9VtTBP2Zb8wM2ysE/2PAWk+ivwT/ljDU/9IXBPzJg6dEHTcE/xtjNjvgFwT/st5pXv7HAP6RrZnl1UcA/1/pCWqLMvz+qcRKsQ+O+P+TitxKY6b0/8gMJ1orivD9/LHjWING7P2iLkeJvuLo/IRMK/5WbuT/ZRoC5sH24P93ElZ3UYbc/JwRQ4wRLtj+DJbpsKzy1P254lCcROLQ/Bnx85lZBsz/VR2bDblqyP3RtgxuWhbE/HPPQMtDEsD+wu4OL4RmwP5gO3faXDK8/armZDpcWrj/J10ETqFOtP3FYHFEfxaw/PeKqN7xrrD/tVq+DqUesPwRGoQB/WKw/7AGx1kSdrD/7SF9WeBStP55f0i4SvK0/8NV1+I2Rrj/b6iH68pGvPxVFBQbvXLA/rpuJPMYCsT/pW3Hec7ixP6Hgmf3Ie7I/eXm1hXlKsz/bMDj5IiK0P62hFlJTALU/QnDu8o/itT9W6EyVXMa2P7u0GSJCqbc/fPWvYdWIuD+9+eRxvWK5P73oHvG5NLo/XpOrzqj8uj+T9Lyxi7i7P6esyemMZrw/zMeH3AMFvT8n5UrneJK9PwChN6uoDb4/cBl4vYZ1vj9wgmO2P8m+Pyv4V5w6CL8/2QfVqBkyvz9KwTFouka/P1ipDTY1Rr8/oNtTGtwwvz/hiE4MOQe/P9R/2qILyr4/qZNCOkZ6vj841qWZChm+P1JyBiOmp70/Qpc2mo0nvT+u4MqPWJq8P8rsA368Abw/f9JBpodfuz9yxQq+m7W6P5jK+XroBbo/4MEKDWZSuT9QhK6WD524PxIq3bHd57c/bur+EME0tz/qDf9JnYW2Pz4bMtlD3LU/eyTraG86tT8Fm65pv6G0P0td5gW0E7Q/HxTWeqqRsz9g9FPf2RyzP6VKfF9QtrI/RLQ58/Besj+IiBSUcReyP8C5TfVZ4LE/LGfYvwK6sT8gdlVSlaSxP2q/yQMMoLE/vn1l5jKssT9nXF4GqcixP9pCmB/i9LE/8wGnwygwsj9aWJfooHmyP8ES69dK0LI/ncBMdAYzsz9SobXLlqCzP9rJFeulF7Q/WW0E6MiWtD9kqpUUhBy1P1LiLFFPp7U/T67+b5o1tj+t3vOd0cW2P/kVv8RhVrc/h6k32rzltz9hTG0RXnK4P7ckZ+LN+rg/a3cc3qV9uT9I+epElPm5P9m6nFZfbbo/3fnyU+jXuj9tKKEqLji7P+pDqcVPjbs/zhkd/Y3Wuz9JNWQhTRO8Pyi1SB8WQ7w/6QAzO5dlvD9bCyJjpHq8PxJjEBg3grw/lauS8G18vD8mSY+3i2m8P9879ir2Sbw/SblYXzQevD/HkifO7Oa7P3WpMxXjpLs/OZjKbvVYuz9EoHHqGQS7PxxO0G5bp7o/ERHSjdZDuj9xO2E0ttq5P6gBXj8wbbk/6ciY/4H8uD/QbqC27Im4P2Z5IxayFrg/jel2yxCktz/Sl48gQTO3P8+1XLtxxbY/+aT8g8Rbtj8Oabq5S/e1P7xfIz4HmbU/iZbUHOJBtT86O99VsPK0P1OD1u8srLQ/n2rBVfhutD+7SEoElzu0P20CoIhwErQ/HROT0s7zsz9eYo7a3d+zP0ZXI5ur1rM/MVb8XCjYsz8kMCtTJ+SzPw1M9IRf+rM/qZ9tAW0atD8+54tY0kO0P47EilT6dbQ/nir/7TmwtD/TLVh00vG0P0QwGuTzObU/enG8Y7+HtT+hDMLfSdq1PyPxbb6eMLY/v6tNo8KJtj92+Mg6tuS2P7ji6wV5QLc/L0m+Hgyctz+6TK3tdPa3P02v0Mi/Trg/n2UudgKkuD8EZIiKXvW4P5SWup4DQrk/vXI3VjGJuT9Z9sYxOcq5P2BrTCqABLo/NgQBEIA3uj+tZkKryGK6P4+BypwAhro/d4nf++Wguj/hrMWxTrO6P2XvdZIovbo/V65UM3m+uj+zqVSBXbe6P+EznxgJqLo/OKN9YMWQuj8qqNlu8HG6P0xDOLf7S7o/omSUiWofuj+Hj/Fl0Oy5P1Mt4ynPtLk/7KmZHRV4uT80XkrmWje5P7Ew+mNh87g/q2rUgO+suD+ibEf4z2S4P73GHxzPG7g/owXInbjStz8itbBhVYq3P9FOsWJpQ7c/7cvwqrH+tj8KTpRn4ry2P1DcFBylfrY/C76z+ZZEtj/o1RBfRw+2P1XzaIM237U/P9R8UNS0tT+WFJZtf5C1P9ggj32EcrU/KwswkR1btT+Dfp3OcUq1P7GWAk6VQLU/U7ULK4k9tT+JDjnKO0G1P6gZhVCJS7U/47tWSzxctT9kODqGDnO1P3DsZwuqj7U/w7u1S6qxtT/lzjBqndi1P/K+SacFBLY/dTg251oztj84FfFODGa2P9lYFfOBm7Y/n6Sxkx7Ttj+uvCBgQQy3PxeV8L1HRrc/QeTrDY+Atz/hGHJqdrq3P3pXblpg87c/ejhvdLQquD+srp3t4F+4PwrzmBBckrg/MKKOmKXBuD+nW0DtR+24P1ETCj3ZFLk/ELdkcvw3uT/4ls4CYla5P+HidJXIb7k/L0VugP2DuT/23Mwb3ZK5PxBPROpSnLk/SxCWl1mguT9XLGnN+p65Pz9yot9OmLk/APO8UXyMuT8XDQg3t3u5P3HYDnBAZrk/Eb/Dx2RMuT9Ullnzey65P4rr+HfnDLk/eNG7eRHouD+X1It3a8C4P3FxpPdslrg/ijmYKJJquD8Rncd6Wj24PwMOPjZHD7g/2v7kENrgtz9XU+zIk7K3P/CJLcfyhLc/op8qzXFYtz8VAByyhi23PzhaSjKhBLc/taSy0ynetj97yKzigLq2PzwlAYn9mbY/Ll6HAe18tj/AiRLqkWO2P8X7FLUjTrY/9nIJPM48tj/4f1FzsS+2P+mM2j/hJrY/2AV9bmUitj8ixKzMOSK2PwAAuGFOJrY/95l7x4cutj8/aSGhvzq2P7E1MC7FSrY/bNvt911etj+xeNOWRnW2P0sMmo0zj7Y/URY0N9Krtj/1Cd/Eycq2P24BVkm867Y/8WcWzkcOtz+mVJdvBzK3P6QmTX2UVrc/godUmod7tz88KqrbeaC3P0cq5+AFxbc/3IeU5Mjotz9He0rBYwu4P+u9+eh7LLg/Z+jsS7xLuD9rBEYt1mi4P4LD9+KBg7g/V7t5f3+buD+s0rpjl7C4P6DnG7iawrg/xNmFy2PRuD+mt/hX1ty4P44FPazf5Lg/hhmrunbpuD8QkkYNnOq4P/ExtJ9Z6Lg/ayzWn8LiuD95dB0W89m4P8JE3XYPzrg/6TcoHkS/uD9mW/O3xK24P6Ura5bLmbg/zPGP+JiDuD+yLlJDcmu4PyVThC+hUbg/P8YM73I2uD+KBdJLNxq4P/1x4sI//bc/EyZant7ftz9iFIMQZsK3P7vWnlInpbc/qEC2yXGItz+0QrEzkmy3P0pU2t7RUbc/D9zL7XU4tz/NY5ypviC3P6FS8OPmCrc/R/1laiP3tj+JsJuMouW2P66L17WL1rY/LDMfG//Jtj8rPVJ+FcC2PyphngbguLY//JBoLmi0tj8D2IrGr7K2P3POjA6xs7Y/9jNE4V63tj/fchX1pL22P4Dt2C5oxrY/q4o6BofRtj/XcT362d62P3GzZhQ07rY/jxHveGP/tj+ijT4CMhK3P/EG3OVlJrc/pELoYMI7tz9WSC5qCFK3P04ly2f3aLc/+eRs5k2Atz/yzytQype3P7qtCaErr7c/7KswFzLGtz84dh7dn9y3P3Gt/6s58rc/G/ebZMcGuD/k81KdFBq4P1IjziPxK7g/XqUycTE8uD9DcccPr0q4Pwt+MPFIV7g/Ef2MtONhuD9apPXbaWq4P0CZB/HLcLg/Mk5YmAB1uD9uFN6TBHe4P727h7Tadrg/i+Fqu4t0uD89DxwrJnC4P24M7Qm+abg/dmz0lWxhuD/1/uTrT1e4P8sS3KGKS7g/Zh5qV0M+uD+DHjI8pC+4P4+gkI7aH7g/2M7LExYPuD+q1VmLiP23P3SJ0h5l67c/6FIk0N/Ytz9aF6PnLMa3P+stgmOAs7c/DJVAag2htz8ls4DBBY+3P+gts0qZfbc/pA3nhvVstz/NvPgiRV23P23QPY2vTrc/LTutlVhBtz++92IZYDW3P4q6O7rhKrc/lTsho/Qhtz8ykXpZqxq3PzRMDpwTFbc/P/l9TzYRtz/1wVx4Fw+3P62LvUK2Drc/b4TwFg0Qtz+m8gS7ERO3P4irgoC1F7c/HSWvfeUdtz+h+ZTRiiW3P+Ep6vGKLrc/D7rZAcg4tz9/nqAwIUS3PySB3B5zULc/n9hcSZhdtz9QMDx4aWu3P+ZtADG+ebc/Y1p9Km2Itz99tjTBTJe3Pw==\",\"dtype\":\"float64\",\"shape\":[500]}},\"selected\":{\"id\":\"5737\",\"type\":\"Selection\"},\"selection_policy\":{\"id\":\"5738\",\"type\":\"UnionRenderers\"}},\"id\":\"5621\",\"type\":\"ColumnDataSource\"},{\"attributes\":{},\"id\":\"5573\",\"type\":\"ResetTool\"},{\"attributes\":{\"data_source\":{\"id\":\"5626\",\"type\":\"ColumnDataSource\"},\"glyph\":{\"id\":\"5627\",\"type\":\"Scatter\"},\"hover_glyph\":null,\"muted_glyph\":null,\"nonselection_glyph\":{\"id\":\"5628\",\"type\":\"Scatter\"},\"selection_glyph\":null,\"view\":{\"id\":\"5630\",\"type\":\"CDSView\"}},\"id\":\"5629\",\"type\":\"GlyphRenderer\"},{\"attributes\":{\"callback\":null,\"data\":{\"x\":{\"__ndarray__\":\"exSuR+F6hD+xy/epEbeIP/OEmNZ1040/U7U+ajX/kT87ZwAM8reVP2RS0oizNZo/U1Ys2Tehnz+1OG7m1BWjP5H87YcvCKc/3ytzNXnLqz/HhKNUc8WwP9fsUPJNPbQ/rYfRlsJsuD/QuHzuyHm9PwRIUE0ZycE/9hI5a6V2xT8nDOAH5ubJP1khz5weQs8/vlENE3Pc0j+MNxr178LWP1mLGLTnd9s/d9N4kQaT4D91NEO/cwDkP0ccxu5SI+g/hp8CpSkh7T9XWmLgn5PxP/pR8h4dNvU/79rudAWZ+T+SPUBNI+T+PylbW8a9owJA+7lNloB+BkC/7NJ0USULQHBJA2oxYRBATl7kgVDEE0CJvxkSwNoXQHuWhc+UyRxAYVJROsdeIUB2DOLYVvYkQKNeowcPTClAcePUjkKHLkAGBaD5smsyQPm6i/neOjZAaW4yhLPTOkCV824W8i9AQOdtHRTiiENAuUz0aAeTR0BYRuZMB3NMQLM9uHeNKlFAzfCsUVC3VEAAAAAAAABZQA==\",\"dtype\":\"float64\",\"shape\":[50]},\"y\":{\"__ndarray__\":\"ALwSfi+tNMCx5jFBL600wA3xiOgurTTAJTxqZy6tNMAQA1+rLa00wEhrg5ksrTTALRquCiutNMAFhNbFKK00wA3j7HclrTTAcCP5pyCtNMBbp82lGa00wCT/03APrTTAkvVXkwCtNMBs2Q7t6qw0wEKUMGXLrDTAEzH0eJ2sNMDM8B2WWqw0wODDxin5qzTAvIR5QGurNMCgZH2EnKo0wPITD09vqTTAnGZgXbinNMBk4R6EOKU0wJGKo2mToTTA0EdQzkGcNMBART4dfZQ0wA7+eqwgiTTA4lNjzXp4NMCK9LywA2A0wPARjEDoOzTAGOl/5kYGNMAK/0xI2LUzwE5UZB9mOzPA1zNWvH98MsBWG2S/ykYxwNhXiHzkVS7AMOrVTuHYJcBjhr91p94PwEsxM4InsS3A0Gs1hBATNsBYbh5qmFc7wDLUxzYAxD/Aub9qa7vfQcCPz8dXtLxDwGIYXxt9hUXAABdRhlxBR8C6V35Tx/RIwG7Ds3GSokrAVyNUIpZMTMAp2y48C/RNwA==\",\"dtype\":\"float64\",\"shape\":[50]}},\"selected\":{\"id\":\"5732\",\"type\":\"Selection\"},\"selection_policy\":{\"id\":\"5733\",\"type\":\"UnionRenderers\"}},\"id\":\"5631\",\"type\":\"ColumnDataSource\"},{\"attributes\":{\"text\":\"Gain Diagram\"},\"id\":\"5583\",\"type\":\"Title\"},{\"attributes\":{\"fill_color\":{\"value\":\"#1f77b4\"},\"line_color\":{\"value\":\"#1f77b4\"},\"x\":{\"field\":\"x\"},\"y\":{\"field\":\"y\"}},\"id\":\"5627\",\"type\":\"Scatter\"},{\"attributes\":{},\"id\":\"5607\",\"type\":\"ResetTool\"},{\"attributes\":{},\"id\":\"5599\",\"type\":\"BasicTicker\"},{\"attributes\":{\"line_alpha\":0.1,\"line_color\":\"#1f77b4\",\"line_width\":3,\"x\":{\"field\":\"x\"},\"y\":{\"field\":\"y\"}},\"id\":\"5633\",\"type\":\"Line\"},{\"attributes\":{\"active_drag\":\"auto\",\"active_inspect\":\"auto\",\"active_multi\":null,\"active_scroll\":\"auto\",\"active_tap\":\"auto\",\"tools\":[{\"id\":\"5603\",\"type\":\"PanTool\"},{\"id\":\"5604\",\"type\":\"WheelZoomTool\"},{\"id\":\"5605\",\"type\":\"BoxZoomTool\"},{\"id\":\"5606\",\"type\":\"SaveTool\"},{\"id\":\"5607\",\"type\":\"ResetTool\"},{\"id\":\"5608\",\"type\":\"HelpTool\"}]},\"id\":\"5609\",\"type\":\"Toolbar\"},{\"attributes\":{},\"id\":\"5604\",\"type\":\"WheelZoomTool\"},{\"attributes\":{\"axis_label\":\"Gain [dB]\",\"formatter\":{\"id\":\"5719\",\"type\":\"BasicTickFormatter\"},\"ticker\":{\"id\":\"5599\",\"type\":\"BasicTicker\"}},\"id\":\"5598\",\"type\":\"LinearAxis\"},{\"attributes\":{\"data_source\":{\"id\":\"5621\",\"type\":\"ColumnDataSource\"},\"glyph\":{\"id\":\"5622\",\"type\":\"Line\"},\"hover_glyph\":null,\"muted_glyph\":null,\"nonselection_glyph\":{\"id\":\"5623\",\"type\":\"Line\"},\"selection_glyph\":null,\"view\":{\"id\":\"5625\",\"type\":\"CDSView\"}},\"id\":\"5624\",\"type\":\"GlyphRenderer\"},{\"attributes\":{\"num_minor_ticks\":10},\"id\":\"5594\",\"type\":\"LogTicker\"},{\"attributes\":{\"active_drag\":\"auto\",\"active_inspect\":\"auto\",\"active_multi\":null,\"active_scroll\":\"auto\",\"active_tap\":\"auto\",\"tools\":[{\"id\":\"5569\",\"type\":\"PanTool\"},{\"id\":\"5570\",\"type\":\"WheelZoomTool\"},{\"id\":\"5571\",\"type\":\"BoxZoomTool\"},{\"id\":\"5572\",\"type\":\"SaveTool\"},{\"id\":\"5573\",\"type\":\"ResetTool\"},{\"id\":\"5574\",\"type\":\"HelpTool\"}]},\"id\":\"5575\",\"type\":\"Toolbar\"},{\"attributes\":{},\"id\":\"5569\",\"type\":\"PanTool\"},{\"attributes\":{\"callback\":null,\"data\":{\"x\":{\"__ndarray__\":\"AAAAAAAAAAB7FK5H4XqEP3sUrkfhepQ/uB6F61G4nj97FK5H4XqkP5qZmZmZmak/uB6F61G4rj/sUbgeheuxP3sUrkfherQ/CtejcD0Ktz+amZmZmZm5Pylcj8L1KLw/uB6F61G4vj+kcD0K16PAP+xRuB6F68E/MzMzMzMzwz97FK5H4XrEP8P1KFyPwsU/CtejcD0Kxz9SuB6F61HIP5qZmZmZmck/4XoUrkfhyj8pXI/C9SjMP3E9CtejcM0/uB6F61G4zj8AAAAAAADQP6RwPQrXo9A/SOF6FK5H0T/sUbgehevRP4/C9Shcj9I/MzMzMzMz0z/Xo3A9CtfTP3sUrkfhetQ/H4XrUbge1T/D9Shcj8LVP2dmZmZmZtY/CtejcD0K1z+uR+F6FK7XP1K4HoXrUdg/9ihcj8L12D+amZmZmZnZPz4K16NwPdo/4XoUrkfh2j+F61G4HoXbPylcj8L1KNw/zczMzMzM3D9xPQrXo3DdPxWuR+F6FN4/uB6F61G43j9cj8L1KFzfPwAAAAAAAOA/UrgehetR4D+kcD0K16PgP/YoXI/C9eA/SOF6FK5H4T+amZmZmZnhP+xRuB6F6+E/PgrXo3A94j+PwvUoXI/iP+F6FK5H4eI/MzMzMzMz4z+F61G4HoXjP9ejcD0K1+M/KVyPwvUo5D97FK5H4XrkP83MzMzMzOQ/H4XrUbge5T9xPQrXo3DlP8P1KFyPwuU/Fa5H4XoU5j9nZmZmZmbmP7gehetRuOY/CtejcD0K5z9cj8L1KFznP65H4XoUruc/AAAAAAAA6D9SuB6F61HoP6RwPQrXo+g/9ihcj8L16D9I4XoUrkfpP5qZmZmZmek/7FG4HoXr6T8+CtejcD3qP5DC9Shcj+o/4XoUrkfh6j8zMzMzMzPrP4XrUbgehes/16NwPQrX6z8pXI/C9SjsP3sUrkfheuw/zczMzMzM7D8fhetRuB7tP3E9CtejcO0/w/UoXI/C7T8VrkfhehTuP2dmZmZmZu4/uB6F61G47j8K16NwPQrvP1yPwvUoXO8/rkfhehSu7z8AAAAAAADwPylcj8L1KPA/UrgehetR8D97FK5H4XrwP6RwPQrXo/A/zczMzMzM8D/2KFyPwvXwPx+F61G4HvE/SOF6FK5H8T9xPQrXo3DxP5qZmZmZmfE/w/UoXI/C8T/sUbgehevxPxWuR+F6FPI/PgrXo3A98j9nZmZmZmbyP4/C9Shcj/I/uB6F61G48j/hehSuR+HyPwrXo3A9CvM/MzMzMzMz8z9cj8L1KFzzP4XrUbgehfM/rkfhehSu8z/Xo3A9CtfzPwAAAAAAAPQ/KVyPwvUo9D9SuB6F61H0P3sUrkfhevQ/pHA9Ctej9D/NzMzMzMz0P/YoXI/C9fQ/H4XrUbge9T9I4XoUrkf1P3E9CtejcPU/mpmZmZmZ9T/D9Shcj8L1P+xRuB6F6/U/Fa5H4XoU9j8+CtejcD32P2dmZmZmZvY/j8L1KFyP9j+4HoXrUbj2P+F6FK5H4fY/CtejcD0K9z8zMzMzMzP3P1yPwvUoXPc/hetRuB6F9z+uR+F6FK73P9ejcD0K1/c/AAAAAAAA+D8pXI/C9Sj4P1K4HoXrUfg/exSuR+F6+D+kcD0K16P4P83MzMzMzPg/9ihcj8L1+D8fhetRuB75P0jhehSuR/k/cT0K16Nw+T+amZmZmZn5P8P1KFyPwvk/7FG4HoXr+T8VrkfhehT6Pz4K16NwPfo/Z2ZmZmZm+j+QwvUoXI/6P7gehetRuPo/4XoUrkfh+j8K16NwPQr7PzMzMzMzM/s/XI/C9Shc+z+F61G4HoX7P65H4XoUrvs/16NwPQrX+z8AAAAAAAD8Pylcj8L1KPw/UrgehetR/D97FK5H4Xr8P6RwPQrXo/w/zczMzMzM/D/2KFyPwvX8Px+F61G4Hv0/SOF6FK5H/T9xPQrXo3D9P5qZmZmZmf0/w/UoXI/C/T/sUbgehev9PxWuR+F6FP4/PgrXo3A9/j9nZmZmZmb+P5DC9Shcj/4/uB6F61G4/j/hehSuR+H+PwrXo3A9Cv8/MzMzMzMz/z9cj8L1KFz/P4XrUbgehf8/rkfhehSu/z/Xo3A9Ctf/PwAAAAAAAABAFa5H4XoUAEApXI/C9SgAQD4K16NwPQBAUrgehetRAEBmZmZmZmYAQHsUrkfhegBAj8L1KFyPAECkcD0K16MAQLgehetRuABAzczMzMzMAEDhehSuR+EAQPYoXI/C9QBACtejcD0KAUAfhetRuB4BQDMzMzMzMwFASOF6FK5HAUBcj8L1KFwBQHE9CtejcAFAhetRuB6FAUCamZmZmZkBQK5H4XoUrgFAw/UoXI/CAUDXo3A9CtcBQOxRuB6F6wFAAAAAAAAAAkAVrkfhehQCQClcj8L1KAJAPgrXo3A9AkBSuB6F61ECQGdmZmZmZgJAexSuR+F6AkCPwvUoXI8CQKRwPQrXowJAuB6F61G4AkDNzMzMzMwCQOF6FK5H4QJA9ihcj8L1AkAK16NwPQoDQB+F61G4HgNAMzMzMzMzA0BI4XoUrkcDQFyPwvUoXANAcT0K16NwA0CF61G4HoUDQJqZmZmZmQNArkfhehSuA0DD9Shcj8IDQNejcD0K1wNA7FG4HoXrA0AAAAAAAAAEQBWuR+F6FARAKVyPwvUoBEA+CtejcD0EQFK4HoXrUQRAZ2ZmZmZmBEB7FK5H4XoEQI/C9ShcjwRApHA9CtejBEC4HoXrUbgEQM3MzMzMzARA4XoUrkfhBED2KFyPwvUEQArXo3A9CgVAH4XrUbgeBUAzMzMzMzMFQEjhehSuRwVAXI/C9ShcBUBxPQrXo3AFQIXrUbgehQVAmpmZmZmZBUCuR+F6FK4FQMP1KFyPwgVA16NwPQrXBUDsUbgehesFQAAAAAAAAAZAFa5H4XoUBkApXI/C9SgGQD4K16NwPQZAUrgehetRBkBnZmZmZmYGQHsUrkfhegZAj8L1KFyPBkCkcD0K16MGQLgehetRuAZAzczMzMzMBkDhehSuR+EGQPYoXI/C9QZACtejcD0KB0AfhetRuB4HQDMzMzMzMwdASOF6FK5HB0Bcj8L1KFwHQHE9CtejcAdAhetRuB6FB0CamZmZmZkHQK5H4XoUrgdAw/UoXI/CB0DXo3A9CtcHQOxRuB6F6wdAAAAAAAAACEAVrkfhehQIQClcj8L1KAhAPgrXo3A9CEBSuB6F61EIQGdmZmZmZghAexSuR+F6CECQwvUoXI8IQKRwPQrXowhAuB6F61G4CEDNzMzMzMwIQOF6FK5H4QhA9ihcj8L1CEAK16NwPQoJQB+F61G4HglAMzMzMzMzCUBI4XoUrkcJQFyPwvUoXAlAcT0K16NwCUCF61G4HoUJQJqZmZmZmQlArkfhehSuCUDD9Shcj8IJQNejcD0K1wlA7FG4HoXrCUAAAAAAAAAKQBWuR+F6FApAKVyPwvUoCkA+CtejcD0KQFK4HoXrUQpAZ2ZmZmZmCkB7FK5H4XoKQJDC9ShcjwpApHA9CtejCkC4HoXrUbgKQM3MzMzMzApA4XoUrkfhCkD2KFyPwvUKQArXo3A9CgtAH4XrUbgeC0AzMzMzMzMLQEjhehSuRwtAXI/C9ShcC0BxPQrXo3ALQIXrUbgehQtAmpmZmZmZC0CuR+F6FK4LQMP1KFyPwgtA16NwPQrXC0DsUbgehesLQAAAAAAAAAxAFa5H4XoUDEApXI/C9SgMQD4K16NwPQxAUrgehetRDEBnZmZmZmYMQHsUrkfhegxAkML1KFyPDECkcD0K16MMQLgehetRuAxAzczMzMzMDEDhehSuR+EMQPYoXI/C9QxACtejcD0KDUAfhetRuB4NQDMzMzMzMw1ASOF6FK5HDUBcj8L1KFwNQHE9CtejcA1AhetRuB6FDUCamZmZmZkNQK5H4XoUrg1Aw/UoXI/CDUDXo3A9CtcNQOxRuB6F6w1AAAAAAAAADkAVrkfhehQOQClcj8L1KA5APgrXo3A9DkBSuB6F61EOQGdmZmZmZg5AexSuR+F6DkCQwvUoXI8OQKRwPQrXow5AuB6F61G4DkDNzMzMzMwOQOF6FK5H4Q5A9ihcj8L1DkAK16NwPQoPQB+F61G4Hg9AMzMzMzMzD0BI4XoUrkcPQFyPwvUoXA9AcT0K16NwD0CF61G4HoUPQJqZmZmZmQ9ArkfhehSuD0DD9Shcj8IPQNejcD0K1w9A7FG4HoXrD0AAAAAAAAAQQArXo3A9ChBAFa5H4XoUEEAfhetRuB4QQClcj8L1KBBAMzMzMzMzEEA+CtejcD0QQEjhehSuRxBAUrgehetREEBcj8L1KFwQQGZmZmZmZhBAcT0K16NwEEB7FK5H4XoQQIXrUbgehRBAj8L1KFyPEECamZmZmZkQQKRwPQrXoxBArkfhehSuEEC4HoXrUbgQQMP1KFyPwhBAzczMzMzMEEDXo3A9CtcQQOF6FK5H4RBA7FG4HoXrEED2KFyPwvUQQAAAAAAAABFACtejcD0KEUAVrkfhehQRQB+F61G4HhFAKVyPwvUoEUAzMzMzMzMRQD4K16NwPRFASOF6FK5HEUBSuB6F61ERQFyPwvUoXBFAZ2ZmZmZmEUBxPQrXo3ARQHsUrkfhehFAhetRuB6FEUCPwvUoXI8RQJqZmZmZmRFApHA9CtejEUCuR+F6FK4RQLgehetRuBFAw/UoXI/CEUDNzMzMzMwRQNejcD0K1xFA4XoUrkfhEUDsUbgehesRQPYoXI/C9RFAAAAAAAAAEkAK16NwPQoSQBWuR+F6FBJAH4XrUbgeEkApXI/C9SgSQDMzMzMzMxJAPgrXo3A9EkBI4XoUrkcSQFK4HoXrURJAXI/C9ShcEkBnZmZmZmYSQHE9CtejcBJAexSuR+F6EkCF61G4HoUSQI/C9ShcjxJAmpmZmZmZEkCkcD0K16MSQK5H4XoUrhJAuB6F61G4EkDD9Shcj8ISQM3MzMzMzBJA16NwPQrXEkDhehSuR+ESQOxRuB6F6xJA9ihcj8L1EkAAAAAAAAATQArXo3A9ChNAFa5H4XoUE0AfhetRuB4TQClcj8L1KBNAMzMzMzMzE0A+CtejcD0TQEjhehSuRxNAUrgehetRE0Bcj8L1KFwTQGdmZmZmZhNAcT0K16NwE0B7FK5H4XoTQIXrUbgehRNAj8L1KFyPE0CamZmZmZkTQKRwPQrXoxNArkfhehSuE0C4HoXrUbgTQMP1KFyPwhNAzczMzMzME0DXo3A9CtcTQOF6FK5H4RNA7FG4HoXrE0D2KFyPwvUTQA==\",\"dtype\":\"float64\",\"shape\":[500]},\"y\":[0,1,1,1,1,1,1,1,1,1,1,1,1,1,1,1,1,1,1,1,1,1,1,1,1,1,1,1,1,1,1,1,1,1,1,1,1,1,1,1,1,1,1,1,1,1,1,1,1,1,1,1,1,1,1,1,1,1,1,1,1,1,1,1,1,1,1,1,1,1,1,1,1,1,1,1,1,1,1,1,1,1,1,1,1,1,1,1,1,1,1,1,1,1,1,1,1,1,1,1,1,1,1,1,1,1,1,1,1,1,1,1,1,1,1,1,1,1,1,1,1,1,1,1,1,1,1,1,1,1,1,1,1,1,1,1,1,1,1,1,1,1,1,1,1,1,1,1,1,1,1,1,1,1,1,1,1,1,1,1,1,1,1,1,1,1,1,1,1,1,1,1,1,1,1,1,1,1,1,1,1,1,1,1,1,1,1,1,1,1,1,1,1,1,1,1,1,1,1,1,1,1,1,1,1,1,1,1,1,1,1,1,1,1,1,1,1,1,1,1,1,1,1,1,1,1,1,1,1,1,1,1,1,1,1,1,1,1,1,1,1,1,1,1,1,1,1,1,1,1,1,1,1,1,1,1,1,1,1,1,1,1,1,1,1,1,1,1,1,1,1,1,1,1,1,1,1,1,1,1,1,1,1,1,1,1,1,1,1,1,1,1,1,1,1,1,1,1,1,1,1,1,1,1,1,1,1,1,1,1,1,1,1,1,1,1,1,1,1,1,1,1,1,1,1,1,1,1,1,1,1,1,1,1,1,1,1,1,1,1,1,1,1,1,1,1,1,1,1,1,1,1,1,1,1,1,1,1,1,1,1,1,1,1,1,1,1,1,1,1,1,1,1,1,1,1,1,1,1,1,1,1,1,1,1,1,1,1,1,1,1,1,1,1,1,1,1,1,1,1,1,1,1,1,1,1,1,1,1,1,1,1,1,1,1,1,1,1,1,1,1,1,1,1,1,1,1,1,1,1,1,1,1,1,1,1,1,1,1,1,1,1,1,1,1,1,1,1,1,1,1,1,1,1,1,1,1,1,1,1,1,1,1,1,1,1,1,1,1,1,1,1,1,1,1,1,1,1,1,1,1,1,1,1,1,1,1,1,1,1,1,1,1,1,1,1,1,1,1,1]},\"selected\":{\"id\":\"5735\",\"type\":\"Selection\"},\"selection_policy\":{\"id\":\"5736\",\"type\":\"UnionRenderers\"}},\"id\":\"5616\",\"type\":\"ColumnDataSource\"},{\"attributes\":{\"axis_label\":\"$w [rad/s]\",\"formatter\":{\"id\":\"5721\",\"type\":\"LogTickFormatter\"},\"ticker\":{\"id\":\"5594\",\"type\":\"LogTicker\"}},\"id\":\"5593\",\"type\":\"LogAxis\"},{\"attributes\":{},\"id\":\"5589\",\"type\":\"LogScale\"},{\"attributes\":{\"callback\":null},\"id\":\"5517\",\"type\":\"DataRange1d\"},{\"attributes\":{\"overlay\":{\"id\":\"5739\",\"type\":\"BoxAnnotation\"}},\"id\":\"5571\",\"type\":\"BoxZoomTool\"},{\"attributes\":{\"callback\":null,\"end\":2},\"id\":\"5519\",\"type\":\"Range1d\"},{\"attributes\":{\"source\":{\"id\":\"5626\",\"type\":\"ColumnDataSource\"}},\"id\":\"5630\",\"type\":\"CDSView\"},{\"attributes\":{\"line_color\":\"#1f77b4\",\"line_width\":3,\"x\":{\"field\":\"x\"},\"y\":{\"field\":\"y\"}},\"id\":\"5632\",\"type\":\"Line\"},{\"attributes\":{\"line_color\":\"#1f77b4\",\"x\":{\"field\":\"x\"},\"y\":{\"field\":\"y\"}},\"id\":\"5617\",\"type\":\"Line\"},{\"attributes\":{\"callback\":null},\"id\":\"5585\",\"type\":\"DataRange1d\"},{\"attributes\":{},\"id\":\"5603\",\"type\":\"PanTool\"},{\"attributes\":{\"line_alpha\":0.1,\"line_color\":\"#1f77b4\",\"line_width\":3,\"x\":{\"field\":\"x\"},\"y\":{\"field\":\"y\"}},\"id\":\"5623\",\"type\":\"Line\"},{\"attributes\":{\"data_source\":{\"id\":\"5631\",\"type\":\"ColumnDataSource\"},\"glyph\":{\"id\":\"5632\",\"type\":\"Line\"},\"hover_glyph\":null,\"muted_glyph\":null,\"nonselection_glyph\":{\"id\":\"5633\",\"type\":\"Line\"},\"selection_glyph\":null,\"view\":{\"id\":\"5635\",\"type\":\"CDSView\"}},\"id\":\"5634\",\"type\":\"GlyphRenderer\"},{\"attributes\":{},\"id\":\"5570\",\"type\":\"WheelZoomTool\"},{\"attributes\":{},\"id\":\"5606\",\"type\":\"SaveTool\"},{\"attributes\":{\"ticker\":{\"id\":\"5594\",\"type\":\"LogTicker\"}},\"id\":\"5597\",\"type\":\"Grid\"},{\"attributes\":{\"callback\":null,\"data\":{\"x\":{\"__ndarray__\":\"AQAAAAAA6L8BAAAAAADovw==\",\"dtype\":\"float64\",\"shape\":[2]},\"y\":{\"__ndarray__\":\"2xqObnS9JEDbGo5udL0kwA==\",\"dtype\":\"float64\",\"shape\":[2]}},\"selected\":{\"id\":\"5740\",\"type\":\"Selection\"},\"selection_policy\":{\"id\":\"5741\",\"type\":\"UnionRenderers\"}},\"id\":\"5626\",\"type\":\"ColumnDataSource\"},{\"attributes\":{\"line_alpha\":0.1,\"line_color\":\"#1f77b4\",\"x\":{\"field\":\"x\"},\"y\":{\"field\":\"y\"}},\"id\":\"5618\",\"type\":\"Line\"},{\"attributes\":{\"line_color\":\"red\",\"line_width\":3,\"x\":{\"field\":\"x\"},\"y\":{\"field\":\"y\"}},\"id\":\"5622\",\"type\":\"Line\"},{\"attributes\":{},\"id\":\"5574\",\"type\":\"HelpTool\"},{\"attributes\":{},\"id\":\"5591\",\"type\":\"LinearScale\"},{\"attributes\":{\"data_source\":{\"id\":\"5616\",\"type\":\"ColumnDataSource\"},\"glyph\":{\"id\":\"5617\",\"type\":\"Line\"},\"hover_glyph\":null,\"muted_glyph\":null,\"nonselection_glyph\":{\"id\":\"5618\",\"type\":\"Line\"},\"selection_glyph\":null,\"view\":{\"id\":\"5620\",\"type\":\"CDSView\"}},\"id\":\"5619\",\"type\":\"GlyphRenderer\"},{\"attributes\":{\"source\":{\"id\":\"5616\",\"type\":\"ColumnDataSource\"}},\"id\":\"5620\",\"type\":\"CDSView\"},{\"attributes\":{\"callback\":null,\"end\":20,\"start\":-60},\"id\":\"5587\",\"type\":\"Range1d\"},{\"attributes\":{\"fill_alpha\":{\"value\":0.1},\"fill_color\":{\"value\":\"#1f77b4\"},\"line_alpha\":{\"value\":0.1},\"line_color\":{\"value\":\"#1f77b4\"},\"x\":{\"field\":\"x\"},\"y\":{\"field\":\"y\"}},\"id\":\"5628\",\"type\":\"Scatter\"},{\"attributes\":{\"overlay\":{\"id\":\"5731\",\"type\":\"BoxAnnotation\"}},\"id\":\"5605\",\"type\":\"BoxZoomTool\"},{\"attributes\":{},\"id\":\"5608\",\"type\":\"HelpTool\"},{\"attributes\":{\"dimension\":1,\"ticker\":{\"id\":\"5599\",\"type\":\"BasicTicker\"}},\"id\":\"5602\",\"type\":\"Grid\"}],\"root_ids\":[\"5637\"]},\"title\":\"Bokeh Application\",\"version\":\"1.4.0\"}};\n",
       "  var render_items = [{\"docid\":\"d956fdb4-8940-41e9-9ca7-8ba6e59fe669\",\"notebook_comms_target\":\"5742\",\"roots\":{\"5637\":\"45bc8b9a-3baf-4e4d-8c50-8ec03ef83a8c\"}}];\n",
       "  root.Bokeh.embed.embed_items_notebook(docs_json, render_items);\n",
       "\n",
       "  }\n",
       "  if (root.Bokeh !== undefined) {\n",
       "    embed_document(root);\n",
       "  } else {\n",
       "    var attempts = 0;\n",
       "    var timer = setInterval(function(root) {\n",
       "      if (root.Bokeh !== undefined) {\n",
       "        clearInterval(timer);\n",
       "        embed_document(root);\n",
       "      } else {\n",
       "        attempts++;\n",
       "        if (attempts > 100) {\n",
       "          clearInterval(timer);\n",
       "          console.log(\"Bokeh: ERROR: Unable to run BokehJS code because BokehJS library is missing\");\n",
       "        }\n",
       "      }\n",
       "    }, 10, root)\n",
       "  }\n",
       "})(window);"
      ],
      "application/vnd.bokehjs_exec.v0+json": ""
     },
     "metadata": {
      "application/vnd.bokehjs_exec.v0+json": {
       "id": "5637"
      }
     },
     "output_type": "display_data"
    },
    {
     "data": {
      "application/vnd.jupyter.widget-view+json": {
       "model_id": "686ba3549ecd49fba1d2bde753fc4700",
       "version_major": 2,
       "version_minor": 0
      },
      "text/plain": [
       "interactive(children=(FloatSlider(value=0.1, description='kp', max=20.0, min=0.1), FloatSlider(value=0.0, desc…"
      ]
     },
     "metadata": {},
     "output_type": "display_data"
    }
   ],
   "source": [
    "run PIDgain.py"
   ]
  },
  {
   "cell_type": "code",
   "execution_count": 2,
   "metadata": {},
   "outputs": [],
   "source": [
    "from control.matlab import *\n",
    "import matplotlib.pyplot as plt\n",
    "import numpy as np"
   ]
  },
  {
   "cell_type": "markdown",
   "metadata": {},
   "source": [
    "### フィードバック系の安定性\n"
   ]
  },
  {
   "cell_type": "markdown",
   "metadata": {},
   "source": [
    "$G_{yr}$などのフィードバック系を求めてpoleで極を計算する\n",
    "\n",
    "ただし，$G_{ud}$ はインプロパーになることがあり，伝達関数をPython上で記述できない場合がある\n",
    "\n",
    "P と C の間に不安定な極零相殺がないばあいには，$G_{yr}$の極を調べれば良い"
   ]
  },
  {
   "cell_type": "code",
   "execution_count": 2,
   "metadata": {},
   "outputs": [
    {
     "name": "stdout",
     "output_type": "stream",
     "text": [
      "[-1.35300549+2.89375856j -1.35300549-2.89375856j -0.29398903+0.j        ]\n",
      "[-1.35300549+2.89375856j -1.35300549-2.89375856j -0.29398903+0.j        ]\n",
      "2 states have been removed from the model\n",
      "[-1.35300549+2.89375856j -1.35300549-2.89375856j -0.29398903+0.j        ]\n"
     ]
    }
   ],
   "source": [
    "P = tf([0, 1],[1, 1 ,1])\n",
    "C = tf([2, 10, 3],[1, 0])\n",
    "\n",
    "Gyr = feedback(P*C, 1)\n",
    "print(Gyr.pole())\n",
    "\n",
    "Gyd = -feedback(P*C, 1)\n",
    "print(Gyd.pole())\n",
    "\n",
    "Gur = minreal(P*feedback(1, P*C))\n",
    "print(Gur.pole())\n",
    "\n",
    "#Gud = C*feedback(1, P*C) #インプロパー\n",
    "#print(Gud.pole())"
   ]
  },
  {
   "cell_type": "code",
   "execution_count": 5,
   "metadata": {},
   "outputs": [
    {
     "name": "stdout",
     "output_type": "stream",
     "text": [
      "{'RiseTime': 0.38134794663607546, 'SettlingTime': 2.526430146464, 'SettlingMin': 0.8889281055929367, 'SettlingMax': 1.2108759926728154, 'Overshoot': 21.096814935683064, 'Undershoot': 0.0, 'Peak': 1.2108759926728154, 'PeakTime': 0.8580328799311698, 'SteadyStateValue': 0.9999238983419472}\n"
     ]
    }
   ],
   "source": [
    "Info = stepinfo(Gyr, SettlingTimeThreshold=0.05)\n",
    "print(Info)"
   ]
  },
  {
   "cell_type": "code",
   "execution_count": 6,
   "metadata": {},
   "outputs": [
    {
     "name": "stdout",
     "output_type": "stream",
     "text": [
      "<class 'dict'>\n"
     ]
    }
   ],
   "source": [
    "print(type(Info))\n",
    "# 辞書形式"
   ]
  },
  {
   "cell_type": "code",
   "execution_count": 3,
   "metadata": {},
   "outputs": [
    {
     "name": "stdout",
     "output_type": "stream",
     "text": [
      "[-1.35300549+2.89375856j -1.35300549-2.89375856j -0.29398903+0.j        ]\n"
     ]
    }
   ],
   "source": [
    "[[Np]], [[Dp]] = tfdata(P)\n",
    "[[Nc]], [[Dc]] = tfdata(C)\n",
    "\n",
    "f1 = np.poly1d(Np)\n",
    "f2 = np.poly1d(Nc)\n",
    "g1 = np.poly1d(Dp)\n",
    "g2 = np.poly1d(Dc)\n",
    "\n",
    "print(np.roots( f1*f2 + g1*g2 ))"
   ]
  },
  {
   "cell_type": "markdown",
   "metadata": {},
   "source": [
    "### フィードバック系のステップ応答"
   ]
  },
  {
   "cell_type": "code",
   "execution_count": 9,
   "metadata": {},
   "outputs": [
    {
     "data": {
      "image/png": "[encoded data removed]",
      "text/plain": [
       "<Figure size 216x165.6 with 1 Axes>"
      ]
     },
     "metadata": {
      "needs_background": "light"
     },
     "output_type": "display_data"
    }
   ],
   "source": [
    "fig, ax = plt.subplots(figsize=(3, 2.3))\n",
    "ax.plot(t,y)\n",
    "ax.set_xlabel('t')\n",
    "ax.set_ylabel('y')\n",
    "ax.axvline(Info['PeakTime'], lw=1, ls='--', c='k')\n",
    "ax.axhline(Info['Peak'], lw=1, ls='--', c='k')\n",
    "ax.axvline(Info['SettlingTime'], lw=1, ls='--', c='k')\n",
    "ax.grid(ls=':')\n",
    "\n",
    "#fig.savefig(\"test.pdf\", transparent=True, bbox_inches=\"tight\", pad_inches=0.0)"
   ]
  },
  {
   "cell_type": "markdown",
   "metadata": {},
   "source": [
    "特性多項式を計算し，その根を求める"
   ]
  },
  {
   "cell_type": "code",
   "execution_count": 4,
   "metadata": {},
   "outputs": [
    {
     "data": {
      "image/png": "[encoded data removed]",
      "text/plain": [
       "<Figure size 216x165.6 with 1 Axes>"
      ]
     },
     "metadata": {
      "needs_background": "light"
     },
     "output_type": "display_data"
    }
   ],
   "source": [
    "P = tf([0, 1],[1, 1 ,1])\n",
    "C = tf([2, 10, 3],[1, 0])\n",
    "Gyr = feedback(P*C, 1)\n",
    "\n",
    "y,t = step(Gyr,np.arange(0, 10, 0.01))\n",
    "\n",
    "fig, ax = plt.subplots(figsize=(3, 2.3))\n",
    "ax.plot(t,y)\n",
    "ax.set_xlabel('t')\n",
    "ax.set_ylabel('y')\n",
    "ax.grid(ls=':')"
   ]
  },
  {
   "cell_type": "markdown",
   "metadata": {},
   "source": [
    "### フィードバック系の周波数応答"
   ]
  },
  {
   "cell_type": "code",
   "execution_count": 10,
   "metadata": {},
   "outputs": [
    {
     "data": {
      "image/png": "[encoded data removed]",
      "text/plain": [
       "<Figure size 288x252 with 2 Axes>"
      ]
     },
     "metadata": {
      "needs_background": "light"
     },
     "output_type": "display_data"
    }
   ],
   "source": [
    "P = tf([0, 1],[1, 1 ,1])\n",
    "C = tf([2, 10, 3],[1, 0])\n",
    "Gyr = feedback(P*C, 1)\n",
    "\n",
    "gain, phase, w = bode(Gyr, logspace(-2,2), Plot=False)\n",
    "\n",
    "fig, ax = plt.subplots(2,1, figsize=(4, 3.5))\n",
    "ax[0].semilogx(w, 20*np.log10(gain))\n",
    "ax[1].semilogx(w, phase*180/np.pi)\n",
    "\n",
    "ax[0].grid(which=\"both\", ls=':')\n",
    "ax[0].set_ylabel('Gain [dB]')\n",
    "ax[1].grid(which=\"both\", ls=':')\n",
    "ax[1].set_xlabel('$\\omega$ [rad/s]')\n",
    "ax[1].set_ylabel('Phase [deg]')\n",
    "fig.tight_layout()\n",
    "\n",
    "#fig.savefig(\"test.pdf\", transparent=True, bbox_inches=\"tight\", pad_inches=0.0)"
   ]
  },
  {
   "cell_type": "markdown",
   "metadata": {},
   "source": [
    "## ゲインチューニング\n",
    "### ステップ応答法"
   ]
  },
  {
   "cell_type": "markdown",
   "metadata": {},
   "source": [
    "ステップ応答の計測"
   ]
  },
  {
   "cell_type": "code",
   "execution_count": 3,
   "metadata": {},
   "outputs": [
    {
     "data": {
      "text/plain": [
       "array([ 0.68493029, -0.10034948])"
      ]
     },
     "execution_count": 3,
     "metadata": {},
     "output_type": "execute_result"
    }
   ],
   "source": [
    "# 台車系のモデル\n",
    "a = 6.25\n",
    "b = 4.36\n",
    "P = tf([0, b], [1, a, 0])\n",
    "\n",
    "y, t = step(P, np.arange(0, 1, 0.01))\n",
    "\n",
    "# ある程度時間が経過したあとの応答を１次関数で近似する\n",
    "yslice = y[40::]\n",
    "tslice = t[40::]\n",
    "p = np.polyfit(tslice, yslice, 1)\n",
    "p"
   ]
  },
  {
   "cell_type": "markdown",
   "metadata": {},
   "source": [
    "無定位系の応答"
   ]
  },
  {
   "cell_type": "code",
   "execution_count": 4,
   "metadata": {},
   "outputs": [
    {
     "data": {
      "image/png": "[encoded data removed]",
      "text/plain": [
       "<Figure size 216x165.6 with 1 Axes>"
      ]
     },
     "metadata": {
      "needs_background": "light"
     },
     "output_type": "display_data"
    }
   ],
   "source": [
    "fig, ax = plt.subplots(figsize=(3, 2.3))\n",
    "y, t = step(P, np.arange(0, 1, 0.01) )\n",
    "ax.plot(t, y)\n",
    "ax.plot(t, np.poly1d( p )(t))\n",
    "ax.set_xlabel('t')\n",
    "ax.set_ylabel('y')\n",
    "ax.grid(ls=':')\n",
    "\n",
    "#fig.savefig(\"test.pdf\", transparent=True, bbox_inches=\"tight\", pad_inches=0.0)"
   ]
  },
  {
   "cell_type": "markdown",
   "metadata": {},
   "source": [
    "### 限界感度法"
   ]
  },
  {
   "cell_type": "markdown",
   "metadata": {},
   "source": [
    "## 限界感度法"
   ]
  },
  {
   "cell_type": "markdown",
   "metadata": {},
   "source": [
    "### 無駄時間要素"
   ]
  },
  {
   "cell_type": "code",
   "execution_count": 28,
   "metadata": {},
   "outputs": [
    {
     "data": {
      "text/latex": [
       "$$\\frac{-s + 400}{0.01 s^3 + 4.015 s^2 + 6.981 s + 392.4}$$"
      ],
      "text/plain": [
       "\n",
       "               -s + 400\n",
       "--------------------------------------\n",
       "0.01 s^3 + 4.015 s^2 + 6.981 s + 392.4"
      ]
     },
     "execution_count": 28,
     "metadata": {},
     "output_type": "execute_result"
    }
   ],
   "source": [
    "num_delay, den_delay = pade( 0.005, 1)\n",
    "Pdelay = P * tf(num_delay, den_delay)\n",
    "Pdelay"
   ]
  },
  {
   "cell_type": "markdown",
   "metadata": {},
   "source": [
    "### チューニング"
   ]
  },
  {
   "cell_type": "code",
   "execution_count": 31,
   "metadata": {},
   "outputs": [
    {
     "data": {
      "image/png": "[encoded data removed]",
      "text/plain": [
       "<Figure size 216x165.6 with 1 Axes>"
      ]
     },
     "metadata": {
      "needs_background": "light"
     },
     "output_type": "display_data"
    }
   ],
   "source": [
    "from scipy import signal\n",
    "\n",
    "fig, ax = plt.subplots(figsize=(3, 2.3))\n",
    "\n",
    "kp0 = 2.9\n",
    "C = tf([0, kp0], [0, 1])\n",
    "Gyr = feedback(Pdelay*C, 1)\n",
    "y,t = step(Gyr, np.arange(0, 2, 0.01))\n",
    "\n",
    "[maxId] = signal.argrelmax(y)\n",
    "\n",
    "ax.plot(t, y*ref, color='k')\n",
    "ax.plot(t[maxId], y[maxId]*ref, 'bo')\n",
    "\n",
    "ax.axhline(ref, color='k', linewidth=0.5)    \n",
    "ax.set_xlim(0, 2)\n",
    "ax.set_ylim(0, 50)\n",
    "ax.grid(ls=':')\n",
    "\n",
    "#fig.savefig(\"tune_zn.pdf\", transparent=True, bbox_inches=\"tight\", pad_inches=0.0)"
   ]
  },
  {
   "cell_type": "markdown",
   "metadata": {},
   "source": [
    "### モデルマッチング"
   ]
  },
  {
   "cell_type": "markdown",
   "metadata": {},
   "source": [
    "### 制御系設計の例題"
   ]
  },
  {
   "cell_type": "markdown",
   "metadata": {},
   "source": [
    "### 制御系設計の例"
   ]
  },
  {
   "cell_type": "code",
   "execution_count": 24,
   "metadata": {},
   "outputs": [],
   "source": [
    "g  = 9.81                # 重力加速度[m/s^2]\n",
    "l  = 0.2                 # アームの長さ[m]\n",
    "m  = 0.5                 # アームの質量[kg]\n",
    "mu = 1.5e-2              # 粘性摩擦係数[kg*m^2/s]\n",
    "J  = 1.0e-2              # 慣性モーメント[kg*m^2]\n",
    "\n",
    "ref = 30\n",
    "\n",
    "P = tf( [0,1], [J, mu, m*g*l] )"
   ]
  },
  {
   "cell_type": "code",
   "execution_count": 25,
   "metadata": {},
   "outputs": [],
   "source": [
    "alpha1 = 2\n",
    "alpha2 = 2\n",
    "omega_n = 12\n",
    "\n",
    "kp = J*alpha1*omega_n**2-m*g*l\n",
    "ki = J*omega_n**3\n",
    "kd = J*alpha2*omega_n - c\n",
    "\n",
    "C1 = tf([kd, kp, ki], [1, 0])\n",
    "C2 = tf([0, ki], [kd, kp, ki])"
   ]
  },
  {
   "cell_type": "code",
   "execution_count": 30,
   "metadata": {},
   "outputs": [
    {
     "data": {
      "text/plain": [
       "{'RiseTime': 0.19152485819152504,\n",
       " 'SettlingTime': 0.4963296629963302,\n",
       " 'SettlingMin': 0.9028806549649726,\n",
       " 'SettlingMax': 1.0814649583429348,\n",
       " 'Overshoot': 8.097897144500802,\n",
       " 'Undershoot': 0.0,\n",
       " 'Peak': 1.0814649583429348,\n",
       " 'PeakTime': 0.40990990990991033,\n",
       " 'SteadyStateValue': 1.0004495803440812}"
      ]
     },
     "execution_count": 30,
     "metadata": {},
     "output_type": "execute_result"
    },
    {
     "data": {
      "image/png": "[encoded data removed]",
      "text/plain": [
       "<Figure size 216x165.6 with 1 Axes>"
      ]
     },
     "metadata": {
      "needs_background": "light"
     },
     "output_type": "display_data"
    }
   ],
   "source": [
    "Gyz = feedback(P*C1, 1)\n",
    "\n",
    "Td = np.arange(0, 2, 0.01)\n",
    "r = 1*(Td>0)\n",
    "\n",
    "#z, t, _ = lsim(C2, r, Td, 0)\n",
    "#y, _, _ = lsim(Gyz, z, Td, 0)\n",
    "\n",
    "fig, ax = plt.subplots(figsize=(3, 2.3))\n",
    "\n",
    "y, t = step(Gyz*C2, Td)\n",
    "ax.plot(t, y*ref, label='I-PD')\n",
    "\n",
    "ax.axhline(ref, linewidth=0.5)\n",
    "ax.axhline(ref*1.05, linewidth=0.5, c='r')  \n",
    "ax.axhline(ref*0.95, linewidth=0.5, c='r')  \n",
    "ax.axhline(ref*1.1, linewidth=0.5, c='g')  \n",
    "ax.grid(ls=':')\n",
    "\n",
    "ax.set_xlim(0, 2)\n",
    "ax.set_ylim(0,40)\n",
    "\n",
    "stepinfo(Gyz*C2, SettlingTimeThreshold=0.05)\n",
    "\n",
    "#fig.savefig(\"test.pdf\", transparent=True, bbox_inches=\"tight\", pad_inches=0.0)"
   ]
  },
  {
   "cell_type": "code",
   "execution_count": 31,
   "metadata": {},
   "outputs": [
    {
     "data": {
      "image/png": "[encoded data removed]",
      "text/plain": [
       "<Figure size 288x252 with 2 Axes>"
      ]
     },
     "metadata": {
      "needs_background": "light"
     },
     "output_type": "display_data"
    }
   ],
   "source": [
    "fig, ax = plt.subplots(2, 1, figsize=(4, 3.5)) \n",
    "\n",
    "gain, phase, w = bode(P/(1+P), logspace(-1,2), Plot=False)\n",
    "ax[0].semilogx(w, 20*np.log10(gain))\n",
    "ax[1].semilogx(w, phase*180/np.pi)\n",
    "\n",
    "gain, phase, w = bode(C2*Gyz, logspace(-1,2), Plot=False)\n",
    "ax[0].semilogx(w, 20*np.log10(gain))\n",
    "ax[1].semilogx(w, phase*180/np.pi)\n",
    "\n",
    "ax[0].grid(which=\"both\", ls=':')\n",
    "ax[0].set_ylabel('Gain [dB]')\n",
    "ax[1].grid(which=\"both\", ls=':')\n",
    "ax[1].set_xlabel('$\\omega$ [rad/s]')\n",
    "ax[1].set_ylabel('Phase [deg]')\n",
    "ax[1].set_ylim(-190,10)\n",
    "ax[1].set_yticks([-270,-180,-90,0])\n",
    "\n",
    "fig.tight_layout()"
   ]
  },
  {
   "cell_type": "code",
   "execution_count": null,
   "metadata": {},
   "outputs": [],
   "source": []
  },
  {
   "cell_type": "code",
   "execution_count": null,
   "metadata": {},
   "outputs": [],
   "source": []
  },
  {
   "cell_type": "code",
   "execution_count": null,
   "metadata": {},
   "outputs": [],
   "source": []
  },
  {
   "cell_type": "code",
   "execution_count": null,
   "metadata": {},
   "outputs": [],
   "source": []
  },
  {
   "cell_type": "markdown",
   "metadata": {},
   "source": [
    "## モデルマッチング "
   ]
  },
  {
   "cell_type": "code",
   "execution_count": null,
   "metadata": {},
   "outputs": [],
   "source": []
  },
  {
   "cell_type": "code",
   "execution_count": 10,
   "metadata": {},
   "outputs": [
    {
     "data": {
      "image/png": "[encoded data removed]",
      "text/latex": [
       "$\\displaystyle \\frac{mgl s}{k_{i}} + 1 + s^{2} \\left(\\frac{c}{k_{i}} + \\frac{k_{d}}{k_{i}} - \\frac{k_{p} mgl}{k_{i}^{2}}\\right) + s^{3} \\left(\\frac{J}{k_{i}} - \\frac{c k_{p}}{k_{i}^{2}} - \\frac{k_{d} k_{p}}{k_{i}^{2}} + \\frac{k_{p}^{2} mgl}{k_{i}^{3}}\\right) + O\\left(s^{4}\\right)$"
      ],
      "text/plain": [
       "                                        ⎛                       2    ⎞        \n",
       "mgl⋅s        2 ⎛c    k_d   kₚ⋅mgl⎞    3 ⎜J    c⋅kₚ   k_d⋅kₚ   kₚ ⋅mgl⎟    ⎛ 4⎞\n",
       "───── + 1 + s ⋅⎜── + ─── - ──────⎟ + s ⋅⎜── - ──── - ────── + ───────⎟ + O⎝s ⎠\n",
       "  kᵢ           ⎜kᵢ    kᵢ      2  ⎟      ⎜kᵢ     2       2         3  ⎟        \n",
       "               ⎝            kᵢ   ⎠      ⎝     kᵢ      kᵢ        kᵢ   ⎠        "
      ]
     },
     "execution_count": 10,
     "metadata": {},
     "output_type": "execute_result"
    }
   ],
   "source": [
    "import sympy as sp\n",
    "s = sp.Symbol('s')\n",
    "kp, kd, ki = sp.symbols('k_p k_d k_i')\n",
    "mgl, c, J = sp.symbols('mgl c J')\n",
    "sp.init_printing()\n",
    "\n",
    "G = (kp*s+ki)/(J*s**3 +(c+kd)*s**2 + (mgl + kp)*s + ki)\n",
    "sp.series(1/G, s, 0, 4)"
   ]
  },
  {
   "cell_type": "code",
   "execution_count": 11,
   "metadata": {},
   "outputs": [
    {
     "data": {
      "image/png": "[encoded data removed]",
      "text/latex": [
       "$\\displaystyle \\left[ \\left( J \\omega_{n}^{2}, \\  2 J \\omega_{n} \\zeta - c + \\frac{mgl}{2 \\omega_{n} \\zeta}, \\  \\frac{mgl \\omega_{n}}{2 \\zeta}\\right)\\right]$"
      ],
      "text/plain": [
       "⎡⎛    2                  mgl    mgl⋅ωₙ⎞⎤\n",
       "⎢⎜J⋅ωₙ , 2⋅J⋅ωₙ⋅ζ - c + ──────, ──────⎟⎥\n",
       "⎣⎝                      2⋅ωₙ⋅ζ   2⋅ζ  ⎠⎦"
      ]
     },
     "execution_count": 11,
     "metadata": {},
     "output_type": "execute_result"
    }
   ],
   "source": [
    "import sympy as sp\n",
    "z, wn = sp.symbols('zeta omega_n')\n",
    "kp, kd, ki = sp.symbols('k_p k_d k_i')\n",
    "mgl,c,J = sp.symbols('mgl c J')\n",
    "sp.init_printing()\n",
    "\n",
    "f1 = mgl/ki-2*z/wn\n",
    "f2 = (c+kd)/ki-mgl*kp/(ki**2)-1/(wn**2)\n",
    "f3 = J/ki-kp*(c+kd)/(ki**2)+mgl*kp**2/(ki**3)\n",
    "sp.solve([f1, f2, f3],[kp, kd, ki])"
   ]
  },
  {
   "cell_type": "code",
   "execution_count": 32,
   "metadata": {},
   "outputs": [
    {
     "data": {
      "image/png": "[encoded data removed]",
      "text/plain": [
       "<Figure size 288x252 with 2 Axes>"
      ]
     },
     "metadata": {
      "needs_background": "light"
     },
     "output_type": "display_data"
    }
   ],
   "source": [
    "fig, ax = plt.subplots(2, 1, figsize=(4, 3.5)) \n",
    "\n",
    "gain, phase, w = bode(P, logspace(-1,2), Plot=False)\n",
    "ax[0].semilogx(w, 20*np.log10(gain))\n",
    "ax[1].semilogx(w, phase*180/np.pi)\n",
    "\n",
    "gain, phase, w = bode(P*C1, logspace(-1,2), Plot=False)\n",
    "ax[0].semilogx(w, 20*np.log10(gain))\n",
    "ax[1].semilogx(w, phase*180/np.pi)\n",
    "\n",
    "ax[0].grid(which=\"both\", ls=':')\n",
    "ax[0].set_ylabel('Gain [dB]')\n",
    "ax[1].grid(which=\"both\", ls=':')\n",
    "ax[1].set_xlabel('$\\omega$ [rad/s]')\n",
    "ax[1].set_ylabel('Phase [deg]')\n",
    "ax[1].set_ylim(-190,10)\n",
    "ax[1].set_yticks([-180,-90,0])\n",
    "\n",
    "fig.tight_layout()"
   ]
  },
  {
   "cell_type": "code",
   "execution_count": null,
   "metadata": {},
   "outputs": [],
   "source": []
  }
 ],
 "metadata": {
  "kernelspec": {
   "display_name": "Python 3",
   "language": "python",
   "name": "python3"
  },
  "language_info": {
   "codemirror_mode": {
    "name": "ipython",
    "version": 3
   },
   "file_extension": ".py",
   "mimetype": "text/x-python",
   "name": "python",
   "nbconvert_exporter": "python",
   "pygments_lexer": "ipython3",
   "version": "3.7.6"
  }
 },
 "nbformat": 4,
 "nbformat_minor": 4
}
